{
 "cells": [
  {
   "cell_type": "markdown",
   "metadata": {},
   "source": [
    "### The mojor Steps involved are:-\n",
    "1. Reading the Dataset.\n",
    "2. Data Cleaning.\n",
    "3. Data Preparation\n",
    "4. Train-Test split\n",
    "5. Feature Selection using RFE\n",
    "6. Model Formation\n",
    "7. Plotting ROC curve\n",
    "8. Prediction Analysis"
   ]
  },
  {
   "cell_type": "code",
   "execution_count": 1,
   "metadata": {},
   "outputs": [],
   "source": [
    "import warnings\n",
    "warnings.filterwarnings('ignore')"
   ]
  },
  {
   "cell_type": "code",
   "execution_count": 2,
   "metadata": {},
   "outputs": [],
   "source": [
    "# importing the basic libraries\n",
    "import numpy as np\n",
    "import pandas as pd\n",
    "\n",
    "# importing the libraries for Data Visualisation\n",
    "import matplotlib.pyplot as plt\n",
    "import seaborn as sns\n",
    "%matplotlib inline"
   ]
  },
  {
   "cell_type": "code",
   "execution_count": 3,
   "metadata": {},
   "outputs": [],
   "source": [
    "# importing model formation libraries\n",
    "from sklearn.model_selection import train_test_split\n",
    "from sklearn.preprocessing import StandardScaler\n",
    "from sklearn.feature_selection import RFE\n",
    "from sklearn.linear_model import LogisticRegression\n",
    "from sklearn import metrics\n",
    "\n",
    "import statsmodels.api as sm\n",
    "from statsmodels.stats.outliers_influence import variance_inflation_factor"
   ]
  },
  {
   "cell_type": "markdown",
   "metadata": {},
   "source": [
    "## 1. Reading the Dataset"
   ]
  },
  {
   "cell_type": "code",
   "execution_count": 4,
   "metadata": {},
   "outputs": [
    {
     "data": {
      "text/html": [
       "<div>\n",
       "<style scoped>\n",
       "    .dataframe tbody tr th:only-of-type {\n",
       "        vertical-align: middle;\n",
       "    }\n",
       "\n",
       "    .dataframe tbody tr th {\n",
       "        vertical-align: top;\n",
       "    }\n",
       "\n",
       "    .dataframe thead th {\n",
       "        text-align: right;\n",
       "    }\n",
       "</style>\n",
       "<table border=\"1\" class=\"dataframe\">\n",
       "  <thead>\n",
       "    <tr style=\"text-align: right;\">\n",
       "      <th></th>\n",
       "      <th>Prospect ID</th>\n",
       "      <th>Lead Number</th>\n",
       "      <th>Lead Origin</th>\n",
       "      <th>Lead Source</th>\n",
       "      <th>Do Not Email</th>\n",
       "      <th>Do Not Call</th>\n",
       "      <th>Converted</th>\n",
       "      <th>TotalVisits</th>\n",
       "      <th>Total Time Spent on Website</th>\n",
       "      <th>Page Views Per Visit</th>\n",
       "      <th>...</th>\n",
       "      <th>Get updates on DM Content</th>\n",
       "      <th>Lead Profile</th>\n",
       "      <th>City</th>\n",
       "      <th>Asymmetrique Activity Index</th>\n",
       "      <th>Asymmetrique Profile Index</th>\n",
       "      <th>Asymmetrique Activity Score</th>\n",
       "      <th>Asymmetrique Profile Score</th>\n",
       "      <th>I agree to pay the amount through cheque</th>\n",
       "      <th>A free copy of Mastering The Interview</th>\n",
       "      <th>Last Notable Activity</th>\n",
       "    </tr>\n",
       "  </thead>\n",
       "  <tbody>\n",
       "    <tr>\n",
       "      <th>0</th>\n",
       "      <td>7927b2df-8bba-4d29-b9a2-b6e0beafe620</td>\n",
       "      <td>660737</td>\n",
       "      <td>API</td>\n",
       "      <td>Olark Chat</td>\n",
       "      <td>No</td>\n",
       "      <td>No</td>\n",
       "      <td>0</td>\n",
       "      <td>0.0</td>\n",
       "      <td>0</td>\n",
       "      <td>0.0</td>\n",
       "      <td>...</td>\n",
       "      <td>No</td>\n",
       "      <td>Select</td>\n",
       "      <td>Select</td>\n",
       "      <td>02.Medium</td>\n",
       "      <td>02.Medium</td>\n",
       "      <td>15.0</td>\n",
       "      <td>15.0</td>\n",
       "      <td>No</td>\n",
       "      <td>No</td>\n",
       "      <td>Modified</td>\n",
       "    </tr>\n",
       "    <tr>\n",
       "      <th>1</th>\n",
       "      <td>2a272436-5132-4136-86fa-dcc88c88f482</td>\n",
       "      <td>660728</td>\n",
       "      <td>API</td>\n",
       "      <td>Organic Search</td>\n",
       "      <td>No</td>\n",
       "      <td>No</td>\n",
       "      <td>0</td>\n",
       "      <td>5.0</td>\n",
       "      <td>674</td>\n",
       "      <td>2.5</td>\n",
       "      <td>...</td>\n",
       "      <td>No</td>\n",
       "      <td>Select</td>\n",
       "      <td>Select</td>\n",
       "      <td>02.Medium</td>\n",
       "      <td>02.Medium</td>\n",
       "      <td>15.0</td>\n",
       "      <td>15.0</td>\n",
       "      <td>No</td>\n",
       "      <td>No</td>\n",
       "      <td>Email Opened</td>\n",
       "    </tr>\n",
       "    <tr>\n",
       "      <th>2</th>\n",
       "      <td>8cc8c611-a219-4f35-ad23-fdfd2656bd8a</td>\n",
       "      <td>660727</td>\n",
       "      <td>Landing Page Submission</td>\n",
       "      <td>Direct Traffic</td>\n",
       "      <td>No</td>\n",
       "      <td>No</td>\n",
       "      <td>1</td>\n",
       "      <td>2.0</td>\n",
       "      <td>1532</td>\n",
       "      <td>2.0</td>\n",
       "      <td>...</td>\n",
       "      <td>No</td>\n",
       "      <td>Potential Lead</td>\n",
       "      <td>Mumbai</td>\n",
       "      <td>02.Medium</td>\n",
       "      <td>01.High</td>\n",
       "      <td>14.0</td>\n",
       "      <td>20.0</td>\n",
       "      <td>No</td>\n",
       "      <td>Yes</td>\n",
       "      <td>Email Opened</td>\n",
       "    </tr>\n",
       "    <tr>\n",
       "      <th>3</th>\n",
       "      <td>0cc2df48-7cf4-4e39-9de9-19797f9b38cc</td>\n",
       "      <td>660719</td>\n",
       "      <td>Landing Page Submission</td>\n",
       "      <td>Direct Traffic</td>\n",
       "      <td>No</td>\n",
       "      <td>No</td>\n",
       "      <td>0</td>\n",
       "      <td>1.0</td>\n",
       "      <td>305</td>\n",
       "      <td>1.0</td>\n",
       "      <td>...</td>\n",
       "      <td>No</td>\n",
       "      <td>Select</td>\n",
       "      <td>Mumbai</td>\n",
       "      <td>02.Medium</td>\n",
       "      <td>01.High</td>\n",
       "      <td>13.0</td>\n",
       "      <td>17.0</td>\n",
       "      <td>No</td>\n",
       "      <td>No</td>\n",
       "      <td>Modified</td>\n",
       "    </tr>\n",
       "    <tr>\n",
       "      <th>4</th>\n",
       "      <td>3256f628-e534-4826-9d63-4a8b88782852</td>\n",
       "      <td>660681</td>\n",
       "      <td>Landing Page Submission</td>\n",
       "      <td>Google</td>\n",
       "      <td>No</td>\n",
       "      <td>No</td>\n",
       "      <td>1</td>\n",
       "      <td>2.0</td>\n",
       "      <td>1428</td>\n",
       "      <td>1.0</td>\n",
       "      <td>...</td>\n",
       "      <td>No</td>\n",
       "      <td>Select</td>\n",
       "      <td>Mumbai</td>\n",
       "      <td>02.Medium</td>\n",
       "      <td>01.High</td>\n",
       "      <td>15.0</td>\n",
       "      <td>18.0</td>\n",
       "      <td>No</td>\n",
       "      <td>No</td>\n",
       "      <td>Modified</td>\n",
       "    </tr>\n",
       "    <tr>\n",
       "      <th>5</th>\n",
       "      <td>2058ef08-2858-443e-a01f-a9237db2f5ce</td>\n",
       "      <td>660680</td>\n",
       "      <td>API</td>\n",
       "      <td>Olark Chat</td>\n",
       "      <td>No</td>\n",
       "      <td>No</td>\n",
       "      <td>0</td>\n",
       "      <td>0.0</td>\n",
       "      <td>0</td>\n",
       "      <td>0.0</td>\n",
       "      <td>...</td>\n",
       "      <td>No</td>\n",
       "      <td>NaN</td>\n",
       "      <td>NaN</td>\n",
       "      <td>01.High</td>\n",
       "      <td>02.Medium</td>\n",
       "      <td>17.0</td>\n",
       "      <td>15.0</td>\n",
       "      <td>No</td>\n",
       "      <td>No</td>\n",
       "      <td>Modified</td>\n",
       "    </tr>\n",
       "    <tr>\n",
       "      <th>6</th>\n",
       "      <td>9fae7df4-169d-489b-afe4-0f3d752542ed</td>\n",
       "      <td>660673</td>\n",
       "      <td>Landing Page Submission</td>\n",
       "      <td>Google</td>\n",
       "      <td>No</td>\n",
       "      <td>No</td>\n",
       "      <td>1</td>\n",
       "      <td>2.0</td>\n",
       "      <td>1640</td>\n",
       "      <td>2.0</td>\n",
       "      <td>...</td>\n",
       "      <td>No</td>\n",
       "      <td>Potential Lead</td>\n",
       "      <td>Mumbai</td>\n",
       "      <td>02.Medium</td>\n",
       "      <td>01.High</td>\n",
       "      <td>14.0</td>\n",
       "      <td>20.0</td>\n",
       "      <td>No</td>\n",
       "      <td>No</td>\n",
       "      <td>Modified</td>\n",
       "    </tr>\n",
       "    <tr>\n",
       "      <th>7</th>\n",
       "      <td>20ef72a2-fb3b-45e0-924e-551c5fa59095</td>\n",
       "      <td>660664</td>\n",
       "      <td>API</td>\n",
       "      <td>Olark Chat</td>\n",
       "      <td>No</td>\n",
       "      <td>No</td>\n",
       "      <td>0</td>\n",
       "      <td>0.0</td>\n",
       "      <td>0</td>\n",
       "      <td>0.0</td>\n",
       "      <td>...</td>\n",
       "      <td>No</td>\n",
       "      <td>NaN</td>\n",
       "      <td>NaN</td>\n",
       "      <td>02.Medium</td>\n",
       "      <td>02.Medium</td>\n",
       "      <td>15.0</td>\n",
       "      <td>15.0</td>\n",
       "      <td>No</td>\n",
       "      <td>No</td>\n",
       "      <td>Modified</td>\n",
       "    </tr>\n",
       "    <tr>\n",
       "      <th>8</th>\n",
       "      <td>cfa0128c-a0da-4656-9d47-0aa4e67bf690</td>\n",
       "      <td>660624</td>\n",
       "      <td>Landing Page Submission</td>\n",
       "      <td>Direct Traffic</td>\n",
       "      <td>No</td>\n",
       "      <td>No</td>\n",
       "      <td>0</td>\n",
       "      <td>2.0</td>\n",
       "      <td>71</td>\n",
       "      <td>2.0</td>\n",
       "      <td>...</td>\n",
       "      <td>No</td>\n",
       "      <td>NaN</td>\n",
       "      <td>Thane &amp; Outskirts</td>\n",
       "      <td>02.Medium</td>\n",
       "      <td>02.Medium</td>\n",
       "      <td>14.0</td>\n",
       "      <td>14.0</td>\n",
       "      <td>No</td>\n",
       "      <td>Yes</td>\n",
       "      <td>Email Opened</td>\n",
       "    </tr>\n",
       "    <tr>\n",
       "      <th>9</th>\n",
       "      <td>af465dfc-7204-4130-9e05-33231863c4b5</td>\n",
       "      <td>660616</td>\n",
       "      <td>API</td>\n",
       "      <td>Google</td>\n",
       "      <td>No</td>\n",
       "      <td>No</td>\n",
       "      <td>0</td>\n",
       "      <td>4.0</td>\n",
       "      <td>58</td>\n",
       "      <td>4.0</td>\n",
       "      <td>...</td>\n",
       "      <td>No</td>\n",
       "      <td>NaN</td>\n",
       "      <td>Mumbai</td>\n",
       "      <td>02.Medium</td>\n",
       "      <td>02.Medium</td>\n",
       "      <td>13.0</td>\n",
       "      <td>16.0</td>\n",
       "      <td>No</td>\n",
       "      <td>No</td>\n",
       "      <td>Email Opened</td>\n",
       "    </tr>\n",
       "  </tbody>\n",
       "</table>\n",
       "<p>10 rows × 37 columns</p>\n",
       "</div>"
      ],
      "text/plain": [
       "                            Prospect ID  Lead Number              Lead Origin  \\\n",
       "0  7927b2df-8bba-4d29-b9a2-b6e0beafe620       660737                      API   \n",
       "1  2a272436-5132-4136-86fa-dcc88c88f482       660728                      API   \n",
       "2  8cc8c611-a219-4f35-ad23-fdfd2656bd8a       660727  Landing Page Submission   \n",
       "3  0cc2df48-7cf4-4e39-9de9-19797f9b38cc       660719  Landing Page Submission   \n",
       "4  3256f628-e534-4826-9d63-4a8b88782852       660681  Landing Page Submission   \n",
       "5  2058ef08-2858-443e-a01f-a9237db2f5ce       660680                      API   \n",
       "6  9fae7df4-169d-489b-afe4-0f3d752542ed       660673  Landing Page Submission   \n",
       "7  20ef72a2-fb3b-45e0-924e-551c5fa59095       660664                      API   \n",
       "8  cfa0128c-a0da-4656-9d47-0aa4e67bf690       660624  Landing Page Submission   \n",
       "9  af465dfc-7204-4130-9e05-33231863c4b5       660616                      API   \n",
       "\n",
       "      Lead Source Do Not Email Do Not Call  Converted  TotalVisits  \\\n",
       "0      Olark Chat           No          No          0          0.0   \n",
       "1  Organic Search           No          No          0          5.0   \n",
       "2  Direct Traffic           No          No          1          2.0   \n",
       "3  Direct Traffic           No          No          0          1.0   \n",
       "4          Google           No          No          1          2.0   \n",
       "5      Olark Chat           No          No          0          0.0   \n",
       "6          Google           No          No          1          2.0   \n",
       "7      Olark Chat           No          No          0          0.0   \n",
       "8  Direct Traffic           No          No          0          2.0   \n",
       "9          Google           No          No          0          4.0   \n",
       "\n",
       "   Total Time Spent on Website  Page Views Per Visit  ...  \\\n",
       "0                            0                   0.0  ...   \n",
       "1                          674                   2.5  ...   \n",
       "2                         1532                   2.0  ...   \n",
       "3                          305                   1.0  ...   \n",
       "4                         1428                   1.0  ...   \n",
       "5                            0                   0.0  ...   \n",
       "6                         1640                   2.0  ...   \n",
       "7                            0                   0.0  ...   \n",
       "8                           71                   2.0  ...   \n",
       "9                           58                   4.0  ...   \n",
       "\n",
       "  Get updates on DM Content    Lead Profile               City  \\\n",
       "0                        No          Select             Select   \n",
       "1                        No          Select             Select   \n",
       "2                        No  Potential Lead             Mumbai   \n",
       "3                        No          Select             Mumbai   \n",
       "4                        No          Select             Mumbai   \n",
       "5                        No             NaN                NaN   \n",
       "6                        No  Potential Lead             Mumbai   \n",
       "7                        No             NaN                NaN   \n",
       "8                        No             NaN  Thane & Outskirts   \n",
       "9                        No             NaN             Mumbai   \n",
       "\n",
       "  Asymmetrique Activity Index Asymmetrique Profile Index  \\\n",
       "0                   02.Medium                  02.Medium   \n",
       "1                   02.Medium                  02.Medium   \n",
       "2                   02.Medium                    01.High   \n",
       "3                   02.Medium                    01.High   \n",
       "4                   02.Medium                    01.High   \n",
       "5                     01.High                  02.Medium   \n",
       "6                   02.Medium                    01.High   \n",
       "7                   02.Medium                  02.Medium   \n",
       "8                   02.Medium                  02.Medium   \n",
       "9                   02.Medium                  02.Medium   \n",
       "\n",
       "  Asymmetrique Activity Score Asymmetrique Profile Score  \\\n",
       "0                        15.0                       15.0   \n",
       "1                        15.0                       15.0   \n",
       "2                        14.0                       20.0   \n",
       "3                        13.0                       17.0   \n",
       "4                        15.0                       18.0   \n",
       "5                        17.0                       15.0   \n",
       "6                        14.0                       20.0   \n",
       "7                        15.0                       15.0   \n",
       "8                        14.0                       14.0   \n",
       "9                        13.0                       16.0   \n",
       "\n",
       "  I agree to pay the amount through cheque  \\\n",
       "0                                       No   \n",
       "1                                       No   \n",
       "2                                       No   \n",
       "3                                       No   \n",
       "4                                       No   \n",
       "5                                       No   \n",
       "6                                       No   \n",
       "7                                       No   \n",
       "8                                       No   \n",
       "9                                       No   \n",
       "\n",
       "  A free copy of Mastering The Interview Last Notable Activity  \n",
       "0                                     No              Modified  \n",
       "1                                     No          Email Opened  \n",
       "2                                    Yes          Email Opened  \n",
       "3                                     No              Modified  \n",
       "4                                     No              Modified  \n",
       "5                                     No              Modified  \n",
       "6                                     No              Modified  \n",
       "7                                     No              Modified  \n",
       "8                                    Yes          Email Opened  \n",
       "9                                     No          Email Opened  \n",
       "\n",
       "[10 rows x 37 columns]"
      ]
     },
     "execution_count": 4,
     "metadata": {},
     "output_type": "execute_result"
    }
   ],
   "source": [
    "#Importing dataset\n",
    "df_leads = pd.read_csv('D:/Lead Scoring case study/Leads.csv')\n",
    "df_leads.head(10)"
   ]
  },
  {
   "cell_type": "code",
   "execution_count": 5,
   "metadata": {},
   "outputs": [
    {
     "name": "stdout",
     "output_type": "stream",
     "text": [
      "9240 - Rows and  37 - Columns\n"
     ]
    }
   ],
   "source": [
    "print(df_leads.shape[0],'- Rows and ', df_leads.shape[1],'- Columns')"
   ]
  },
  {
   "cell_type": "code",
   "execution_count": 6,
   "metadata": {
    "scrolled": true
   },
   "outputs": [
    {
     "name": "stdout",
     "output_type": "stream",
     "text": [
      "<class 'pandas.core.frame.DataFrame'>\n",
      "RangeIndex: 9240 entries, 0 to 9239\n",
      "Data columns (total 37 columns):\n",
      "Prospect ID                                      9240 non-null object\n",
      "Lead Number                                      9240 non-null int64\n",
      "Lead Origin                                      9240 non-null object\n",
      "Lead Source                                      9204 non-null object\n",
      "Do Not Email                                     9240 non-null object\n",
      "Do Not Call                                      9240 non-null object\n",
      "Converted                                        9240 non-null int64\n",
      "TotalVisits                                      9103 non-null float64\n",
      "Total Time Spent on Website                      9240 non-null int64\n",
      "Page Views Per Visit                             9103 non-null float64\n",
      "Last Activity                                    9137 non-null object\n",
      "Country                                          6779 non-null object\n",
      "Specialization                                   7802 non-null object\n",
      "How did you hear about X Education               7033 non-null object\n",
      "What is your current occupation                  6550 non-null object\n",
      "What matters most to you in choosing a course    6531 non-null object\n",
      "Search                                           9240 non-null object\n",
      "Magazine                                         9240 non-null object\n",
      "Newspaper Article                                9240 non-null object\n",
      "X Education Forums                               9240 non-null object\n",
      "Newspaper                                        9240 non-null object\n",
      "Digital Advertisement                            9240 non-null object\n",
      "Through Recommendations                          9240 non-null object\n",
      "Receive More Updates About Our Courses           9240 non-null object\n",
      "Tags                                             5887 non-null object\n",
      "Lead Quality                                     4473 non-null object\n",
      "Update me on Supply Chain Content                9240 non-null object\n",
      "Get updates on DM Content                        9240 non-null object\n",
      "Lead Profile                                     6531 non-null object\n",
      "City                                             7820 non-null object\n",
      "Asymmetrique Activity Index                      5022 non-null object\n",
      "Asymmetrique Profile Index                       5022 non-null object\n",
      "Asymmetrique Activity Score                      5022 non-null float64\n",
      "Asymmetrique Profile Score                       5022 non-null float64\n",
      "I agree to pay the amount through cheque         9240 non-null object\n",
      "A free copy of Mastering The Interview           9240 non-null object\n",
      "Last Notable Activity                            9240 non-null object\n",
      "dtypes: float64(4), int64(3), object(30)\n",
      "memory usage: 2.6+ MB\n"
     ]
    }
   ],
   "source": [
    "df_leads.info()"
   ]
  },
  {
   "cell_type": "markdown",
   "metadata": {},
   "source": [
    "## 2. Data Cleaning"
   ]
  },
  {
   "cell_type": "markdown",
   "metadata": {},
   "source": [
    "## Analyse non - numeric attributes"
   ]
  },
  {
   "cell_type": "code",
   "execution_count": 7,
   "metadata": {},
   "outputs": [
    {
     "data": {
      "text/plain": [
       "array(['API', 'Landing Page Submission', 'Lead Add Form', 'Lead Import',\n",
       "       'Quick Add Form'], dtype=object)"
      ]
     },
     "execution_count": 7,
     "metadata": {},
     "output_type": "execute_result"
    }
   ],
   "source": [
    "df_leads['Lead Origin'].unique()"
   ]
  },
  {
   "cell_type": "code",
   "execution_count": 8,
   "metadata": {},
   "outputs": [
    {
     "data": {
      "text/plain": [
       "array(['Olark Chat', 'Organic Search', 'Direct Traffic', 'Google',\n",
       "       'Referral Sites', 'Welingak Website', 'Reference', 'google',\n",
       "       'Facebook', nan, 'blog', 'Pay per Click Ads', 'bing',\n",
       "       'Social Media', 'WeLearn', 'Click2call', 'Live Chat',\n",
       "       'welearnblog_Home', 'youtubechannel', 'testone', 'Press_Release',\n",
       "       'NC_EDM'], dtype=object)"
      ]
     },
     "execution_count": 8,
     "metadata": {},
     "output_type": "execute_result"
    }
   ],
   "source": [
    "df_leads['Lead Source'].unique()"
   ]
  },
  {
   "cell_type": "code",
   "execution_count": 9,
   "metadata": {},
   "outputs": [
    {
     "data": {
      "text/plain": [
       "array(['No', 'Yes'], dtype=object)"
      ]
     },
     "execution_count": 9,
     "metadata": {},
     "output_type": "execute_result"
    }
   ],
   "source": [
    "df_leads['Do Not Email'].unique()"
   ]
  },
  {
   "cell_type": "code",
   "execution_count": 10,
   "metadata": {},
   "outputs": [
    {
     "data": {
      "text/plain": [
       "array(['No', 'Yes'], dtype=object)"
      ]
     },
     "execution_count": 10,
     "metadata": {},
     "output_type": "execute_result"
    }
   ],
   "source": [
    "df_leads['Do Not Call'].unique()"
   ]
  },
  {
   "cell_type": "code",
   "execution_count": 11,
   "metadata": {},
   "outputs": [
    {
     "data": {
      "text/plain": [
       "array(['Page Visited on Website', 'Email Opened', 'Unreachable',\n",
       "       'Converted to Lead', 'Olark Chat Conversation', 'Email Bounced',\n",
       "       'Email Link Clicked', 'Form Submitted on Website', 'Unsubscribed',\n",
       "       'Had a Phone Conversation', 'View in browser link Clicked', nan,\n",
       "       'Approached upfront', 'SMS Sent', 'Visited Booth in Tradeshow',\n",
       "       'Resubscribed to emails', 'Email Received', 'Email Marked Spam'],\n",
       "      dtype=object)"
      ]
     },
     "execution_count": 11,
     "metadata": {},
     "output_type": "execute_result"
    }
   ],
   "source": [
    "df_leads['Last Activity'].unique()"
   ]
  },
  {
   "cell_type": "code",
   "execution_count": 12,
   "metadata": {},
   "outputs": [
    {
     "data": {
      "text/plain": [
       "array([nan, 'India', 'Russia', 'Kuwait', 'Oman', 'United Arab Emirates',\n",
       "       'United States', 'Australia', 'United Kingdom', 'Bahrain', 'Ghana',\n",
       "       'Singapore', 'Qatar', 'Saudi Arabia', 'Belgium', 'France',\n",
       "       'Sri Lanka', 'China', 'Canada', 'Netherlands', 'Sweden', 'Nigeria',\n",
       "       'Hong Kong', 'Germany', 'Asia/Pacific Region', 'Uganda', 'Kenya',\n",
       "       'Italy', 'South Africa', 'Tanzania', 'unknown', 'Malaysia',\n",
       "       'Liberia', 'Switzerland', 'Denmark', 'Philippines', 'Bangladesh',\n",
       "       'Vietnam', 'Indonesia'], dtype=object)"
      ]
     },
     "execution_count": 12,
     "metadata": {},
     "output_type": "execute_result"
    }
   ],
   "source": [
    "df_leads['Country'].unique()"
   ]
  },
  {
   "cell_type": "code",
   "execution_count": 13,
   "metadata": {},
   "outputs": [
    {
     "data": {
      "text/plain": [
       "array(['Select', 'Business Administration', 'Media and Advertising', nan,\n",
       "       'Supply Chain Management', 'IT Projects Management',\n",
       "       'Finance Management', 'Travel and Tourism',\n",
       "       'Human Resource Management', 'Marketing Management',\n",
       "       'Banking, Investment And Insurance', 'International Business',\n",
       "       'E-COMMERCE', 'Operations Management', 'Retail Management',\n",
       "       'Services Excellence', 'Hospitality Management',\n",
       "       'Rural and Agribusiness', 'Healthcare Management', 'E-Business'],\n",
       "      dtype=object)"
      ]
     },
     "execution_count": 13,
     "metadata": {},
     "output_type": "execute_result"
    }
   ],
   "source": [
    "df_leads['Specialization'].unique()"
   ]
  },
  {
   "cell_type": "code",
   "execution_count": 14,
   "metadata": {},
   "outputs": [
    {
     "data": {
      "text/plain": [
       "array(['Select', 'Word Of Mouth', 'Other', nan, 'Online Search',\n",
       "       'Multiple Sources', 'Advertisements', 'Student of SomeSchool',\n",
       "       'Email', 'Social Media', 'SMS'], dtype=object)"
      ]
     },
     "execution_count": 14,
     "metadata": {},
     "output_type": "execute_result"
    }
   ],
   "source": [
    "df_leads['How did you hear about X Education'].unique()"
   ]
  },
  {
   "cell_type": "code",
   "execution_count": 15,
   "metadata": {},
   "outputs": [
    {
     "data": {
      "text/plain": [
       "array(['Unemployed', 'Student', nan, 'Working Professional',\n",
       "       'Businessman', 'Other', 'Housewife'], dtype=object)"
      ]
     },
     "execution_count": 15,
     "metadata": {},
     "output_type": "execute_result"
    }
   ],
   "source": [
    "df_leads['What is your current occupation'].unique()"
   ]
  },
  {
   "cell_type": "code",
   "execution_count": 16,
   "metadata": {},
   "outputs": [
    {
     "data": {
      "text/plain": [
       "array(['Better Career Prospects', nan, 'Flexibility & Convenience',\n",
       "       'Other'], dtype=object)"
      ]
     },
     "execution_count": 16,
     "metadata": {},
     "output_type": "execute_result"
    }
   ],
   "source": [
    "df_leads['What matters most to you in choosing a course'].unique()\n"
   ]
  },
  {
   "cell_type": "code",
   "execution_count": 17,
   "metadata": {},
   "outputs": [
    {
     "data": {
      "text/plain": [
       "array(['No', 'Yes'], dtype=object)"
      ]
     },
     "execution_count": 17,
     "metadata": {},
     "output_type": "execute_result"
    }
   ],
   "source": [
    "df_leads['Search'].unique()"
   ]
  },
  {
   "cell_type": "code",
   "execution_count": 18,
   "metadata": {},
   "outputs": [
    {
     "data": {
      "text/plain": [
       "array(['No'], dtype=object)"
      ]
     },
     "execution_count": 18,
     "metadata": {},
     "output_type": "execute_result"
    }
   ],
   "source": [
    "df_leads['Magazine'].unique()"
   ]
  },
  {
   "cell_type": "code",
   "execution_count": 19,
   "metadata": {},
   "outputs": [
    {
     "data": {
      "text/plain": [
       "array(['No', 'Yes'], dtype=object)"
      ]
     },
     "execution_count": 19,
     "metadata": {},
     "output_type": "execute_result"
    }
   ],
   "source": [
    "df_leads['Newspaper Article'].unique()"
   ]
  },
  {
   "cell_type": "code",
   "execution_count": 20,
   "metadata": {},
   "outputs": [
    {
     "data": {
      "text/plain": [
       "array(['No', 'Yes'], dtype=object)"
      ]
     },
     "execution_count": 20,
     "metadata": {},
     "output_type": "execute_result"
    }
   ],
   "source": [
    "df_leads['X Education Forums'].unique()"
   ]
  },
  {
   "cell_type": "code",
   "execution_count": 21,
   "metadata": {},
   "outputs": [
    {
     "data": {
      "text/plain": [
       "array(['No', 'Yes'], dtype=object)"
      ]
     },
     "execution_count": 21,
     "metadata": {},
     "output_type": "execute_result"
    }
   ],
   "source": [
    "df_leads['Newspaper'].unique()"
   ]
  },
  {
   "cell_type": "code",
   "execution_count": 22,
   "metadata": {},
   "outputs": [
    {
     "data": {
      "text/plain": [
       "array(['No', 'Yes'], dtype=object)"
      ]
     },
     "execution_count": 22,
     "metadata": {},
     "output_type": "execute_result"
    }
   ],
   "source": [
    "df_leads['Digital Advertisement'].unique()"
   ]
  },
  {
   "cell_type": "code",
   "execution_count": 23,
   "metadata": {},
   "outputs": [
    {
     "data": {
      "text/plain": [
       "array(['No', 'Yes'], dtype=object)"
      ]
     },
     "execution_count": 23,
     "metadata": {},
     "output_type": "execute_result"
    }
   ],
   "source": [
    "df_leads['Through Recommendations'].unique()"
   ]
  },
  {
   "cell_type": "code",
   "execution_count": 24,
   "metadata": {},
   "outputs": [
    {
     "data": {
      "text/plain": [
       "array(['No'], dtype=object)"
      ]
     },
     "execution_count": 24,
     "metadata": {},
     "output_type": "execute_result"
    }
   ],
   "source": [
    "df_leads['Receive More Updates About Our Courses'].unique()"
   ]
  },
  {
   "cell_type": "code",
   "execution_count": 25,
   "metadata": {},
   "outputs": [
    {
     "data": {
      "text/plain": [
       "array(['Interested in other courses', 'Ringing',\n",
       "       'Will revert after reading the email', nan, 'Lost to EINS',\n",
       "       'In confusion whether part time or DLP', 'Busy', 'switched off',\n",
       "       'in touch with EINS', 'Already a student',\n",
       "       'Diploma holder (Not Eligible)', 'Graduation in progress',\n",
       "       'Closed by Horizzon', 'number not provided', 'opp hangup',\n",
       "       'Not doing further education', 'invalid number',\n",
       "       'wrong number given', 'Interested  in full time MBA',\n",
       "       'Still Thinking', 'Lost to Others',\n",
       "       'Shall take in the next coming month', 'Lateral student',\n",
       "       'Interested in Next batch', 'Recognition issue (DEC approval)',\n",
       "       'Want to take admission but has financial problems',\n",
       "       'University not recognized'], dtype=object)"
      ]
     },
     "execution_count": 25,
     "metadata": {},
     "output_type": "execute_result"
    }
   ],
   "source": [
    "df_leads['Tags'].unique()"
   ]
  },
  {
   "cell_type": "code",
   "execution_count": 26,
   "metadata": {},
   "outputs": [
    {
     "data": {
      "text/plain": [
       "array(['Low in Relevance', nan, 'Might be', 'Not Sure', 'Worst',\n",
       "       'High in Relevance'], dtype=object)"
      ]
     },
     "execution_count": 26,
     "metadata": {},
     "output_type": "execute_result"
    }
   ],
   "source": [
    "df_leads['Lead Quality'].unique()"
   ]
  },
  {
   "cell_type": "code",
   "execution_count": 27,
   "metadata": {},
   "outputs": [
    {
     "data": {
      "text/plain": [
       "array(['No'], dtype=object)"
      ]
     },
     "execution_count": 27,
     "metadata": {},
     "output_type": "execute_result"
    }
   ],
   "source": [
    "df_leads['Update me on Supply Chain Content'].unique()"
   ]
  },
  {
   "cell_type": "code",
   "execution_count": 28,
   "metadata": {},
   "outputs": [
    {
     "data": {
      "text/plain": [
       "array(['No'], dtype=object)"
      ]
     },
     "execution_count": 28,
     "metadata": {},
     "output_type": "execute_result"
    }
   ],
   "source": [
    "df_leads['Get updates on DM Content'].unique()"
   ]
  },
  {
   "cell_type": "code",
   "execution_count": 29,
   "metadata": {},
   "outputs": [
    {
     "data": {
      "text/plain": [
       "array(['Select', 'Potential Lead', nan, 'Other Leads', 'Lateral Student',\n",
       "       'Dual Specialization Student', 'Student of SomeSchool'],\n",
       "      dtype=object)"
      ]
     },
     "execution_count": 29,
     "metadata": {},
     "output_type": "execute_result"
    }
   ],
   "source": [
    "df_leads['Lead Profile'].unique()"
   ]
  },
  {
   "cell_type": "code",
   "execution_count": 30,
   "metadata": {},
   "outputs": [
    {
     "data": {
      "text/plain": [
       "array(['Select', 'Mumbai', nan, 'Thane & Outskirts', 'Other Metro Cities',\n",
       "       'Other Cities', 'Other Cities of Maharashtra', 'Tier II Cities'],\n",
       "      dtype=object)"
      ]
     },
     "execution_count": 30,
     "metadata": {},
     "output_type": "execute_result"
    }
   ],
   "source": [
    "df_leads['City'].unique()"
   ]
  },
  {
   "cell_type": "code",
   "execution_count": 31,
   "metadata": {},
   "outputs": [
    {
     "data": {
      "text/plain": [
       "array(['02.Medium', '01.High', '03.Low', nan], dtype=object)"
      ]
     },
     "execution_count": 31,
     "metadata": {},
     "output_type": "execute_result"
    }
   ],
   "source": [
    "df_leads['Asymmetrique Activity Index'].unique()"
   ]
  },
  {
   "cell_type": "code",
   "execution_count": 32,
   "metadata": {},
   "outputs": [
    {
     "data": {
      "text/plain": [
       "array(['02.Medium', '01.High', '03.Low', nan], dtype=object)"
      ]
     },
     "execution_count": 32,
     "metadata": {},
     "output_type": "execute_result"
    }
   ],
   "source": [
    "df_leads['Asymmetrique Profile Index'].unique()"
   ]
  },
  {
   "cell_type": "code",
   "execution_count": 33,
   "metadata": {},
   "outputs": [
    {
     "data": {
      "text/plain": [
       "array(['No'], dtype=object)"
      ]
     },
     "execution_count": 33,
     "metadata": {},
     "output_type": "execute_result"
    }
   ],
   "source": [
    "df_leads['I agree to pay the amount through cheque'].unique()"
   ]
  },
  {
   "cell_type": "code",
   "execution_count": 34,
   "metadata": {},
   "outputs": [
    {
     "data": {
      "text/plain": [
       "array(['No', 'Yes'], dtype=object)"
      ]
     },
     "execution_count": 34,
     "metadata": {},
     "output_type": "execute_result"
    }
   ],
   "source": [
    "df_leads['A free copy of Mastering The Interview'].unique()"
   ]
  },
  {
   "cell_type": "code",
   "execution_count": 35,
   "metadata": {},
   "outputs": [
    {
     "data": {
      "text/plain": [
       "array(['Modified', 'Email Opened', 'Page Visited on Website',\n",
       "       'Email Bounced', 'Email Link Clicked', 'Unreachable',\n",
       "       'Unsubscribed', 'Had a Phone Conversation',\n",
       "       'Olark Chat Conversation', 'SMS Sent', 'Approached upfront',\n",
       "       'Resubscribed to emails', 'View in browser link Clicked',\n",
       "       'Form Submitted on Website', 'Email Received', 'Email Marked Spam'],\n",
       "      dtype=object)"
      ]
     },
     "execution_count": 35,
     "metadata": {},
     "output_type": "execute_result"
    }
   ],
   "source": [
    "df_leads['Last Notable Activity'].unique()"
   ]
  },
  {
   "cell_type": "markdown",
   "metadata": {},
   "source": [
    "## Above Non- Numeric columns \n",
    "1 Magazine \n",
    "2 Receive More Updates About Our Courses ,\n",
    "3 Update me on Supply Chain Content,\n",
    "4 Get updates on DM Content,\n",
    "5 I agree to pay the amount through cheque,\n",
    "### have same value as 'no' which will have no impact on model,  therefore we can directly drop those columns"
   ]
  },
  {
   "cell_type": "code",
   "execution_count": 36,
   "metadata": {},
   "outputs": [],
   "source": [
    "df_leads = df_leads.drop(['Magazine','Receive More Updates About Our Courses','Update me on Supply Chain Content','Get updates on DM Content','I agree to pay the amount through cheque'],axis=1)"
   ]
  },
  {
   "cell_type": "markdown",
   "metadata": {},
   "source": [
    "### Prospect ID have no information other than unique customer ID and do not have any particular pattern."
   ]
  },
  {
   "cell_type": "code",
   "execution_count": 37,
   "metadata": {
    "scrolled": true
   },
   "outputs": [
    {
     "data": {
      "text/plain": [
       "(9240, 32)"
      ]
     },
     "execution_count": 37,
     "metadata": {},
     "output_type": "execute_result"
    }
   ],
   "source": [
    "df_leads.shape"
   ]
  },
  {
   "cell_type": "markdown",
   "metadata": {},
   "source": [
    "### Other Numeric values columns"
   ]
  },
  {
   "cell_type": "code",
   "execution_count": 38,
   "metadata": {},
   "outputs": [
    {
     "data": {
      "text/plain": [
       "array([660737, 660728, 660727, ..., 579545, 579538, 579533], dtype=int64)"
      ]
     },
     "execution_count": 38,
     "metadata": {},
     "output_type": "execute_result"
    }
   ],
   "source": [
    "df_leads['Lead Number'].unique()"
   ]
  },
  {
   "cell_type": "code",
   "execution_count": 39,
   "metadata": {},
   "outputs": [
    {
     "data": {
      "text/plain": [
       "array([0, 1], dtype=int64)"
      ]
     },
     "execution_count": 39,
     "metadata": {},
     "output_type": "execute_result"
    }
   ],
   "source": [
    "df_leads['Converted'].unique()"
   ]
  },
  {
   "cell_type": "code",
   "execution_count": 40,
   "metadata": {},
   "outputs": [
    {
     "data": {
      "text/plain": [
       "array([  0.,   5.,   2.,   1.,   4.,   8.,  11.,   6.,   3.,   7.,  13.,\n",
       "        17.,  nan,   9.,  12.,  10.,  16.,  14.,  21.,  15.,  22.,  19.,\n",
       "        18.,  20.,  43.,  30.,  23.,  55., 141.,  25.,  27.,  29.,  24.,\n",
       "        28.,  26.,  74.,  41.,  54., 115., 251.,  32.,  42.])"
      ]
     },
     "execution_count": 40,
     "metadata": {},
     "output_type": "execute_result"
    }
   ],
   "source": [
    "df_leads['TotalVisits'].unique()\n"
   ]
  },
  {
   "cell_type": "code",
   "execution_count": 41,
   "metadata": {},
   "outputs": [
    {
     "data": {
      "text/plain": [
       "array([   0,  674, 1532, ...,  603,  483,  927], dtype=int64)"
      ]
     },
     "execution_count": 41,
     "metadata": {},
     "output_type": "execute_result"
    }
   ],
   "source": [
    "df_leads['Total Time Spent on Website'].unique()\n"
   ]
  },
  {
   "cell_type": "code",
   "execution_count": 42,
   "metadata": {},
   "outputs": [
    {
     "data": {
      "text/plain": [
       "array([ 0.  ,  2.5 ,  2.  ,  1.  ,  4.  ,  8.  ,  2.67, 11.  ,  5.  ,\n",
       "        6.  ,  3.  ,  1.33,  1.5 ,  3.5 ,  7.  ,  2.33, 13.  ,  8.5 ,\n",
       "        5.5 ,  1.67,   nan,  4.5 ,  3.33, 16.  , 12.  ,  1.71,  1.8 ,\n",
       "        6.5 ,  4.33, 14.  ,  3.4 , 10.  ,  1.25,  1.75,  2.63, 15.  ,\n",
       "        2.25,  3.67,  1.43,  9.  ,  2.6 ,  4.75,  1.27,  3.25,  5.33,\n",
       "        2.57,  2.17,  2.75,  2.8 ,  2.2 ,  2.86,  3.91,  1.4 ,  5.67,\n",
       "        3.2 ,  1.38,  2.09,  2.4 , 55.  ,  5.25,  6.71,  3.57,  2.22,\n",
       "        1.83,  3.6 ,  1.2 ,  1.57,  1.56,  5.4 ,  4.25,  1.31,  1.6 ,\n",
       "        2.9 ,  1.23,  1.78,  3.83,  7.5 ,  1.14,  2.71,  1.45,  2.38,\n",
       "        1.86,  2.29,  1.21, 12.33,  3.43,  2.56,  6.33,  1.64,  8.21,\n",
       "        4.4 ,  3.17,  8.33,  1.48,  1.22, 24.  ,  3.75,  6.67,  1.54,\n",
       "        2.13,  2.14,  2.45,  3.29,  4.17,  1.63,  3.38,  1.17, 14.5 ,\n",
       "        3.8 ,  1.19,  3.82,  2.83,  1.93, 11.5 ,  2.08])"
      ]
     },
     "execution_count": 42,
     "metadata": {},
     "output_type": "execute_result"
    }
   ],
   "source": [
    "df_leads['Page Views Per Visit'].unique()\n"
   ]
  },
  {
   "cell_type": "code",
   "execution_count": 43,
   "metadata": {},
   "outputs": [
    {
     "data": {
      "text/plain": [
       "array([15., 14., 13., 17., 16., 11., 12., 10.,  9.,  8., 18., nan,  7.])"
      ]
     },
     "execution_count": 43,
     "metadata": {},
     "output_type": "execute_result"
    }
   ],
   "source": [
    "df_leads['Asymmetrique Activity Score'].unique()\n"
   ]
  },
  {
   "cell_type": "code",
   "execution_count": 44,
   "metadata": {},
   "outputs": [
    {
     "data": {
      "text/plain": [
       "array([15., 20., 17., 18., 14., 16., 13., 19., 12., nan, 11.])"
      ]
     },
     "execution_count": 44,
     "metadata": {},
     "output_type": "execute_result"
    }
   ],
   "source": [
    "df_leads['Asymmetrique Profile Score'].unique()\n"
   ]
  },
  {
   "cell_type": "markdown",
   "metadata": {},
   "source": [
    "### "
   ]
  },
  {
   "cell_type": "code",
   "execution_count": 45,
   "metadata": {},
   "outputs": [
    {
     "data": {
      "text/html": [
       "<div>\n",
       "<style scoped>\n",
       "    .dataframe tbody tr th:only-of-type {\n",
       "        vertical-align: middle;\n",
       "    }\n",
       "\n",
       "    .dataframe tbody tr th {\n",
       "        vertical-align: top;\n",
       "    }\n",
       "\n",
       "    .dataframe thead th {\n",
       "        text-align: right;\n",
       "    }\n",
       "</style>\n",
       "<table border=\"1\" class=\"dataframe\">\n",
       "  <thead>\n",
       "    <tr style=\"text-align: right;\">\n",
       "      <th></th>\n",
       "      <th>Lead Number</th>\n",
       "      <th>Converted</th>\n",
       "      <th>TotalVisits</th>\n",
       "      <th>Total Time Spent on Website</th>\n",
       "      <th>Page Views Per Visit</th>\n",
       "      <th>Asymmetrique Activity Score</th>\n",
       "      <th>Asymmetrique Profile Score</th>\n",
       "    </tr>\n",
       "  </thead>\n",
       "  <tbody>\n",
       "    <tr>\n",
       "      <th>count</th>\n",
       "      <td>9240.000000</td>\n",
       "      <td>9240.000000</td>\n",
       "      <td>9103.000000</td>\n",
       "      <td>9240.000000</td>\n",
       "      <td>9103.000000</td>\n",
       "      <td>5022.000000</td>\n",
       "      <td>5022.000000</td>\n",
       "    </tr>\n",
       "    <tr>\n",
       "      <th>mean</th>\n",
       "      <td>617188.435606</td>\n",
       "      <td>0.385390</td>\n",
       "      <td>3.445238</td>\n",
       "      <td>487.698268</td>\n",
       "      <td>2.362820</td>\n",
       "      <td>14.306252</td>\n",
       "      <td>16.344883</td>\n",
       "    </tr>\n",
       "    <tr>\n",
       "      <th>std</th>\n",
       "      <td>23405.995698</td>\n",
       "      <td>0.486714</td>\n",
       "      <td>4.854853</td>\n",
       "      <td>548.021466</td>\n",
       "      <td>2.161418</td>\n",
       "      <td>1.386694</td>\n",
       "      <td>1.811395</td>\n",
       "    </tr>\n",
       "    <tr>\n",
       "      <th>min</th>\n",
       "      <td>579533.000000</td>\n",
       "      <td>0.000000</td>\n",
       "      <td>0.000000</td>\n",
       "      <td>0.000000</td>\n",
       "      <td>0.000000</td>\n",
       "      <td>7.000000</td>\n",
       "      <td>11.000000</td>\n",
       "    </tr>\n",
       "    <tr>\n",
       "      <th>25%</th>\n",
       "      <td>596484.500000</td>\n",
       "      <td>0.000000</td>\n",
       "      <td>1.000000</td>\n",
       "      <td>12.000000</td>\n",
       "      <td>1.000000</td>\n",
       "      <td>14.000000</td>\n",
       "      <td>15.000000</td>\n",
       "    </tr>\n",
       "    <tr>\n",
       "      <th>50%</th>\n",
       "      <td>615479.000000</td>\n",
       "      <td>0.000000</td>\n",
       "      <td>3.000000</td>\n",
       "      <td>248.000000</td>\n",
       "      <td>2.000000</td>\n",
       "      <td>14.000000</td>\n",
       "      <td>16.000000</td>\n",
       "    </tr>\n",
       "    <tr>\n",
       "      <th>75%</th>\n",
       "      <td>637387.250000</td>\n",
       "      <td>1.000000</td>\n",
       "      <td>5.000000</td>\n",
       "      <td>936.000000</td>\n",
       "      <td>3.000000</td>\n",
       "      <td>15.000000</td>\n",
       "      <td>18.000000</td>\n",
       "    </tr>\n",
       "    <tr>\n",
       "      <th>max</th>\n",
       "      <td>660737.000000</td>\n",
       "      <td>1.000000</td>\n",
       "      <td>251.000000</td>\n",
       "      <td>2272.000000</td>\n",
       "      <td>55.000000</td>\n",
       "      <td>18.000000</td>\n",
       "      <td>20.000000</td>\n",
       "    </tr>\n",
       "  </tbody>\n",
       "</table>\n",
       "</div>"
      ],
      "text/plain": [
       "         Lead Number    Converted  TotalVisits  Total Time Spent on Website  \\\n",
       "count    9240.000000  9240.000000  9103.000000                  9240.000000   \n",
       "mean   617188.435606     0.385390     3.445238                   487.698268   \n",
       "std     23405.995698     0.486714     4.854853                   548.021466   \n",
       "min    579533.000000     0.000000     0.000000                     0.000000   \n",
       "25%    596484.500000     0.000000     1.000000                    12.000000   \n",
       "50%    615479.000000     0.000000     3.000000                   248.000000   \n",
       "75%    637387.250000     1.000000     5.000000                   936.000000   \n",
       "max    660737.000000     1.000000   251.000000                  2272.000000   \n",
       "\n",
       "       Page Views Per Visit  Asymmetrique Activity Score  \\\n",
       "count           9103.000000                  5022.000000   \n",
       "mean               2.362820                    14.306252   \n",
       "std                2.161418                     1.386694   \n",
       "min                0.000000                     7.000000   \n",
       "25%                1.000000                    14.000000   \n",
       "50%                2.000000                    14.000000   \n",
       "75%                3.000000                    15.000000   \n",
       "max               55.000000                    18.000000   \n",
       "\n",
       "       Asymmetrique Profile Score  \n",
       "count                 5022.000000  \n",
       "mean                    16.344883  \n",
       "std                      1.811395  \n",
       "min                     11.000000  \n",
       "25%                     15.000000  \n",
       "50%                     16.000000  \n",
       "75%                     18.000000  \n",
       "max                     20.000000  "
      ]
     },
     "execution_count": 45,
     "metadata": {},
     "output_type": "execute_result"
    }
   ],
   "source": [
    "# Description of all numeric values in dataframe\n",
    "df_leads.describe()"
   ]
  },
  {
   "cell_type": "code",
   "execution_count": 46,
   "metadata": {
    "scrolled": false
   },
   "outputs": [
    {
     "data": {
      "text/plain": [
       "Prospect ID                                       0.00\n",
       "Lead Number                                       0.00\n",
       "Lead Origin                                       0.00\n",
       "Lead Source                                       0.39\n",
       "Do Not Email                                      0.00\n",
       "Do Not Call                                       0.00\n",
       "Converted                                         0.00\n",
       "TotalVisits                                       1.48\n",
       "Total Time Spent on Website                       0.00\n",
       "Page Views Per Visit                              1.48\n",
       "Last Activity                                     1.11\n",
       "Country                                          26.63\n",
       "Specialization                                   15.56\n",
       "How did you hear about X Education               23.89\n",
       "What is your current occupation                  29.11\n",
       "What matters most to you in choosing a course    29.32\n",
       "Search                                            0.00\n",
       "Newspaper Article                                 0.00\n",
       "X Education Forums                                0.00\n",
       "Newspaper                                         0.00\n",
       "Digital Advertisement                             0.00\n",
       "Through Recommendations                           0.00\n",
       "Tags                                             36.29\n",
       "Lead Quality                                     51.59\n",
       "Lead Profile                                     29.32\n",
       "City                                             15.37\n",
       "Asymmetrique Activity Index                      45.65\n",
       "Asymmetrique Profile Index                       45.65\n",
       "Asymmetrique Activity Score                      45.65\n",
       "Asymmetrique Profile Score                       45.65\n",
       "A free copy of Mastering The Interview            0.00\n",
       "Last Notable Activity                             0.00\n",
       "dtype: float64"
      ]
     },
     "execution_count": 46,
     "metadata": {},
     "output_type": "execute_result"
    }
   ],
   "source": [
    "# Percentage of missing values\n",
    "round(100*(df_leads.isnull().sum()/len(df_leads.index)),2)"
   ]
  },
  {
   "cell_type": "markdown",
   "metadata": {},
   "source": [
    "### Missing value imputation\n",
    "30 % > drop rows\n",
    "less than 30 % \n",
    "\n",
    "if we impute distribution should remain untouched\n"
   ]
  },
  {
   "cell_type": "markdown",
   "metadata": {},
   "source": [
    "The 'Asymmetrique Activity Index' column has 45.65% of the missing values, let us drop the column and look after the changes in the %age of the various other columns."
   ]
  },
  {
   "cell_type": "code",
   "execution_count": 47,
   "metadata": {},
   "outputs": [],
   "source": [
    "new_lead_df = df_leads[~pd.isnull(df_leads['Lead Quality'])]"
   ]
  },
  {
   "cell_type": "markdown",
   "metadata": {},
   "source": [
    "Checking the null values for the Dataset"
   ]
  },
  {
   "cell_type": "code",
   "execution_count": 48,
   "metadata": {},
   "outputs": [
    {
     "data": {
      "text/plain": [
       "Prospect ID                                       0.00\n",
       "Lead Number                                       0.00\n",
       "Lead Origin                                       0.00\n",
       "Lead Source                                       0.49\n",
       "Do Not Email                                      0.00\n",
       "Do Not Call                                       0.00\n",
       "Converted                                         0.00\n",
       "TotalVisits                                       2.21\n",
       "Total Time Spent on Website                       0.00\n",
       "Page Views Per Visit                              2.21\n",
       "Last Activity                                     1.74\n",
       "Country                                          21.84\n",
       "Specialization                                    0.00\n",
       "How did you hear about X Education                0.00\n",
       "What is your current occupation                   0.00\n",
       "What matters most to you in choosing a course     0.00\n",
       "Search                                            0.00\n",
       "Newspaper Article                                 0.00\n",
       "X Education Forums                                0.00\n",
       "Newspaper                                         0.00\n",
       "Digital Advertisement                             0.00\n",
       "Through Recommendations                           0.00\n",
       "Tags                                              0.60\n",
       "Lead Quality                                      0.00\n",
       "Lead Profile                                      0.00\n",
       "City                                              0.00\n",
       "Asymmetrique Activity Index                      45.25\n",
       "Asymmetrique Profile Index                       45.25\n",
       "Asymmetrique Activity Score                      45.25\n",
       "Asymmetrique Profile Score                       45.25\n",
       "A free copy of Mastering The Interview            0.00\n",
       "Last Notable Activity                             0.00\n",
       "dtype: float64"
      ]
     },
     "execution_count": 48,
     "metadata": {},
     "output_type": "execute_result"
    }
   ],
   "source": [
    "# Percentage of missing values\n",
    "round(100*(new_lead_df.isnull().sum()/len(new_lead_df.index)),2)"
   ]
  },
  {
   "cell_type": "code",
   "execution_count": 49,
   "metadata": {},
   "outputs": [
    {
     "data": {
      "text/plain": [
       "(4473, 32)"
      ]
     },
     "execution_count": 49,
     "metadata": {},
     "output_type": "execute_result"
    }
   ],
   "source": [
    "new_lead_df.shape"
   ]
  },
  {
   "cell_type": "markdown",
   "metadata": {},
   "source": [
    "We have lost more than half of the information, but the various columns are still comprising of null values"
   ]
  },
  {
   "cell_type": "markdown",
   "metadata": {},
   "source": [
    "Let us again drop the rows having null values present in the column 'Asymmetrique Activity Index' and see its effect on the columns"
   ]
  },
  {
   "cell_type": "code",
   "execution_count": 50,
   "metadata": {},
   "outputs": [],
   "source": [
    "new_lead_df = new_lead_df[~pd.isnull(new_lead_df['Asymmetrique Activity Index'])]"
   ]
  },
  {
   "cell_type": "code",
   "execution_count": 51,
   "metadata": {},
   "outputs": [
    {
     "data": {
      "text/plain": [
       "Prospect ID                                       0.00\n",
       "Lead Number                                       0.00\n",
       "Lead Origin                                       0.00\n",
       "Lead Source                                       0.49\n",
       "Do Not Email                                      0.00\n",
       "Do Not Call                                       0.00\n",
       "Converted                                         0.00\n",
       "TotalVisits                                       2.53\n",
       "Total Time Spent on Website                       0.00\n",
       "Page Views Per Visit                              2.53\n",
       "Last Activity                                     1.88\n",
       "Country                                          20.21\n",
       "Specialization                                    0.00\n",
       "How did you hear about X Education                0.00\n",
       "What is your current occupation                   0.00\n",
       "What matters most to you in choosing a course     0.00\n",
       "Search                                            0.00\n",
       "Newspaper Article                                 0.00\n",
       "X Education Forums                                0.00\n",
       "Newspaper                                         0.00\n",
       "Digital Advertisement                             0.00\n",
       "Through Recommendations                           0.00\n",
       "Tags                                              0.65\n",
       "Lead Quality                                      0.00\n",
       "Lead Profile                                      0.00\n",
       "City                                              0.00\n",
       "Asymmetrique Activity Index                       0.00\n",
       "Asymmetrique Profile Index                        0.00\n",
       "Asymmetrique Activity Score                       0.00\n",
       "Asymmetrique Profile Score                        0.00\n",
       "A free copy of Mastering The Interview            0.00\n",
       "Last Notable Activity                             0.00\n",
       "dtype: float64"
      ]
     },
     "execution_count": 51,
     "metadata": {},
     "output_type": "execute_result"
    }
   ],
   "source": [
    "# Percentage of missing values\n",
    "round(100*(new_lead_df.isnull().sum()/len(new_lead_df.index)),2)"
   ]
  },
  {
   "cell_type": "code",
   "execution_count": 52,
   "metadata": {},
   "outputs": [
    {
     "data": {
      "text/plain": [
       "(2449, 32)"
      ]
     },
     "execution_count": 52,
     "metadata": {},
     "output_type": "execute_result"
    }
   ],
   "source": [
    "new_lead_df.shape"
   ]
  },
  {
   "cell_type": "markdown",
   "metadata": {},
   "source": [
    "We have now lost more than 70% of our data"
   ]
  },
  {
   "cell_type": "code",
   "execution_count": 53,
   "metadata": {},
   "outputs": [],
   "source": [
    "corrmat = df_leads.corr()"
   ]
  },
  {
   "cell_type": "code",
   "execution_count": 54,
   "metadata": {
    "scrolled": false
   },
   "outputs": [
    {
     "data": {
      "text/plain": [
       "<matplotlib.axes._subplots.AxesSubplot at 0x2aa1c371a90>"
      ]
     },
     "execution_count": 54,
     "metadata": {},
     "output_type": "execute_result"
    },
    {
     "data": {
      "image/png": "[encoded data removed]",
      "text/plain": [
       "<Figure size 432x288 with 2 Axes>"
      ]
     },
     "metadata": {
      "needs_background": "light"
     },
     "output_type": "display_data"
    }
   ],
   "source": [
    "sns.heatmap(corrmat,annot=True)"
   ]
  },
  {
   "cell_type": "markdown",
   "metadata": {},
   "source": [
    "Dropping the columns having high null values"
   ]
  },
  {
   "cell_type": "code",
   "execution_count": 55,
   "metadata": {},
   "outputs": [],
   "source": [
    "new_lead_df = df_leads.drop(['Lead Quality','Asymmetrique Activity Index','Asymmetrique Profile Index','Asymmetrique Activity Score','Asymmetrique Profile Score'],axis=1)"
   ]
  },
  {
   "cell_type": "code",
   "execution_count": 56,
   "metadata": {},
   "outputs": [
    {
     "data": {
      "text/plain": [
       "Prospect ID                                       0.00\n",
       "Lead Number                                       0.00\n",
       "Lead Origin                                       0.00\n",
       "Lead Source                                       0.39\n",
       "Do Not Email                                      0.00\n",
       "Do Not Call                                       0.00\n",
       "Converted                                         0.00\n",
       "TotalVisits                                       1.48\n",
       "Total Time Spent on Website                       0.00\n",
       "Page Views Per Visit                              1.48\n",
       "Last Activity                                     1.11\n",
       "Country                                          26.63\n",
       "Specialization                                   15.56\n",
       "How did you hear about X Education               23.89\n",
       "What is your current occupation                  29.11\n",
       "What matters most to you in choosing a course    29.32\n",
       "Search                                            0.00\n",
       "Newspaper Article                                 0.00\n",
       "X Education Forums                                0.00\n",
       "Newspaper                                         0.00\n",
       "Digital Advertisement                             0.00\n",
       "Through Recommendations                           0.00\n",
       "Tags                                             36.29\n",
       "Lead Profile                                     29.32\n",
       "City                                             15.37\n",
       "A free copy of Mastering The Interview            0.00\n",
       "Last Notable Activity                             0.00\n",
       "dtype: float64"
      ]
     },
     "execution_count": 56,
     "metadata": {},
     "output_type": "execute_result"
    }
   ],
   "source": [
    "# Percentage of missing values\n",
    "round(100*(new_lead_df.isnull().sum()/len(new_lead_df.index)),2)"
   ]
  },
  {
   "cell_type": "markdown",
   "metadata": {},
   "source": [
    "Now, getting rid of the rows which are having null values present in the column 'Tags'"
   ]
  },
  {
   "cell_type": "code",
   "execution_count": 57,
   "metadata": {},
   "outputs": [],
   "source": [
    "new_lead_df = new_lead_df[~pd.isnull(new_lead_df['Tags'])]"
   ]
  },
  {
   "cell_type": "code",
   "execution_count": 58,
   "metadata": {},
   "outputs": [
    {
     "data": {
      "text/plain": [
       "Prospect ID                                       0.00\n",
       "Lead Number                                       0.00\n",
       "Lead Origin                                       0.00\n",
       "Lead Source                                       0.42\n",
       "Do Not Email                                      0.00\n",
       "Do Not Call                                       0.00\n",
       "Converted                                         0.00\n",
       "TotalVisits                                       1.99\n",
       "Total Time Spent on Website                       0.00\n",
       "Page Views Per Visit                              1.99\n",
       "Last Activity                                     1.60\n",
       "Country                                          21.78\n",
       "Specialization                                    0.58\n",
       "How did you hear about X Education                1.16\n",
       "What is your current occupation                   1.38\n",
       "What matters most to you in choosing a course     1.38\n",
       "Search                                            0.00\n",
       "Newspaper Article                                 0.00\n",
       "X Education Forums                                0.00\n",
       "Newspaper                                         0.00\n",
       "Digital Advertisement                             0.00\n",
       "Through Recommendations                           0.00\n",
       "Tags                                              0.00\n",
       "Lead Profile                                      1.38\n",
       "City                                              0.61\n",
       "A free copy of Mastering The Interview            0.00\n",
       "Last Notable Activity                             0.00\n",
       "dtype: float64"
      ]
     },
     "execution_count": 58,
     "metadata": {},
     "output_type": "execute_result"
    }
   ],
   "source": [
    "# Percentage of missing values\n",
    "round(100*(new_lead_df.isnull().sum()/len(new_lead_df.index)),2)"
   ]
  },
  {
   "cell_type": "code",
   "execution_count": 59,
   "metadata": {},
   "outputs": [
    {
     "data": {
      "text/plain": [
       "(5887, 27)"
      ]
     },
     "execution_count": 59,
     "metadata": {},
     "output_type": "execute_result"
    }
   ],
   "source": [
    "new_lead_df.shape"
   ]
  },
  {
   "cell_type": "markdown",
   "metadata": {},
   "source": [
    "In this way we are left with 65% of the original Dataset"
   ]
  },
  {
   "cell_type": "markdown",
   "metadata": {},
   "source": [
    "Dealing with the 'Country' column"
   ]
  },
  {
   "cell_type": "code",
   "execution_count": 60,
   "metadata": {},
   "outputs": [
    {
     "data": {
      "text/plain": [
       "array([nan, 'India', 'Oman', 'United Arab Emirates', 'United States',\n",
       "       'United Kingdom', 'Bahrain', 'Qatar', 'Australia', 'Ghana',\n",
       "       'Singapore', 'Saudi Arabia', 'Sri Lanka', 'Kuwait', 'France',\n",
       "       'Canada', 'Netherlands', 'Sweden', 'Hong Kong', 'Germany',\n",
       "       'Nigeria', 'Uganda', 'Kenya', 'South Africa', 'Tanzania',\n",
       "       'Malaysia', 'Italy', 'Denmark', 'Philippines', 'Vietnam',\n",
       "       'Indonesia', 'China', 'Bangladesh'], dtype=object)"
      ]
     },
     "execution_count": 60,
     "metadata": {},
     "output_type": "execute_result"
    }
   ],
   "source": [
    "new_lead_df['Country'].unique()"
   ]
  },
  {
   "cell_type": "code",
   "execution_count": 61,
   "metadata": {},
   "outputs": [
    {
     "name": "stdout",
     "output_type": "stream",
     "text": [
      "The number of times India has occured is  4412 . And total null values are  1236.27\n"
     ]
    }
   ],
   "source": [
    "# counting number of times the value 'India' has occured in 'Country'\n",
    "print('The number of times India has occured is ',new_lead_df[new_lead_df['Country']== 'India'].shape[0],'. And total null values are ',5887*0.21)"
   ]
  },
  {
   "cell_type": "markdown",
   "metadata": {},
   "source": [
    "Hence this column 'Country' can be removed."
   ]
  },
  {
   "cell_type": "code",
   "execution_count": 62,
   "metadata": {},
   "outputs": [
    {
     "data": {
      "text/plain": [
       "Prospect ID                                      0.00\n",
       "Lead Number                                      0.00\n",
       "Lead Origin                                      0.00\n",
       "Lead Source                                      0.42\n",
       "Do Not Email                                     0.00\n",
       "Do Not Call                                      0.00\n",
       "Converted                                        0.00\n",
       "TotalVisits                                      1.99\n",
       "Total Time Spent on Website                      0.00\n",
       "Page Views Per Visit                             1.99\n",
       "Last Activity                                    1.60\n",
       "Specialization                                   0.58\n",
       "How did you hear about X Education               1.16\n",
       "What is your current occupation                  1.38\n",
       "What matters most to you in choosing a course    1.38\n",
       "Search                                           0.00\n",
       "Newspaper Article                                0.00\n",
       "X Education Forums                               0.00\n",
       "Newspaper                                        0.00\n",
       "Digital Advertisement                            0.00\n",
       "Through Recommendations                          0.00\n",
       "Tags                                             0.00\n",
       "Lead Profile                                     1.38\n",
       "City                                             0.61\n",
       "A free copy of Mastering The Interview           0.00\n",
       "Last Notable Activity                            0.00\n",
       "dtype: float64"
      ]
     },
     "execution_count": 62,
     "metadata": {},
     "output_type": "execute_result"
    }
   ],
   "source": [
    "new_lead_df = new_lead_df.drop(['Country'], axis=1)\n",
    "# Percentage of missing values\n",
    "round(100*(new_lead_df.isnull().sum()/len(new_lead_df.index)),2)"
   ]
  },
  {
   "cell_type": "markdown",
   "metadata": {},
   "source": [
    "Let us take the 'Lead Source' column"
   ]
  },
  {
   "cell_type": "code",
   "execution_count": 63,
   "metadata": {},
   "outputs": [
    {
     "data": {
      "text/plain": [
       "array(['Olark Chat', 'Organic Search', 'Direct Traffic', 'Google',\n",
       "       'Referral Sites', 'Reference', 'Welingak Website', 'Facebook',\n",
       "       'Pay per Click Ads', 'bing', 'Social Media', nan, 'WeLearn',\n",
       "       'Live Chat', 'Click2call', 'testone', 'Press_Release'],\n",
       "      dtype=object)"
      ]
     },
     "execution_count": 63,
     "metadata": {},
     "output_type": "execute_result"
    }
   ],
   "source": [
    "new_lead_df['Lead Source'].unique()"
   ]
  },
  {
   "cell_type": "markdown",
   "metadata": {},
   "source": [
    "We cannot impute any values to the 'Lead Source' columns so dropping the 0.42% null valued rows"
   ]
  },
  {
   "cell_type": "code",
   "execution_count": 64,
   "metadata": {},
   "outputs": [],
   "source": [
    "new_lead_df = new_lead_df[~pd.isnull(new_lead_df['Lead Source'])]"
   ]
  },
  {
   "cell_type": "code",
   "execution_count": 65,
   "metadata": {},
   "outputs": [
    {
     "data": {
      "text/plain": [
       "(5862, 26)"
      ]
     },
     "execution_count": 65,
     "metadata": {},
     "output_type": "execute_result"
    }
   ],
   "source": [
    "new_lead_df.shape"
   ]
  },
  {
   "cell_type": "code",
   "execution_count": 66,
   "metadata": {},
   "outputs": [
    {
     "data": {
      "text/plain": [
       "count    5747.000000\n",
       "mean        3.727336\n",
       "std         4.907139\n",
       "min         0.000000\n",
       "25%         2.000000\n",
       "50%         3.000000\n",
       "75%         5.000000\n",
       "max       251.000000\n",
       "Name: TotalVisits, dtype: float64"
      ]
     },
     "execution_count": 66,
     "metadata": {},
     "output_type": "execute_result"
    }
   ],
   "source": [
    "new_lead_df['TotalVisits'].describe()"
   ]
  },
  {
   "cell_type": "code",
   "execution_count": 67,
   "metadata": {},
   "outputs": [
    {
     "data": {
      "text/plain": [
       "0    2.0\n",
       "dtype: float64"
      ]
     },
     "execution_count": 67,
     "metadata": {},
     "output_type": "execute_result"
    }
   ],
   "source": [
    "new_lead_df['TotalVisits'].mode()"
   ]
  },
  {
   "cell_type": "code",
   "execution_count": 68,
   "metadata": {},
   "outputs": [
    {
     "name": "stdout",
     "output_type": "stream",
     "text": [
      "1129\n"
     ]
    }
   ],
   "source": [
    "# counting number of times the value '2.0' has occured in 'TotalVisits'\n",
    "print(new_lead_df[new_lead_df['TotalVisits']== 2.0].shape[0])"
   ]
  },
  {
   "cell_type": "code",
   "execution_count": 69,
   "metadata": {},
   "outputs": [
    {
     "name": "stdout",
     "output_type": "stream",
     "text": [
      "865\n"
     ]
    }
   ],
   "source": [
    "# counting number of times the value '3.0' has occured in 'TotalVisits'\n",
    "print(new_lead_df[new_lead_df['TotalVisits']== 3.0].shape[0])"
   ]
  },
  {
   "cell_type": "code",
   "execution_count": 70,
   "metadata": {},
   "outputs": [
    {
     "name": "stdout",
     "output_type": "stream",
     "text": [
      "There are only  117.24000000000001  null value, which can be imputed by 2.0 and would not affect much\n"
     ]
    }
   ],
   "source": [
    "print('There are only ',5862*0.02,' null value, which can be imputed by 2.0 and would not affect much')"
   ]
  },
  {
   "cell_type": "markdown",
   "metadata": {},
   "source": [
    "Imputing the null values present in the column 'TotalVisits' by 2.0"
   ]
  },
  {
   "cell_type": "code",
   "execution_count": 71,
   "metadata": {},
   "outputs": [],
   "source": [
    "new_lead_df.loc[pd.isnull(new_lead_df['TotalVisits']),['TotalVisits']] = 2.0"
   ]
  },
  {
   "cell_type": "code",
   "execution_count": 72,
   "metadata": {},
   "outputs": [
    {
     "data": {
      "text/plain": [
       "Prospect ID                                      0.00\n",
       "Lead Number                                      0.00\n",
       "Lead Origin                                      0.00\n",
       "Lead Source                                      0.00\n",
       "Do Not Email                                     0.00\n",
       "Do Not Call                                      0.00\n",
       "Converted                                        0.00\n",
       "TotalVisits                                      0.00\n",
       "Total Time Spent on Website                      0.00\n",
       "Page Views Per Visit                             1.96\n",
       "Last Activity                                    1.59\n",
       "Specialization                                   0.58\n",
       "How did you hear about X Education               1.16\n",
       "What is your current occupation                  1.38\n",
       "What matters most to you in choosing a course    1.38\n",
       "Search                                           0.00\n",
       "Newspaper Article                                0.00\n",
       "X Education Forums                               0.00\n",
       "Newspaper                                        0.00\n",
       "Digital Advertisement                            0.00\n",
       "Through Recommendations                          0.00\n",
       "Tags                                             0.00\n",
       "Lead Profile                                     1.38\n",
       "City                                             0.61\n",
       "A free copy of Mastering The Interview           0.00\n",
       "Last Notable Activity                            0.00\n",
       "dtype: float64"
      ]
     },
     "execution_count": 72,
     "metadata": {},
     "output_type": "execute_result"
    }
   ],
   "source": [
    "# Percentage of missing values\n",
    "round(100*(new_lead_df.isnull().sum()/len(new_lead_df.index)),2)"
   ]
  },
  {
   "cell_type": "code",
   "execution_count": 73,
   "metadata": {},
   "outputs": [
    {
     "data": {
      "text/plain": [
       "count    5747.000000\n",
       "mean        2.579245\n",
       "std         2.062009\n",
       "min         0.000000\n",
       "25%         1.250000\n",
       "50%         2.000000\n",
       "75%         4.000000\n",
       "max        16.000000\n",
       "Name: Page Views Per Visit, dtype: float64"
      ]
     },
     "execution_count": 73,
     "metadata": {},
     "output_type": "execute_result"
    }
   ],
   "source": [
    "new_lead_df['Page Views Per Visit'].describe()"
   ]
  },
  {
   "cell_type": "markdown",
   "metadata": {},
   "source": [
    "Thw null values in 'Page Views Per Visit' can very well be imputed by the mode of this column."
   ]
  },
  {
   "cell_type": "code",
   "execution_count": 74,
   "metadata": {},
   "outputs": [
    {
     "data": {
      "text/plain": [
       "0    2.0\n",
       "dtype: float64"
      ]
     },
     "execution_count": 74,
     "metadata": {},
     "output_type": "execute_result"
    }
   ],
   "source": [
    "new_lead_df['Page Views Per Visit'].mode()"
   ]
  },
  {
   "cell_type": "code",
   "execution_count": 75,
   "metadata": {},
   "outputs": [],
   "source": [
    "new_lead_df.loc[pd.isnull(new_lead_df['Page Views Per Visit']),['Page Views Per Visit']] = 2.0"
   ]
  },
  {
   "cell_type": "code",
   "execution_count": 76,
   "metadata": {
    "scrolled": true
   },
   "outputs": [
    {
     "data": {
      "text/plain": [
       "count             5769\n",
       "unique              17\n",
       "top       Email Opened\n",
       "freq              2221\n",
       "Name: Last Activity, dtype: object"
      ]
     },
     "execution_count": 76,
     "metadata": {},
     "output_type": "execute_result"
    }
   ],
   "source": [
    "new_lead_df['Last Activity'].describe()"
   ]
  },
  {
   "cell_type": "markdown",
   "metadata": {},
   "source": [
    "As it says the value 'Email Opened' has occured the most. Counting the value once."
   ]
  },
  {
   "cell_type": "code",
   "execution_count": 77,
   "metadata": {},
   "outputs": [
    {
     "name": "stdout",
     "output_type": "stream",
     "text": [
      "2221\n"
     ]
    }
   ],
   "source": [
    "print(new_lead_df[new_lead_df['Last Activity'] == 'Email Opened'].shape[0])"
   ]
  },
  {
   "cell_type": "markdown",
   "metadata": {},
   "source": [
    "'Email Opened' has occured almost 40% of the time, so imputing it to the mere 1.59% of the null values would not be a problem"
   ]
  },
  {
   "cell_type": "code",
   "execution_count": 78,
   "metadata": {},
   "outputs": [],
   "source": [
    "new_lead_df.loc[pd.isnull(new_lead_df['Last Activity']),['Last Activity']] = 'Email Opened'"
   ]
  },
  {
   "cell_type": "code",
   "execution_count": 79,
   "metadata": {},
   "outputs": [
    {
     "data": {
      "text/plain": [
       "Prospect ID                                      0.00\n",
       "Lead Number                                      0.00\n",
       "Lead Origin                                      0.00\n",
       "Lead Source                                      0.00\n",
       "Do Not Email                                     0.00\n",
       "Do Not Call                                      0.00\n",
       "Converted                                        0.00\n",
       "TotalVisits                                      0.00\n",
       "Total Time Spent on Website                      0.00\n",
       "Page Views Per Visit                             0.00\n",
       "Last Activity                                    0.00\n",
       "Specialization                                   0.58\n",
       "How did you hear about X Education               1.16\n",
       "What is your current occupation                  1.38\n",
       "What matters most to you in choosing a course    1.38\n",
       "Search                                           0.00\n",
       "Newspaper Article                                0.00\n",
       "X Education Forums                               0.00\n",
       "Newspaper                                        0.00\n",
       "Digital Advertisement                            0.00\n",
       "Through Recommendations                          0.00\n",
       "Tags                                             0.00\n",
       "Lead Profile                                     1.38\n",
       "City                                             0.61\n",
       "A free copy of Mastering The Interview           0.00\n",
       "Last Notable Activity                            0.00\n",
       "dtype: float64"
      ]
     },
     "execution_count": 79,
     "metadata": {},
     "output_type": "execute_result"
    }
   ],
   "source": [
    "# Percentage of missing values\n",
    "round(100*(new_lead_df.isnull().sum()/len(new_lead_df.index)),2)"
   ]
  },
  {
   "cell_type": "markdown",
   "metadata": {},
   "source": [
    "In this way we can do the imputation for the rest of the dataset, I m continuing with the rest of the Dataset and will send you a clean dataset in about half an hour."
   ]
  },
  {
   "cell_type": "markdown",
   "metadata": {},
   "source": [
    "Sending this to you to comment if I m doing anything wrong or if some steps could have avoided to make it less Hectic."
   ]
  },
  {
   "cell_type": "code",
   "execution_count": 80,
   "metadata": {},
   "outputs": [
    {
     "data": {
      "text/plain": [
       "count       5828\n",
       "unique        19\n",
       "top       Select\n",
       "freq        1400\n",
       "Name: Specialization, dtype: object"
      ]
     },
     "execution_count": 80,
     "metadata": {},
     "output_type": "execute_result"
    }
   ],
   "source": [
    "new_lead_df['Specialization'].describe()"
   ]
  },
  {
   "cell_type": "markdown",
   "metadata": {},
   "source": [
    "In this column 'select' has occured 1400 times, but it cannot be imputed with into the column, so dropping all those rows."
   ]
  },
  {
   "cell_type": "code",
   "execution_count": 81,
   "metadata": {},
   "outputs": [
    {
     "data": {
      "text/plain": [
       "(5828, 26)"
      ]
     },
     "execution_count": 81,
     "metadata": {},
     "output_type": "execute_result"
    }
   ],
   "source": [
    "new_lead_df = new_lead_df[~pd.isnull(new_lead_df['Specialization'])]\n",
    "new_lead_df.shape"
   ]
  },
  {
   "cell_type": "code",
   "execution_count": 82,
   "metadata": {},
   "outputs": [
    {
     "data": {
      "text/plain": [
       "Prospect ID                                      0.00\n",
       "Lead Number                                      0.00\n",
       "Lead Origin                                      0.00\n",
       "Lead Source                                      0.00\n",
       "Do Not Email                                     0.00\n",
       "Do Not Call                                      0.00\n",
       "Converted                                        0.00\n",
       "TotalVisits                                      0.00\n",
       "Total Time Spent on Website                      0.00\n",
       "Page Views Per Visit                             0.00\n",
       "Last Activity                                    0.00\n",
       "Specialization                                   0.00\n",
       "How did you hear about X Education               0.58\n",
       "What is your current occupation                  0.81\n",
       "What matters most to you in choosing a course    0.81\n",
       "Search                                           0.00\n",
       "Newspaper Article                                0.00\n",
       "X Education Forums                               0.00\n",
       "Newspaper                                        0.00\n",
       "Digital Advertisement                            0.00\n",
       "Through Recommendations                          0.00\n",
       "Tags                                             0.00\n",
       "Lead Profile                                     0.81\n",
       "City                                             0.03\n",
       "A free copy of Mastering The Interview           0.00\n",
       "Last Notable Activity                            0.00\n",
       "dtype: float64"
      ]
     },
     "execution_count": 82,
     "metadata": {},
     "output_type": "execute_result"
    }
   ],
   "source": [
    "# Percentage of missing values\n",
    "round(100*(new_lead_df.isnull().sum()/len(new_lead_df.index)),2)"
   ]
  },
  {
   "cell_type": "markdown",
   "metadata": {},
   "source": [
    "Columns, 'What is your current occupation', 'What matters most to you in choosing a course' and 'Lead Profile' are haing 0.81% each of null values, so let us first remove null values of any  one of the columns and if it does not affect others we will try imputing them one by one. "
   ]
  },
  {
   "cell_type": "code",
   "execution_count": 83,
   "metadata": {},
   "outputs": [
    {
     "data": {
      "text/plain": [
       "(5781, 26)"
      ]
     },
     "execution_count": 83,
     "metadata": {},
     "output_type": "execute_result"
    }
   ],
   "source": [
    "# dropping rows with null values present in the column 'Lead Profile'\n",
    "new_lead_df = new_lead_df[~pd.isnull(new_lead_df['Lead Profile'])]\n",
    "new_lead_df.shape"
   ]
  },
  {
   "cell_type": "code",
   "execution_count": 84,
   "metadata": {
    "scrolled": false
   },
   "outputs": [
    {
     "data": {
      "text/plain": [
       "Prospect ID                                      0.0\n",
       "Lead Number                                      0.0\n",
       "Lead Origin                                      0.0\n",
       "Lead Source                                      0.0\n",
       "Do Not Email                                     0.0\n",
       "Do Not Call                                      0.0\n",
       "Converted                                        0.0\n",
       "TotalVisits                                      0.0\n",
       "Total Time Spent on Website                      0.0\n",
       "Page Views Per Visit                             0.0\n",
       "Last Activity                                    0.0\n",
       "Specialization                                   0.0\n",
       "How did you hear about X Education               0.0\n",
       "What is your current occupation                  0.0\n",
       "What matters most to you in choosing a course    0.0\n",
       "Search                                           0.0\n",
       "Newspaper Article                                0.0\n",
       "X Education Forums                               0.0\n",
       "Newspaper                                        0.0\n",
       "Digital Advertisement                            0.0\n",
       "Through Recommendations                          0.0\n",
       "Tags                                             0.0\n",
       "Lead Profile                                     0.0\n",
       "City                                             0.0\n",
       "A free copy of Mastering The Interview           0.0\n",
       "Last Notable Activity                            0.0\n",
       "dtype: float64"
      ]
     },
     "execution_count": 84,
     "metadata": {},
     "output_type": "execute_result"
    }
   ],
   "source": [
    "# Percentage of missing values\n",
    "round(100*(new_lead_df.isnull().sum()/len(new_lead_df.index)),2)"
   ]
  },
  {
   "cell_type": "markdown",
   "metadata": {},
   "source": [
    "\n"
   ]
  },
  {
   "cell_type": "markdown",
   "metadata": {},
   "source": [
    "We are now done with the Data Cleaning"
   ]
  },
  {
   "cell_type": "markdown",
   "metadata": {},
   "source": [
    "## 3. Data Preparation"
   ]
  },
  {
   "cell_type": "markdown",
   "metadata": {},
   "source": [
    "The column 'Prospect ID' contains some unique IDs which will not be benificial in this study."
   ]
  },
  {
   "cell_type": "code",
   "execution_count": 85,
   "metadata": {},
   "outputs": [],
   "source": [
    "# dropping the column 'Prospect ID'\n",
    "new_lead_df = new_lead_df.drop(['Prospect ID'],axis=1)"
   ]
  },
  {
   "cell_type": "code",
   "execution_count": 86,
   "metadata": {},
   "outputs": [
    {
     "name": "stdout",
     "output_type": "stream",
     "text": [
      "<class 'pandas.core.frame.DataFrame'>\n",
      "Int64Index: 5781 entries, 0 to 9239\n",
      "Data columns (total 25 columns):\n",
      "Lead Number                                      5781 non-null int64\n",
      "Lead Origin                                      5781 non-null object\n",
      "Lead Source                                      5781 non-null object\n",
      "Do Not Email                                     5781 non-null object\n",
      "Do Not Call                                      5781 non-null object\n",
      "Converted                                        5781 non-null int64\n",
      "TotalVisits                                      5781 non-null float64\n",
      "Total Time Spent on Website                      5781 non-null int64\n",
      "Page Views Per Visit                             5781 non-null float64\n",
      "Last Activity                                    5781 non-null object\n",
      "Specialization                                   5781 non-null object\n",
      "How did you hear about X Education               5781 non-null object\n",
      "What is your current occupation                  5781 non-null object\n",
      "What matters most to you in choosing a course    5781 non-null object\n",
      "Search                                           5781 non-null object\n",
      "Newspaper Article                                5781 non-null object\n",
      "X Education Forums                               5781 non-null object\n",
      "Newspaper                                        5781 non-null object\n",
      "Digital Advertisement                            5781 non-null object\n",
      "Through Recommendations                          5781 non-null object\n",
      "Tags                                             5781 non-null object\n",
      "Lead Profile                                     5781 non-null object\n",
      "City                                             5781 non-null object\n",
      "A free copy of Mastering The Interview           5781 non-null object\n",
      "Last Notable Activity                            5781 non-null object\n",
      "dtypes: float64(2), int64(3), object(20)\n",
      "memory usage: 1.1+ MB\n"
     ]
    }
   ],
   "source": [
    "# checking the Dataset\n",
    "new_lead_df.info()"
   ]
  },
  {
   "cell_type": "markdown",
   "metadata": {},
   "source": [
    "#### For the columns having values of only 'yes' or 'no', theses values will be converted to 1s and 0s for Model Building"
   ]
  },
  {
   "cell_type": "code",
   "execution_count": 87,
   "metadata": {
    "scrolled": true
   },
   "outputs": [
    {
     "data": {
      "text/html": [
       "<div>\n",
       "<style scoped>\n",
       "    .dataframe tbody tr th:only-of-type {\n",
       "        vertical-align: middle;\n",
       "    }\n",
       "\n",
       "    .dataframe tbody tr th {\n",
       "        vertical-align: top;\n",
       "    }\n",
       "\n",
       "    .dataframe thead th {\n",
       "        text-align: right;\n",
       "    }\n",
       "</style>\n",
       "<table border=\"1\" class=\"dataframe\">\n",
       "  <thead>\n",
       "    <tr style=\"text-align: right;\">\n",
       "      <th></th>\n",
       "      <th>Lead Number</th>\n",
       "      <th>Lead Origin</th>\n",
       "      <th>Lead Source</th>\n",
       "      <th>Do Not Email</th>\n",
       "      <th>Do Not Call</th>\n",
       "      <th>Converted</th>\n",
       "      <th>TotalVisits</th>\n",
       "      <th>Total Time Spent on Website</th>\n",
       "      <th>Page Views Per Visit</th>\n",
       "      <th>Last Activity</th>\n",
       "      <th>...</th>\n",
       "      <th>Newspaper Article</th>\n",
       "      <th>X Education Forums</th>\n",
       "      <th>Newspaper</th>\n",
       "      <th>Digital Advertisement</th>\n",
       "      <th>Through Recommendations</th>\n",
       "      <th>Tags</th>\n",
       "      <th>Lead Profile</th>\n",
       "      <th>City</th>\n",
       "      <th>A free copy of Mastering The Interview</th>\n",
       "      <th>Last Notable Activity</th>\n",
       "    </tr>\n",
       "  </thead>\n",
       "  <tbody>\n",
       "    <tr>\n",
       "      <th>0</th>\n",
       "      <td>660737</td>\n",
       "      <td>API</td>\n",
       "      <td>Olark Chat</td>\n",
       "      <td>0</td>\n",
       "      <td>0</td>\n",
       "      <td>0</td>\n",
       "      <td>0.0</td>\n",
       "      <td>0</td>\n",
       "      <td>0.00</td>\n",
       "      <td>Page Visited on Website</td>\n",
       "      <td>...</td>\n",
       "      <td>0</td>\n",
       "      <td>0</td>\n",
       "      <td>0</td>\n",
       "      <td>0</td>\n",
       "      <td>0</td>\n",
       "      <td>Interested in other courses</td>\n",
       "      <td>Select</td>\n",
       "      <td>Select</td>\n",
       "      <td>0</td>\n",
       "      <td>Modified</td>\n",
       "    </tr>\n",
       "    <tr>\n",
       "      <th>1</th>\n",
       "      <td>660728</td>\n",
       "      <td>API</td>\n",
       "      <td>Organic Search</td>\n",
       "      <td>0</td>\n",
       "      <td>0</td>\n",
       "      <td>0</td>\n",
       "      <td>5.0</td>\n",
       "      <td>674</td>\n",
       "      <td>2.50</td>\n",
       "      <td>Email Opened</td>\n",
       "      <td>...</td>\n",
       "      <td>0</td>\n",
       "      <td>0</td>\n",
       "      <td>0</td>\n",
       "      <td>0</td>\n",
       "      <td>0</td>\n",
       "      <td>Ringing</td>\n",
       "      <td>Select</td>\n",
       "      <td>Select</td>\n",
       "      <td>0</td>\n",
       "      <td>Email Opened</td>\n",
       "    </tr>\n",
       "    <tr>\n",
       "      <th>2</th>\n",
       "      <td>660727</td>\n",
       "      <td>Landing Page Submission</td>\n",
       "      <td>Direct Traffic</td>\n",
       "      <td>0</td>\n",
       "      <td>0</td>\n",
       "      <td>1</td>\n",
       "      <td>2.0</td>\n",
       "      <td>1532</td>\n",
       "      <td>2.00</td>\n",
       "      <td>Email Opened</td>\n",
       "      <td>...</td>\n",
       "      <td>0</td>\n",
       "      <td>0</td>\n",
       "      <td>0</td>\n",
       "      <td>0</td>\n",
       "      <td>0</td>\n",
       "      <td>Will revert after reading the email</td>\n",
       "      <td>Potential Lead</td>\n",
       "      <td>Mumbai</td>\n",
       "      <td>1</td>\n",
       "      <td>Email Opened</td>\n",
       "    </tr>\n",
       "    <tr>\n",
       "      <th>3</th>\n",
       "      <td>660719</td>\n",
       "      <td>Landing Page Submission</td>\n",
       "      <td>Direct Traffic</td>\n",
       "      <td>0</td>\n",
       "      <td>0</td>\n",
       "      <td>0</td>\n",
       "      <td>1.0</td>\n",
       "      <td>305</td>\n",
       "      <td>1.00</td>\n",
       "      <td>Unreachable</td>\n",
       "      <td>...</td>\n",
       "      <td>0</td>\n",
       "      <td>0</td>\n",
       "      <td>0</td>\n",
       "      <td>0</td>\n",
       "      <td>0</td>\n",
       "      <td>Ringing</td>\n",
       "      <td>Select</td>\n",
       "      <td>Mumbai</td>\n",
       "      <td>0</td>\n",
       "      <td>Modified</td>\n",
       "    </tr>\n",
       "    <tr>\n",
       "      <th>4</th>\n",
       "      <td>660681</td>\n",
       "      <td>Landing Page Submission</td>\n",
       "      <td>Google</td>\n",
       "      <td>0</td>\n",
       "      <td>0</td>\n",
       "      <td>1</td>\n",
       "      <td>2.0</td>\n",
       "      <td>1428</td>\n",
       "      <td>1.00</td>\n",
       "      <td>Converted to Lead</td>\n",
       "      <td>...</td>\n",
       "      <td>0</td>\n",
       "      <td>0</td>\n",
       "      <td>0</td>\n",
       "      <td>0</td>\n",
       "      <td>0</td>\n",
       "      <td>Will revert after reading the email</td>\n",
       "      <td>Select</td>\n",
       "      <td>Mumbai</td>\n",
       "      <td>0</td>\n",
       "      <td>Modified</td>\n",
       "    </tr>\n",
       "    <tr>\n",
       "      <th>6</th>\n",
       "      <td>660673</td>\n",
       "      <td>Landing Page Submission</td>\n",
       "      <td>Google</td>\n",
       "      <td>0</td>\n",
       "      <td>0</td>\n",
       "      <td>1</td>\n",
       "      <td>2.0</td>\n",
       "      <td>1640</td>\n",
       "      <td>2.00</td>\n",
       "      <td>Email Opened</td>\n",
       "      <td>...</td>\n",
       "      <td>0</td>\n",
       "      <td>0</td>\n",
       "      <td>0</td>\n",
       "      <td>0</td>\n",
       "      <td>0</td>\n",
       "      <td>Will revert after reading the email</td>\n",
       "      <td>Potential Lead</td>\n",
       "      <td>Mumbai</td>\n",
       "      <td>0</td>\n",
       "      <td>Modified</td>\n",
       "    </tr>\n",
       "    <tr>\n",
       "      <th>10</th>\n",
       "      <td>660608</td>\n",
       "      <td>Landing Page Submission</td>\n",
       "      <td>Organic Search</td>\n",
       "      <td>0</td>\n",
       "      <td>0</td>\n",
       "      <td>1</td>\n",
       "      <td>8.0</td>\n",
       "      <td>1351</td>\n",
       "      <td>8.00</td>\n",
       "      <td>Email Opened</td>\n",
       "      <td>...</td>\n",
       "      <td>0</td>\n",
       "      <td>0</td>\n",
       "      <td>0</td>\n",
       "      <td>0</td>\n",
       "      <td>0</td>\n",
       "      <td>Will revert after reading the email</td>\n",
       "      <td>Select</td>\n",
       "      <td>Other Metro Cities</td>\n",
       "      <td>1</td>\n",
       "      <td>Email Opened</td>\n",
       "    </tr>\n",
       "    <tr>\n",
       "      <th>11</th>\n",
       "      <td>660570</td>\n",
       "      <td>Landing Page Submission</td>\n",
       "      <td>Direct Traffic</td>\n",
       "      <td>0</td>\n",
       "      <td>0</td>\n",
       "      <td>1</td>\n",
       "      <td>8.0</td>\n",
       "      <td>1343</td>\n",
       "      <td>2.67</td>\n",
       "      <td>Page Visited on Website</td>\n",
       "      <td>...</td>\n",
       "      <td>0</td>\n",
       "      <td>0</td>\n",
       "      <td>0</td>\n",
       "      <td>0</td>\n",
       "      <td>0</td>\n",
       "      <td>Lost to EINS</td>\n",
       "      <td>Select</td>\n",
       "      <td>Thane &amp; Outskirts</td>\n",
       "      <td>1</td>\n",
       "      <td>Page Visited on Website</td>\n",
       "    </tr>\n",
       "    <tr>\n",
       "      <th>12</th>\n",
       "      <td>660562</td>\n",
       "      <td>API</td>\n",
       "      <td>Organic Search</td>\n",
       "      <td>0</td>\n",
       "      <td>0</td>\n",
       "      <td>1</td>\n",
       "      <td>11.0</td>\n",
       "      <td>1538</td>\n",
       "      <td>11.00</td>\n",
       "      <td>Email Opened</td>\n",
       "      <td>...</td>\n",
       "      <td>0</td>\n",
       "      <td>0</td>\n",
       "      <td>0</td>\n",
       "      <td>0</td>\n",
       "      <td>0</td>\n",
       "      <td>Will revert after reading the email</td>\n",
       "      <td>Potential Lead</td>\n",
       "      <td>Select</td>\n",
       "      <td>0</td>\n",
       "      <td>Modified</td>\n",
       "    </tr>\n",
       "    <tr>\n",
       "      <th>13</th>\n",
       "      <td>660558</td>\n",
       "      <td>Landing Page Submission</td>\n",
       "      <td>Organic Search</td>\n",
       "      <td>0</td>\n",
       "      <td>0</td>\n",
       "      <td>0</td>\n",
       "      <td>5.0</td>\n",
       "      <td>170</td>\n",
       "      <td>5.00</td>\n",
       "      <td>Email Opened</td>\n",
       "      <td>...</td>\n",
       "      <td>0</td>\n",
       "      <td>0</td>\n",
       "      <td>0</td>\n",
       "      <td>0</td>\n",
       "      <td>0</td>\n",
       "      <td>Ringing</td>\n",
       "      <td>Select</td>\n",
       "      <td>Thane &amp; Outskirts</td>\n",
       "      <td>1</td>\n",
       "      <td>Email Opened</td>\n",
       "    </tr>\n",
       "  </tbody>\n",
       "</table>\n",
       "<p>10 rows × 25 columns</p>\n",
       "</div>"
      ],
      "text/plain": [
       "    Lead Number              Lead Origin     Lead Source  Do Not Email  \\\n",
       "0        660737                      API      Olark Chat             0   \n",
       "1        660728                      API  Organic Search             0   \n",
       "2        660727  Landing Page Submission  Direct Traffic             0   \n",
       "3        660719  Landing Page Submission  Direct Traffic             0   \n",
       "4        660681  Landing Page Submission          Google             0   \n",
       "6        660673  Landing Page Submission          Google             0   \n",
       "10       660608  Landing Page Submission  Organic Search             0   \n",
       "11       660570  Landing Page Submission  Direct Traffic             0   \n",
       "12       660562                      API  Organic Search             0   \n",
       "13       660558  Landing Page Submission  Organic Search             0   \n",
       "\n",
       "    Do Not Call  Converted  TotalVisits  Total Time Spent on Website  \\\n",
       "0             0          0          0.0                            0   \n",
       "1             0          0          5.0                          674   \n",
       "2             0          1          2.0                         1532   \n",
       "3             0          0          1.0                          305   \n",
       "4             0          1          2.0                         1428   \n",
       "6             0          1          2.0                         1640   \n",
       "10            0          1          8.0                         1351   \n",
       "11            0          1          8.0                         1343   \n",
       "12            0          1         11.0                         1538   \n",
       "13            0          0          5.0                          170   \n",
       "\n",
       "    Page Views Per Visit            Last Activity  ... Newspaper Article  \\\n",
       "0                   0.00  Page Visited on Website  ...                 0   \n",
       "1                   2.50             Email Opened  ...                 0   \n",
       "2                   2.00             Email Opened  ...                 0   \n",
       "3                   1.00              Unreachable  ...                 0   \n",
       "4                   1.00        Converted to Lead  ...                 0   \n",
       "6                   2.00             Email Opened  ...                 0   \n",
       "10                  8.00             Email Opened  ...                 0   \n",
       "11                  2.67  Page Visited on Website  ...                 0   \n",
       "12                 11.00             Email Opened  ...                 0   \n",
       "13                  5.00             Email Opened  ...                 0   \n",
       "\n",
       "   X Education Forums Newspaper Digital Advertisement  \\\n",
       "0                   0         0                     0   \n",
       "1                   0         0                     0   \n",
       "2                   0         0                     0   \n",
       "3                   0         0                     0   \n",
       "4                   0         0                     0   \n",
       "6                   0         0                     0   \n",
       "10                  0         0                     0   \n",
       "11                  0         0                     0   \n",
       "12                  0         0                     0   \n",
       "13                  0         0                     0   \n",
       "\n",
       "    Through Recommendations                                 Tags  \\\n",
       "0                         0          Interested in other courses   \n",
       "1                         0                              Ringing   \n",
       "2                         0  Will revert after reading the email   \n",
       "3                         0                              Ringing   \n",
       "4                         0  Will revert after reading the email   \n",
       "6                         0  Will revert after reading the email   \n",
       "10                        0  Will revert after reading the email   \n",
       "11                        0                         Lost to EINS   \n",
       "12                        0  Will revert after reading the email   \n",
       "13                        0                              Ringing   \n",
       "\n",
       "      Lead Profile                City  \\\n",
       "0           Select              Select   \n",
       "1           Select              Select   \n",
       "2   Potential Lead              Mumbai   \n",
       "3           Select              Mumbai   \n",
       "4           Select              Mumbai   \n",
       "6   Potential Lead              Mumbai   \n",
       "10          Select  Other Metro Cities   \n",
       "11          Select   Thane & Outskirts   \n",
       "12  Potential Lead              Select   \n",
       "13          Select   Thane & Outskirts   \n",
       "\n",
       "    A free copy of Mastering The Interview    Last Notable Activity  \n",
       "0                                        0                 Modified  \n",
       "1                                        0             Email Opened  \n",
       "2                                        1             Email Opened  \n",
       "3                                        0                 Modified  \n",
       "4                                        0                 Modified  \n",
       "6                                        0                 Modified  \n",
       "10                                       1             Email Opened  \n",
       "11                                       1  Page Visited on Website  \n",
       "12                                       0                 Modified  \n",
       "13                                       1             Email Opened  \n",
       "\n",
       "[10 rows x 25 columns]"
      ]
     },
     "execution_count": 87,
     "metadata": {},
     "output_type": "execute_result"
    }
   ],
   "source": [
    "# categorical columns with values 'yes' and 'no' are\n",
    "bin_vars = ['Do Not Email','Do Not Call','Search','Newspaper Article','X Education Forums','Newspaper','Digital Advertisement','Through Recommendations','A free copy of Mastering The Interview']\n",
    "\n",
    "# converting all the 'yes' and 'no' to 1s and 0s\n",
    "def binary_map(x):\n",
    "    return x.map({'Yes': 1, \"No\": 0})\n",
    "new_lead_df[bin_vars] =new_lead_df[bin_vars].apply(binary_map)\n",
    "new_lead_df.head(10)"
   ]
  },
  {
   "cell_type": "code",
   "execution_count": 88,
   "metadata": {},
   "outputs": [
    {
     "data": {
      "text/plain": [
       "Index(['Lead Number', 'Lead Origin', 'Lead Source', 'Do Not Email',\n",
       "       'Do Not Call', 'Converted', 'TotalVisits',\n",
       "       'Total Time Spent on Website', 'Page Views Per Visit', 'Last Activity',\n",
       "       'Specialization', 'How did you hear about X Education',\n",
       "       'What is your current occupation',\n",
       "       'What matters most to you in choosing a course', 'Search',\n",
       "       'Newspaper Article', 'X Education Forums', 'Newspaper',\n",
       "       'Digital Advertisement', 'Through Recommendations', 'Tags',\n",
       "       'Lead Profile', 'City', 'A free copy of Mastering The Interview',\n",
       "       'Last Notable Activity'],\n",
       "      dtype='object')"
      ]
     },
     "execution_count": 88,
     "metadata": {},
     "output_type": "execute_result"
    }
   ],
   "source": [
    "new_lead_df.columns"
   ]
  },
  {
   "cell_type": "markdown",
   "metadata": {},
   "source": [
    "## Dummy variables"
   ]
  },
  {
   "cell_type": "code",
   "execution_count": 89,
   "metadata": {},
   "outputs": [
    {
     "data": {
      "text/plain": [
       "Index(['Lead Origin_Landing Page Submission', 'Lead Origin_Lead Add Form',\n",
       "       'Lead Origin_Lead Import', 'Lead Source_Direct Traffic',\n",
       "       'Lead Source_Facebook', 'Lead Source_Google', 'Lead Source_Live Chat',\n",
       "       'Lead Source_Olark Chat', 'Lead Source_Organic Search',\n",
       "       'Lead Source_Pay per Click Ads',\n",
       "       ...\n",
       "       'Last Notable Activity_Email Opened',\n",
       "       'Last Notable Activity_Email Received',\n",
       "       'Last Notable Activity_Had a Phone Conversation',\n",
       "       'Last Notable Activity_Modified',\n",
       "       'Last Notable Activity_Olark Chat Conversation',\n",
       "       'Last Notable Activity_Page Visited on Website',\n",
       "       'Last Notable Activity_SMS Sent', 'Last Notable Activity_Unreachable',\n",
       "       'Last Notable Activity_Unsubscribed',\n",
       "       'Last Notable Activity_View in browser link Clicked'],\n",
       "      dtype='object', length=116)"
      ]
     },
     "execution_count": 89,
     "metadata": {},
     "output_type": "execute_result"
    }
   ],
   "source": [
    "# making a list of all the object type categorical variables needs to be converted to a numericsl one.\n",
    "dum_vars = ['Lead Origin', 'Lead Source', 'Last Activity', 'Specialization','How did you hear about X Education', \n",
    "            'What is your current occupation','What matters most to you in choosing a course', 'Tags',\n",
    "            'Lead Profile', 'City','Last Notable Activity']\n",
    "dummies = pd.get_dummies(new_lead_df[dum_vars], drop_first=True)\n",
    "dummies.columns"
   ]
  },
  {
   "cell_type": "markdown",
   "metadata": {},
   "source": [
    "#### Concatenating the dummies DataFrame with the original Dataset after dropping all the original variables"
   ]
  },
  {
   "cell_type": "code",
   "execution_count": 90,
   "metadata": {},
   "outputs": [],
   "source": [
    "new_lead_df = new_lead_df.drop(dum_vars, axis =1)\n",
    "new_lead_df = pd.concat([new_lead_df, dummies], axis=1)"
   ]
  },
  {
   "cell_type": "code",
   "execution_count": 91,
   "metadata": {},
   "outputs": [
    {
     "data": {
      "text/plain": [
       "(5781, 130)"
      ]
     },
     "execution_count": 91,
     "metadata": {},
     "output_type": "execute_result"
    }
   ],
   "source": [
    "new_lead_df.shape"
   ]
  },
  {
   "cell_type": "markdown",
   "metadata": {},
   "source": [
    "### Checking for Outliers"
   ]
  },
  {
   "cell_type": "code",
   "execution_count": 92,
   "metadata": {},
   "outputs": [
    {
     "data": {
      "text/html": [
       "<div>\n",
       "<style scoped>\n",
       "    .dataframe tbody tr th:only-of-type {\n",
       "        vertical-align: middle;\n",
       "    }\n",
       "\n",
       "    .dataframe tbody tr th {\n",
       "        vertical-align: top;\n",
       "    }\n",
       "\n",
       "    .dataframe thead th {\n",
       "        text-align: right;\n",
       "    }\n",
       "</style>\n",
       "<table border=\"1\" class=\"dataframe\">\n",
       "  <thead>\n",
       "    <tr style=\"text-align: right;\">\n",
       "      <th></th>\n",
       "      <th>TotalVisits</th>\n",
       "      <th>Total Time Spent on Website</th>\n",
       "      <th>Page Views Per Visit</th>\n",
       "    </tr>\n",
       "  </thead>\n",
       "  <tbody>\n",
       "    <tr>\n",
       "      <th>count</th>\n",
       "      <td>5781.000000</td>\n",
       "      <td>5781.000000</td>\n",
       "      <td>5781.000000</td>\n",
       "    </tr>\n",
       "    <tr>\n",
       "      <th>mean</th>\n",
       "      <td>3.690192</td>\n",
       "      <td>551.963674</td>\n",
       "      <td>2.570453</td>\n",
       "    </tr>\n",
       "    <tr>\n",
       "      <th>std</th>\n",
       "      <td>4.878278</td>\n",
       "      <td>566.565911</td>\n",
       "      <td>2.043958</td>\n",
       "    </tr>\n",
       "    <tr>\n",
       "      <th>min</th>\n",
       "      <td>0.000000</td>\n",
       "      <td>0.000000</td>\n",
       "      <td>0.000000</td>\n",
       "    </tr>\n",
       "    <tr>\n",
       "      <th>25%</th>\n",
       "      <td>2.000000</td>\n",
       "      <td>60.000000</td>\n",
       "      <td>1.330000</td>\n",
       "    </tr>\n",
       "    <tr>\n",
       "      <th>50%</th>\n",
       "      <td>3.000000</td>\n",
       "      <td>305.000000</td>\n",
       "      <td>2.000000</td>\n",
       "    </tr>\n",
       "    <tr>\n",
       "      <th>75%</th>\n",
       "      <td>5.000000</td>\n",
       "      <td>1042.000000</td>\n",
       "      <td>4.000000</td>\n",
       "    </tr>\n",
       "    <tr>\n",
       "      <th>90%</th>\n",
       "      <td>8.000000</td>\n",
       "      <td>1448.000000</td>\n",
       "      <td>5.000000</td>\n",
       "    </tr>\n",
       "    <tr>\n",
       "      <th>95%</th>\n",
       "      <td>10.000000</td>\n",
       "      <td>1603.000000</td>\n",
       "      <td>6.000000</td>\n",
       "    </tr>\n",
       "    <tr>\n",
       "      <th>99%</th>\n",
       "      <td>17.000000</td>\n",
       "      <td>1851.800000</td>\n",
       "      <td>9.000000</td>\n",
       "    </tr>\n",
       "    <tr>\n",
       "      <th>max</th>\n",
       "      <td>251.000000</td>\n",
       "      <td>2272.000000</td>\n",
       "      <td>16.000000</td>\n",
       "    </tr>\n",
       "  </tbody>\n",
       "</table>\n",
       "</div>"
      ],
      "text/plain": [
       "       TotalVisits  Total Time Spent on Website  Page Views Per Visit\n",
       "count  5781.000000                  5781.000000           5781.000000\n",
       "mean      3.690192                   551.963674              2.570453\n",
       "std       4.878278                   566.565911              2.043958\n",
       "min       0.000000                     0.000000              0.000000\n",
       "25%       2.000000                    60.000000              1.330000\n",
       "50%       3.000000                   305.000000              2.000000\n",
       "75%       5.000000                  1042.000000              4.000000\n",
       "90%       8.000000                  1448.000000              5.000000\n",
       "95%      10.000000                  1603.000000              6.000000\n",
       "99%      17.000000                  1851.800000              9.000000\n",
       "max     251.000000                  2272.000000             16.000000"
      ]
     },
     "execution_count": 92,
     "metadata": {},
     "output_type": "execute_result"
    }
   ],
   "source": [
    "# selecting all the numerical variables\n",
    "num_vars = ['TotalVisits', 'Total Time Spent on Website', 'Page Views Per Visit',]\n",
    "\n",
    "# checking their statistical values\n",
    "new_lead_df[num_vars].describe(percentiles=[0.25,0.5,0.75,0.90,0.95,0.99])"
   ]
  },
  {
   "cell_type": "code",
   "execution_count": 178,
   "metadata": {},
   "outputs": [
    {
     "data": {
      "image/png": "[encoded data removed]",
      "text/plain": [
       "<Figure size 1080x360 with 3 Axes>"
      ]
     },
     "metadata": {
      "needs_background": "light"
     },
     "output_type": "display_data"
    }
   ],
   "source": [
    "# plotting boxplots for the numerical variables\n",
    "\n",
    "plt.figure(figsize=(15,5))\n",
    "plt.subplot(1,3,1)\n",
    "sns.boxplot(y='TotalVisits', data=new_lead_df)\n",
    "plt.subplot(1,3,2)\n",
    "sns.boxplot(y='Total Time Spent on Website', data=new_lead_df)\n",
    "plt.subplot(1,3,3)\n",
    "sns.boxplot(y='Page Views Per Visit', data=new_lead_df)\n",
    "plt.show()"
   ]
  },
  {
   "cell_type": "markdown",
   "metadata": {},
   "source": [
    "All the Outliers need to be removed as they will alter various statistical aspects and will decrease the accuracy of our prediction model"
   ]
  },
  {
   "cell_type": "code",
   "execution_count": 93,
   "metadata": {},
   "outputs": [],
   "source": [
    "# removing outliers for the column 'TotalVisits'\n",
    "q1 = new_lead_df['TotalVisits'].quantile(0.25)\n",
    "q3 = new_lead_df['TotalVisits'].quantile(0.75)\n",
    "IQR = q3-q1\n",
    "new_lead_df = new_lead_df[~((new_lead_df['TotalVisits'] < (q1-1.5*IQR)) | (new_lead_df['TotalVisits'] > (q3+1.5*IQR)) )]\n",
    "\n",
    "# removing outliers for the column 'Total Time Spent on Website'\n",
    "q1 = new_lead_df['Total Time Spent on Website'].quantile(0.25)\n",
    "q3 = new_lead_df['Total Time Spent on Website'].quantile(0.75)\n",
    "IQR = q3-q1\n",
    "new_lead_df = new_lead_df[~((new_lead_df['Total Time Spent on Website'] < (q1-1.5*IQR)) | (new_lead_df['Total Time Spent on Website'] > (q3+1.5*IQR)) )]\n",
    "\n",
    "# removing outliers for the column 'Page Views Per Visit'\n",
    "q1 = new_lead_df['Page Views Per Visit'].quantile(0.25)\n",
    "q3 = new_lead_df['Page Views Per Visit'].quantile(0.75)\n",
    "IQR = q3-q1\n",
    "new_lead_df = new_lead_df[~((new_lead_df['Page Views Per Visit'] < (q1-1.5*IQR)) | (new_lead_df['Page Views Per Visit'] > (q3+1.5*IQR)) )]"
   ]
  },
  {
   "cell_type": "code",
   "execution_count": 94,
   "metadata": {},
   "outputs": [
    {
     "data": {
      "text/html": [
       "<div>\n",
       "<style scoped>\n",
       "    .dataframe tbody tr th:only-of-type {\n",
       "        vertical-align: middle;\n",
       "    }\n",
       "\n",
       "    .dataframe tbody tr th {\n",
       "        vertical-align: top;\n",
       "    }\n",
       "\n",
       "    .dataframe thead th {\n",
       "        text-align: right;\n",
       "    }\n",
       "</style>\n",
       "<table border=\"1\" class=\"dataframe\">\n",
       "  <thead>\n",
       "    <tr style=\"text-align: right;\">\n",
       "      <th></th>\n",
       "      <th>TotalVisits</th>\n",
       "      <th>Total Time Spent on Website</th>\n",
       "      <th>Page Views Per Visit</th>\n",
       "    </tr>\n",
       "  </thead>\n",
       "  <tbody>\n",
       "    <tr>\n",
       "      <th>count</th>\n",
       "      <td>5375.000000</td>\n",
       "      <td>5375.000000</td>\n",
       "      <td>5375.000000</td>\n",
       "    </tr>\n",
       "    <tr>\n",
       "      <th>mean</th>\n",
       "      <td>2.956093</td>\n",
       "      <td>536.766884</td>\n",
       "      <td>2.327725</td>\n",
       "    </tr>\n",
       "    <tr>\n",
       "      <th>std</th>\n",
       "      <td>2.205891</td>\n",
       "      <td>562.934314</td>\n",
       "      <td>1.694955</td>\n",
       "    </tr>\n",
       "    <tr>\n",
       "      <th>min</th>\n",
       "      <td>0.000000</td>\n",
       "      <td>0.000000</td>\n",
       "      <td>0.000000</td>\n",
       "    </tr>\n",
       "    <tr>\n",
       "      <th>25%</th>\n",
       "      <td>2.000000</td>\n",
       "      <td>46.000000</td>\n",
       "      <td>1.000000</td>\n",
       "    </tr>\n",
       "    <tr>\n",
       "      <th>50%</th>\n",
       "      <td>3.000000</td>\n",
       "      <td>289.000000</td>\n",
       "      <td>2.000000</td>\n",
       "    </tr>\n",
       "    <tr>\n",
       "      <th>75%</th>\n",
       "      <td>4.000000</td>\n",
       "      <td>1021.000000</td>\n",
       "      <td>3.000000</td>\n",
       "    </tr>\n",
       "    <tr>\n",
       "      <th>90%</th>\n",
       "      <td>6.000000</td>\n",
       "      <td>1425.000000</td>\n",
       "      <td>5.000000</td>\n",
       "    </tr>\n",
       "    <tr>\n",
       "      <th>95%</th>\n",
       "      <td>7.000000</td>\n",
       "      <td>1593.600000</td>\n",
       "      <td>5.000000</td>\n",
       "    </tr>\n",
       "    <tr>\n",
       "      <th>99%</th>\n",
       "      <td>9.000000</td>\n",
       "      <td>1845.260000</td>\n",
       "      <td>7.000000</td>\n",
       "    </tr>\n",
       "    <tr>\n",
       "      <th>max</th>\n",
       "      <td>9.000000</td>\n",
       "      <td>2272.000000</td>\n",
       "      <td>7.000000</td>\n",
       "    </tr>\n",
       "  </tbody>\n",
       "</table>\n",
       "</div>"
      ],
      "text/plain": [
       "       TotalVisits  Total Time Spent on Website  Page Views Per Visit\n",
       "count  5375.000000                  5375.000000           5375.000000\n",
       "mean      2.956093                   536.766884              2.327725\n",
       "std       2.205891                   562.934314              1.694955\n",
       "min       0.000000                     0.000000              0.000000\n",
       "25%       2.000000                    46.000000              1.000000\n",
       "50%       3.000000                   289.000000              2.000000\n",
       "75%       4.000000                  1021.000000              3.000000\n",
       "90%       6.000000                  1425.000000              5.000000\n",
       "95%       7.000000                  1593.600000              5.000000\n",
       "99%       9.000000                  1845.260000              7.000000\n",
       "max       9.000000                  2272.000000              7.000000"
      ]
     },
     "execution_count": 94,
     "metadata": {},
     "output_type": "execute_result"
    }
   ],
   "source": [
    "# checking their statistical values\n",
    "new_lead_df[num_vars].describe(percentiles=[0.25,0.5,0.75,0.90,0.95,0.99])"
   ]
  },
  {
   "cell_type": "markdown",
   "metadata": {},
   "source": [
    "Checking for the missing values"
   ]
  },
  {
   "cell_type": "code",
   "execution_count": 95,
   "metadata": {},
   "outputs": [
    {
     "name": "stdout",
     "output_type": "stream",
     "text": [
      "<class 'pandas.core.frame.DataFrame'>\n",
      "Int64Index: 5375 entries, 0 to 9239\n",
      "Columns: 130 entries, Lead Number to Last Notable Activity_View in browser link Clicked\n",
      "dtypes: float64(2), int64(12), uint8(116)\n",
      "memory usage: 1.2 MB\n"
     ]
    }
   ],
   "source": [
    "new_lead_df.info()"
   ]
  },
  {
   "cell_type": "code",
   "execution_count": 96,
   "metadata": {},
   "outputs": [
    {
     "data": {
      "text/plain": [
       "Lead Number                                           0.0\n",
       "Do Not Email                                          0.0\n",
       "Do Not Call                                           0.0\n",
       "Converted                                             0.0\n",
       "TotalVisits                                           0.0\n",
       "Total Time Spent on Website                           0.0\n",
       "Page Views Per Visit                                  0.0\n",
       "Search                                                0.0\n",
       "Newspaper Article                                     0.0\n",
       "X Education Forums                                    0.0\n",
       "Newspaper                                             0.0\n",
       "Digital Advertisement                                 0.0\n",
       "Through Recommendations                               0.0\n",
       "A free copy of Mastering The Interview                0.0\n",
       "Lead Origin_Landing Page Submission                   0.0\n",
       "Lead Origin_Lead Add Form                             0.0\n",
       "Lead Origin_Lead Import                               0.0\n",
       "Lead Source_Direct Traffic                            0.0\n",
       "Lead Source_Facebook                                  0.0\n",
       "Lead Source_Google                                    0.0\n",
       "Lead Source_Live Chat                                 0.0\n",
       "Lead Source_Olark Chat                                0.0\n",
       "Lead Source_Organic Search                            0.0\n",
       "Lead Source_Pay per Click Ads                         0.0\n",
       "Lead Source_Press_Release                             0.0\n",
       "Lead Source_Reference                                 0.0\n",
       "Lead Source_Referral Sites                            0.0\n",
       "Lead Source_Social Media                              0.0\n",
       "Lead Source_WeLearn                                   0.0\n",
       "Lead Source_Welingak Website                          0.0\n",
       "                                                     ... \n",
       "Tags_in touch with EINS                               0.0\n",
       "Tags_invalid number                                   0.0\n",
       "Tags_number not provided                              0.0\n",
       "Tags_opp hangup                                       0.0\n",
       "Tags_switched off                                     0.0\n",
       "Tags_wrong number given                               0.0\n",
       "Lead Profile_Lateral Student                          0.0\n",
       "Lead Profile_Other Leads                              0.0\n",
       "Lead Profile_Potential Lead                           0.0\n",
       "Lead Profile_Select                                   0.0\n",
       "Lead Profile_Student of SomeSchool                    0.0\n",
       "City_Other Cities                                     0.0\n",
       "City_Other Cities of Maharashtra                      0.0\n",
       "City_Other Metro Cities                               0.0\n",
       "City_Select                                           0.0\n",
       "City_Thane & Outskirts                                0.0\n",
       "City_Tier II Cities                                   0.0\n",
       "Last Notable Activity_Email Bounced                   0.0\n",
       "Last Notable Activity_Email Link Clicked              0.0\n",
       "Last Notable Activity_Email Marked Spam               0.0\n",
       "Last Notable Activity_Email Opened                    0.0\n",
       "Last Notable Activity_Email Received                  0.0\n",
       "Last Notable Activity_Had a Phone Conversation        0.0\n",
       "Last Notable Activity_Modified                        0.0\n",
       "Last Notable Activity_Olark Chat Conversation         0.0\n",
       "Last Notable Activity_Page Visited on Website         0.0\n",
       "Last Notable Activity_SMS Sent                        0.0\n",
       "Last Notable Activity_Unreachable                     0.0\n",
       "Last Notable Activity_Unsubscribed                    0.0\n",
       "Last Notable Activity_View in browser link Clicked    0.0\n",
       "Length: 130, dtype: float64"
      ]
     },
     "execution_count": 96,
     "metadata": {},
     "output_type": "execute_result"
    }
   ],
   "source": [
    "round(100*(new_lead_df.isnull().sum()/len(new_lead_df.index)),2)"
   ]
  },
  {
   "cell_type": "markdown",
   "metadata": {},
   "source": [
    "## 4. Train-Test Split"
   ]
  },
  {
   "cell_type": "code",
   "execution_count": 97,
   "metadata": {},
   "outputs": [],
   "source": [
    "# defining target variance 'y'\n",
    "y = new_lead_df[['Lead Number','Converted']]\n",
    "y = y.set_index('Lead Number')\n",
    "# defining the Dataset containing the independent variables\n",
    "X = new_lead_df.drop('Converted', axis=1)\n",
    "X = X.set_index('Lead Number')"
   ]
  },
  {
   "cell_type": "code",
   "execution_count": 98,
   "metadata": {},
   "outputs": [
    {
     "data": {
      "text/html": [
       "<div>\n",
       "<style scoped>\n",
       "    .dataframe tbody tr th:only-of-type {\n",
       "        vertical-align: middle;\n",
       "    }\n",
       "\n",
       "    .dataframe tbody tr th {\n",
       "        vertical-align: top;\n",
       "    }\n",
       "\n",
       "    .dataframe thead th {\n",
       "        text-align: right;\n",
       "    }\n",
       "</style>\n",
       "<table border=\"1\" class=\"dataframe\">\n",
       "  <thead>\n",
       "    <tr style=\"text-align: right;\">\n",
       "      <th></th>\n",
       "      <th>Converted</th>\n",
       "    </tr>\n",
       "    <tr>\n",
       "      <th>Lead Number</th>\n",
       "      <th></th>\n",
       "    </tr>\n",
       "  </thead>\n",
       "  <tbody>\n",
       "    <tr>\n",
       "      <th>660737</th>\n",
       "      <td>0</td>\n",
       "    </tr>\n",
       "    <tr>\n",
       "      <th>660728</th>\n",
       "      <td>0</td>\n",
       "    </tr>\n",
       "    <tr>\n",
       "      <th>660727</th>\n",
       "      <td>1</td>\n",
       "    </tr>\n",
       "    <tr>\n",
       "      <th>660719</th>\n",
       "      <td>0</td>\n",
       "    </tr>\n",
       "    <tr>\n",
       "      <th>660681</th>\n",
       "      <td>1</td>\n",
       "    </tr>\n",
       "  </tbody>\n",
       "</table>\n",
       "</div>"
      ],
      "text/plain": [
       "             Converted\n",
       "Lead Number           \n",
       "660737               0\n",
       "660728               0\n",
       "660727               1\n",
       "660719               0\n",
       "660681               1"
      ]
     },
     "execution_count": 98,
     "metadata": {},
     "output_type": "execute_result"
    }
   ],
   "source": [
    "y.head()"
   ]
  },
  {
   "cell_type": "code",
   "execution_count": 99,
   "metadata": {},
   "outputs": [
    {
     "data": {
      "text/html": [
       "<div>\n",
       "<style scoped>\n",
       "    .dataframe tbody tr th:only-of-type {\n",
       "        vertical-align: middle;\n",
       "    }\n",
       "\n",
       "    .dataframe tbody tr th {\n",
       "        vertical-align: top;\n",
       "    }\n",
       "\n",
       "    .dataframe thead th {\n",
       "        text-align: right;\n",
       "    }\n",
       "</style>\n",
       "<table border=\"1\" class=\"dataframe\">\n",
       "  <thead>\n",
       "    <tr style=\"text-align: right;\">\n",
       "      <th></th>\n",
       "      <th>Converted</th>\n",
       "    </tr>\n",
       "    <tr>\n",
       "      <th>Lead Number</th>\n",
       "      <th></th>\n",
       "    </tr>\n",
       "  </thead>\n",
       "  <tbody>\n",
       "    <tr>\n",
       "      <th>660737</th>\n",
       "      <td>0</td>\n",
       "    </tr>\n",
       "    <tr>\n",
       "      <th>660728</th>\n",
       "      <td>0</td>\n",
       "    </tr>\n",
       "    <tr>\n",
       "      <th>660727</th>\n",
       "      <td>1</td>\n",
       "    </tr>\n",
       "    <tr>\n",
       "      <th>660719</th>\n",
       "      <td>0</td>\n",
       "    </tr>\n",
       "    <tr>\n",
       "      <th>660681</th>\n",
       "      <td>1</td>\n",
       "    </tr>\n",
       "  </tbody>\n",
       "</table>\n",
       "</div>"
      ],
      "text/plain": [
       "             Converted\n",
       "Lead Number           \n",
       "660737               0\n",
       "660728               0\n",
       "660727               1\n",
       "660719               0\n",
       "660681               1"
      ]
     },
     "execution_count": 99,
     "metadata": {},
     "output_type": "execute_result"
    }
   ],
   "source": [
    "y.head()"
   ]
  },
  {
   "cell_type": "code",
   "execution_count": 100,
   "metadata": {},
   "outputs": [
    {
     "data": {
      "text/html": [
       "<div>\n",
       "<style scoped>\n",
       "    .dataframe tbody tr th:only-of-type {\n",
       "        vertical-align: middle;\n",
       "    }\n",
       "\n",
       "    .dataframe tbody tr th {\n",
       "        vertical-align: top;\n",
       "    }\n",
       "\n",
       "    .dataframe thead th {\n",
       "        text-align: right;\n",
       "    }\n",
       "</style>\n",
       "<table border=\"1\" class=\"dataframe\">\n",
       "  <thead>\n",
       "    <tr style=\"text-align: right;\">\n",
       "      <th></th>\n",
       "      <th>Do Not Email</th>\n",
       "      <th>Do Not Call</th>\n",
       "      <th>TotalVisits</th>\n",
       "      <th>Total Time Spent on Website</th>\n",
       "      <th>Page Views Per Visit</th>\n",
       "      <th>Search</th>\n",
       "      <th>Newspaper Article</th>\n",
       "      <th>X Education Forums</th>\n",
       "      <th>Newspaper</th>\n",
       "      <th>Digital Advertisement</th>\n",
       "      <th>...</th>\n",
       "      <th>Last Notable Activity_Email Opened</th>\n",
       "      <th>Last Notable Activity_Email Received</th>\n",
       "      <th>Last Notable Activity_Had a Phone Conversation</th>\n",
       "      <th>Last Notable Activity_Modified</th>\n",
       "      <th>Last Notable Activity_Olark Chat Conversation</th>\n",
       "      <th>Last Notable Activity_Page Visited on Website</th>\n",
       "      <th>Last Notable Activity_SMS Sent</th>\n",
       "      <th>Last Notable Activity_Unreachable</th>\n",
       "      <th>Last Notable Activity_Unsubscribed</th>\n",
       "      <th>Last Notable Activity_View in browser link Clicked</th>\n",
       "    </tr>\n",
       "    <tr>\n",
       "      <th>Lead Number</th>\n",
       "      <th></th>\n",
       "      <th></th>\n",
       "      <th></th>\n",
       "      <th></th>\n",
       "      <th></th>\n",
       "      <th></th>\n",
       "      <th></th>\n",
       "      <th></th>\n",
       "      <th></th>\n",
       "      <th></th>\n",
       "      <th></th>\n",
       "      <th></th>\n",
       "      <th></th>\n",
       "      <th></th>\n",
       "      <th></th>\n",
       "      <th></th>\n",
       "      <th></th>\n",
       "      <th></th>\n",
       "      <th></th>\n",
       "      <th></th>\n",
       "      <th></th>\n",
       "    </tr>\n",
       "  </thead>\n",
       "  <tbody>\n",
       "    <tr>\n",
       "      <th>660737</th>\n",
       "      <td>0</td>\n",
       "      <td>0</td>\n",
       "      <td>0.0</td>\n",
       "      <td>0</td>\n",
       "      <td>0.0</td>\n",
       "      <td>0</td>\n",
       "      <td>0</td>\n",
       "      <td>0</td>\n",
       "      <td>0</td>\n",
       "      <td>0</td>\n",
       "      <td>...</td>\n",
       "      <td>0</td>\n",
       "      <td>0</td>\n",
       "      <td>0</td>\n",
       "      <td>1</td>\n",
       "      <td>0</td>\n",
       "      <td>0</td>\n",
       "      <td>0</td>\n",
       "      <td>0</td>\n",
       "      <td>0</td>\n",
       "      <td>0</td>\n",
       "    </tr>\n",
       "    <tr>\n",
       "      <th>660728</th>\n",
       "      <td>0</td>\n",
       "      <td>0</td>\n",
       "      <td>5.0</td>\n",
       "      <td>674</td>\n",
       "      <td>2.5</td>\n",
       "      <td>0</td>\n",
       "      <td>0</td>\n",
       "      <td>0</td>\n",
       "      <td>0</td>\n",
       "      <td>0</td>\n",
       "      <td>...</td>\n",
       "      <td>1</td>\n",
       "      <td>0</td>\n",
       "      <td>0</td>\n",
       "      <td>0</td>\n",
       "      <td>0</td>\n",
       "      <td>0</td>\n",
       "      <td>0</td>\n",
       "      <td>0</td>\n",
       "      <td>0</td>\n",
       "      <td>0</td>\n",
       "    </tr>\n",
       "    <tr>\n",
       "      <th>660727</th>\n",
       "      <td>0</td>\n",
       "      <td>0</td>\n",
       "      <td>2.0</td>\n",
       "      <td>1532</td>\n",
       "      <td>2.0</td>\n",
       "      <td>0</td>\n",
       "      <td>0</td>\n",
       "      <td>0</td>\n",
       "      <td>0</td>\n",
       "      <td>0</td>\n",
       "      <td>...</td>\n",
       "      <td>1</td>\n",
       "      <td>0</td>\n",
       "      <td>0</td>\n",
       "      <td>0</td>\n",
       "      <td>0</td>\n",
       "      <td>0</td>\n",
       "      <td>0</td>\n",
       "      <td>0</td>\n",
       "      <td>0</td>\n",
       "      <td>0</td>\n",
       "    </tr>\n",
       "    <tr>\n",
       "      <th>660719</th>\n",
       "      <td>0</td>\n",
       "      <td>0</td>\n",
       "      <td>1.0</td>\n",
       "      <td>305</td>\n",
       "      <td>1.0</td>\n",
       "      <td>0</td>\n",
       "      <td>0</td>\n",
       "      <td>0</td>\n",
       "      <td>0</td>\n",
       "      <td>0</td>\n",
       "      <td>...</td>\n",
       "      <td>0</td>\n",
       "      <td>0</td>\n",
       "      <td>0</td>\n",
       "      <td>1</td>\n",
       "      <td>0</td>\n",
       "      <td>0</td>\n",
       "      <td>0</td>\n",
       "      <td>0</td>\n",
       "      <td>0</td>\n",
       "      <td>0</td>\n",
       "    </tr>\n",
       "    <tr>\n",
       "      <th>660681</th>\n",
       "      <td>0</td>\n",
       "      <td>0</td>\n",
       "      <td>2.0</td>\n",
       "      <td>1428</td>\n",
       "      <td>1.0</td>\n",
       "      <td>0</td>\n",
       "      <td>0</td>\n",
       "      <td>0</td>\n",
       "      <td>0</td>\n",
       "      <td>0</td>\n",
       "      <td>...</td>\n",
       "      <td>0</td>\n",
       "      <td>0</td>\n",
       "      <td>0</td>\n",
       "      <td>1</td>\n",
       "      <td>0</td>\n",
       "      <td>0</td>\n",
       "      <td>0</td>\n",
       "      <td>0</td>\n",
       "      <td>0</td>\n",
       "      <td>0</td>\n",
       "    </tr>\n",
       "  </tbody>\n",
       "</table>\n",
       "<p>5 rows × 128 columns</p>\n",
       "</div>"
      ],
      "text/plain": [
       "             Do Not Email  Do Not Call  TotalVisits  \\\n",
       "Lead Number                                           \n",
       "660737                  0            0          0.0   \n",
       "660728                  0            0          5.0   \n",
       "660727                  0            0          2.0   \n",
       "660719                  0            0          1.0   \n",
       "660681                  0            0          2.0   \n",
       "\n",
       "             Total Time Spent on Website  Page Views Per Visit  Search  \\\n",
       "Lead Number                                                              \n",
       "660737                                 0                   0.0       0   \n",
       "660728                               674                   2.5       0   \n",
       "660727                              1532                   2.0       0   \n",
       "660719                               305                   1.0       0   \n",
       "660681                              1428                   1.0       0   \n",
       "\n",
       "             Newspaper Article  X Education Forums  Newspaper  \\\n",
       "Lead Number                                                     \n",
       "660737                       0                   0          0   \n",
       "660728                       0                   0          0   \n",
       "660727                       0                   0          0   \n",
       "660719                       0                   0          0   \n",
       "660681                       0                   0          0   \n",
       "\n",
       "             Digital Advertisement  ...  Last Notable Activity_Email Opened  \\\n",
       "Lead Number                         ...                                       \n",
       "660737                           0  ...                                   0   \n",
       "660728                           0  ...                                   1   \n",
       "660727                           0  ...                                   1   \n",
       "660719                           0  ...                                   0   \n",
       "660681                           0  ...                                   0   \n",
       "\n",
       "             Last Notable Activity_Email Received  \\\n",
       "Lead Number                                         \n",
       "660737                                          0   \n",
       "660728                                          0   \n",
       "660727                                          0   \n",
       "660719                                          0   \n",
       "660681                                          0   \n",
       "\n",
       "             Last Notable Activity_Had a Phone Conversation  \\\n",
       "Lead Number                                                   \n",
       "660737                                                    0   \n",
       "660728                                                    0   \n",
       "660727                                                    0   \n",
       "660719                                                    0   \n",
       "660681                                                    0   \n",
       "\n",
       "             Last Notable Activity_Modified  \\\n",
       "Lead Number                                   \n",
       "660737                                    1   \n",
       "660728                                    0   \n",
       "660727                                    0   \n",
       "660719                                    1   \n",
       "660681                                    1   \n",
       "\n",
       "             Last Notable Activity_Olark Chat Conversation  \\\n",
       "Lead Number                                                  \n",
       "660737                                                   0   \n",
       "660728                                                   0   \n",
       "660727                                                   0   \n",
       "660719                                                   0   \n",
       "660681                                                   0   \n",
       "\n",
       "             Last Notable Activity_Page Visited on Website  \\\n",
       "Lead Number                                                  \n",
       "660737                                                   0   \n",
       "660728                                                   0   \n",
       "660727                                                   0   \n",
       "660719                                                   0   \n",
       "660681                                                   0   \n",
       "\n",
       "             Last Notable Activity_SMS Sent  \\\n",
       "Lead Number                                   \n",
       "660737                                    0   \n",
       "660728                                    0   \n",
       "660727                                    0   \n",
       "660719                                    0   \n",
       "660681                                    0   \n",
       "\n",
       "             Last Notable Activity_Unreachable  \\\n",
       "Lead Number                                      \n",
       "660737                                       0   \n",
       "660728                                       0   \n",
       "660727                                       0   \n",
       "660719                                       0   \n",
       "660681                                       0   \n",
       "\n",
       "             Last Notable Activity_Unsubscribed  \\\n",
       "Lead Number                                       \n",
       "660737                                        0   \n",
       "660728                                        0   \n",
       "660727                                        0   \n",
       "660719                                        0   \n",
       "660681                                        0   \n",
       "\n",
       "             Last Notable Activity_View in browser link Clicked  \n",
       "Lead Number                                                      \n",
       "660737                                                       0   \n",
       "660728                                                       0   \n",
       "660727                                                       0   \n",
       "660719                                                       0   \n",
       "660681                                                       0   \n",
       "\n",
       "[5 rows x 128 columns]"
      ]
     },
     "execution_count": 100,
     "metadata": {},
     "output_type": "execute_result"
    }
   ],
   "source": [
    "X.head()"
   ]
  },
  {
   "cell_type": "code",
   "execution_count": 101,
   "metadata": {},
   "outputs": [],
   "source": [
    "# spliting into train and test Datasets\n",
    "X_train, X_test, y_train, y_test = train_test_split(X, y, train_size=0.7, test_size=0.3, random_state = 100)"
   ]
  },
  {
   "cell_type": "markdown",
   "metadata": {},
   "source": [
    "## Scaling"
   ]
  },
  {
   "cell_type": "code",
   "execution_count": 102,
   "metadata": {},
   "outputs": [
    {
     "name": "stderr",
     "output_type": "stream",
     "text": [
      "C:\\ProgramData\\Anaconda3\\lib\\site-packages\\sklearn\\preprocessing\\data.py:645: DataConversionWarning: Data with input dtype int64, float64 were all converted to float64 by StandardScaler.\n",
      "  return self.partial_fit(X, y)\n",
      "C:\\ProgramData\\Anaconda3\\lib\\site-packages\\sklearn\\base.py:464: DataConversionWarning: Data with input dtype int64, float64 were all converted to float64 by StandardScaler.\n",
      "  return self.fit(X, **fit_params).transform(X)\n"
     ]
    },
    {
     "data": {
      "text/html": [
       "<div>\n",
       "<style scoped>\n",
       "    .dataframe tbody tr th:only-of-type {\n",
       "        vertical-align: middle;\n",
       "    }\n",
       "\n",
       "    .dataframe tbody tr th {\n",
       "        vertical-align: top;\n",
       "    }\n",
       "\n",
       "    .dataframe thead th {\n",
       "        text-align: right;\n",
       "    }\n",
       "</style>\n",
       "<table border=\"1\" class=\"dataframe\">\n",
       "  <thead>\n",
       "    <tr style=\"text-align: right;\">\n",
       "      <th></th>\n",
       "      <th>Do Not Email</th>\n",
       "      <th>Do Not Call</th>\n",
       "      <th>TotalVisits</th>\n",
       "      <th>Total Time Spent on Website</th>\n",
       "      <th>Page Views Per Visit</th>\n",
       "      <th>Search</th>\n",
       "      <th>Newspaper Article</th>\n",
       "      <th>X Education Forums</th>\n",
       "      <th>Newspaper</th>\n",
       "      <th>Digital Advertisement</th>\n",
       "      <th>...</th>\n",
       "      <th>Last Notable Activity_Email Opened</th>\n",
       "      <th>Last Notable Activity_Email Received</th>\n",
       "      <th>Last Notable Activity_Had a Phone Conversation</th>\n",
       "      <th>Last Notable Activity_Modified</th>\n",
       "      <th>Last Notable Activity_Olark Chat Conversation</th>\n",
       "      <th>Last Notable Activity_Page Visited on Website</th>\n",
       "      <th>Last Notable Activity_SMS Sent</th>\n",
       "      <th>Last Notable Activity_Unreachable</th>\n",
       "      <th>Last Notable Activity_Unsubscribed</th>\n",
       "      <th>Last Notable Activity_View in browser link Clicked</th>\n",
       "    </tr>\n",
       "    <tr>\n",
       "      <th>Lead Number</th>\n",
       "      <th></th>\n",
       "      <th></th>\n",
       "      <th></th>\n",
       "      <th></th>\n",
       "      <th></th>\n",
       "      <th></th>\n",
       "      <th></th>\n",
       "      <th></th>\n",
       "      <th></th>\n",
       "      <th></th>\n",
       "      <th></th>\n",
       "      <th></th>\n",
       "      <th></th>\n",
       "      <th></th>\n",
       "      <th></th>\n",
       "      <th></th>\n",
       "      <th></th>\n",
       "      <th></th>\n",
       "      <th></th>\n",
       "      <th></th>\n",
       "      <th></th>\n",
       "    </tr>\n",
       "  </thead>\n",
       "  <tbody>\n",
       "    <tr>\n",
       "      <th>601495</th>\n",
       "      <td>0</td>\n",
       "      <td>0</td>\n",
       "      <td>0.928814</td>\n",
       "      <td>-0.686438</td>\n",
       "      <td>0.099978</td>\n",
       "      <td>0</td>\n",
       "      <td>0</td>\n",
       "      <td>0</td>\n",
       "      <td>0</td>\n",
       "      <td>0</td>\n",
       "      <td>...</td>\n",
       "      <td>0</td>\n",
       "      <td>0</td>\n",
       "      <td>0</td>\n",
       "      <td>0</td>\n",
       "      <td>0</td>\n",
       "      <td>1</td>\n",
       "      <td>0</td>\n",
       "      <td>0</td>\n",
       "      <td>0</td>\n",
       "      <td>0</td>\n",
       "    </tr>\n",
       "    <tr>\n",
       "      <th>629871</th>\n",
       "      <td>0</td>\n",
       "      <td>0</td>\n",
       "      <td>0.928814</td>\n",
       "      <td>-0.289102</td>\n",
       "      <td>1.559192</td>\n",
       "      <td>0</td>\n",
       "      <td>0</td>\n",
       "      <td>0</td>\n",
       "      <td>0</td>\n",
       "      <td>0</td>\n",
       "      <td>...</td>\n",
       "      <td>0</td>\n",
       "      <td>0</td>\n",
       "      <td>0</td>\n",
       "      <td>1</td>\n",
       "      <td>0</td>\n",
       "      <td>0</td>\n",
       "      <td>0</td>\n",
       "      <td>0</td>\n",
       "      <td>0</td>\n",
       "      <td>0</td>\n",
       "    </tr>\n",
       "    <tr>\n",
       "      <th>646558</th>\n",
       "      <td>0</td>\n",
       "      <td>0</td>\n",
       "      <td>1.380611</td>\n",
       "      <td>-0.426917</td>\n",
       "      <td>2.142878</td>\n",
       "      <td>0</td>\n",
       "      <td>0</td>\n",
       "      <td>0</td>\n",
       "      <td>0</td>\n",
       "      <td>0</td>\n",
       "      <td>...</td>\n",
       "      <td>0</td>\n",
       "      <td>0</td>\n",
       "      <td>0</td>\n",
       "      <td>0</td>\n",
       "      <td>0</td>\n",
       "      <td>0</td>\n",
       "      <td>1</td>\n",
       "      <td>0</td>\n",
       "      <td>0</td>\n",
       "      <td>0</td>\n",
       "    </tr>\n",
       "    <tr>\n",
       "      <th>604384</th>\n",
       "      <td>0</td>\n",
       "      <td>0</td>\n",
       "      <td>0.477017</td>\n",
       "      <td>0.176245</td>\n",
       "      <td>0.975507</td>\n",
       "      <td>0</td>\n",
       "      <td>0</td>\n",
       "      <td>0</td>\n",
       "      <td>0</td>\n",
       "      <td>0</td>\n",
       "      <td>...</td>\n",
       "      <td>0</td>\n",
       "      <td>0</td>\n",
       "      <td>0</td>\n",
       "      <td>0</td>\n",
       "      <td>1</td>\n",
       "      <td>0</td>\n",
       "      <td>0</td>\n",
       "      <td>0</td>\n",
       "      <td>0</td>\n",
       "      <td>0</td>\n",
       "    </tr>\n",
       "    <tr>\n",
       "      <th>588718</th>\n",
       "      <td>1</td>\n",
       "      <td>0</td>\n",
       "      <td>0.477017</td>\n",
       "      <td>-0.509248</td>\n",
       "      <td>0.975507</td>\n",
       "      <td>0</td>\n",
       "      <td>0</td>\n",
       "      <td>0</td>\n",
       "      <td>0</td>\n",
       "      <td>0</td>\n",
       "      <td>...</td>\n",
       "      <td>0</td>\n",
       "      <td>0</td>\n",
       "      <td>0</td>\n",
       "      <td>0</td>\n",
       "      <td>0</td>\n",
       "      <td>0</td>\n",
       "      <td>1</td>\n",
       "      <td>0</td>\n",
       "      <td>0</td>\n",
       "      <td>0</td>\n",
       "    </tr>\n",
       "  </tbody>\n",
       "</table>\n",
       "<p>5 rows × 128 columns</p>\n",
       "</div>"
      ],
      "text/plain": [
       "             Do Not Email  Do Not Call  TotalVisits  \\\n",
       "Lead Number                                           \n",
       "601495                  0            0     0.928814   \n",
       "629871                  0            0     0.928814   \n",
       "646558                  0            0     1.380611   \n",
       "604384                  0            0     0.477017   \n",
       "588718                  1            0     0.477017   \n",
       "\n",
       "             Total Time Spent on Website  Page Views Per Visit  Search  \\\n",
       "Lead Number                                                              \n",
       "601495                         -0.686438              0.099978       0   \n",
       "629871                         -0.289102              1.559192       0   \n",
       "646558                         -0.426917              2.142878       0   \n",
       "604384                          0.176245              0.975507       0   \n",
       "588718                         -0.509248              0.975507       0   \n",
       "\n",
       "             Newspaper Article  X Education Forums  Newspaper  \\\n",
       "Lead Number                                                     \n",
       "601495                       0                   0          0   \n",
       "629871                       0                   0          0   \n",
       "646558                       0                   0          0   \n",
       "604384                       0                   0          0   \n",
       "588718                       0                   0          0   \n",
       "\n",
       "             Digital Advertisement  ...  Last Notable Activity_Email Opened  \\\n",
       "Lead Number                         ...                                       \n",
       "601495                           0  ...                                   0   \n",
       "629871                           0  ...                                   0   \n",
       "646558                           0  ...                                   0   \n",
       "604384                           0  ...                                   0   \n",
       "588718                           0  ...                                   0   \n",
       "\n",
       "             Last Notable Activity_Email Received  \\\n",
       "Lead Number                                         \n",
       "601495                                          0   \n",
       "629871                                          0   \n",
       "646558                                          0   \n",
       "604384                                          0   \n",
       "588718                                          0   \n",
       "\n",
       "             Last Notable Activity_Had a Phone Conversation  \\\n",
       "Lead Number                                                   \n",
       "601495                                                    0   \n",
       "629871                                                    0   \n",
       "646558                                                    0   \n",
       "604384                                                    0   \n",
       "588718                                                    0   \n",
       "\n",
       "             Last Notable Activity_Modified  \\\n",
       "Lead Number                                   \n",
       "601495                                    0   \n",
       "629871                                    1   \n",
       "646558                                    0   \n",
       "604384                                    0   \n",
       "588718                                    0   \n",
       "\n",
       "             Last Notable Activity_Olark Chat Conversation  \\\n",
       "Lead Number                                                  \n",
       "601495                                                   0   \n",
       "629871                                                   0   \n",
       "646558                                                   0   \n",
       "604384                                                   1   \n",
       "588718                                                   0   \n",
       "\n",
       "             Last Notable Activity_Page Visited on Website  \\\n",
       "Lead Number                                                  \n",
       "601495                                                   1   \n",
       "629871                                                   0   \n",
       "646558                                                   0   \n",
       "604384                                                   0   \n",
       "588718                                                   0   \n",
       "\n",
       "             Last Notable Activity_SMS Sent  \\\n",
       "Lead Number                                   \n",
       "601495                                    0   \n",
       "629871                                    0   \n",
       "646558                                    1   \n",
       "604384                                    0   \n",
       "588718                                    1   \n",
       "\n",
       "             Last Notable Activity_Unreachable  \\\n",
       "Lead Number                                      \n",
       "601495                                       0   \n",
       "629871                                       0   \n",
       "646558                                       0   \n",
       "604384                                       0   \n",
       "588718                                       0   \n",
       "\n",
       "             Last Notable Activity_Unsubscribed  \\\n",
       "Lead Number                                       \n",
       "601495                                        0   \n",
       "629871                                        0   \n",
       "646558                                        0   \n",
       "604384                                        0   \n",
       "588718                                        0   \n",
       "\n",
       "             Last Notable Activity_View in browser link Clicked  \n",
       "Lead Number                                                      \n",
       "601495                                                       0   \n",
       "629871                                                       0   \n",
       "646558                                                       0   \n",
       "604384                                                       0   \n",
       "588718                                                       0   \n",
       "\n",
       "[5 rows x 128 columns]"
      ]
     },
     "execution_count": 102,
     "metadata": {},
     "output_type": "execute_result"
    }
   ],
   "source": [
    "# instantiation a variable\n",
    "scaler = StandardScaler()\n",
    "\n",
    "# applying the scaler and fit_transform on the numerical variables\n",
    "X_train[num_vars] = scaler.fit_transform(X_train[num_vars])\n",
    "\n",
    "X_train.head()\n"
   ]
  },
  {
   "cell_type": "markdown",
   "metadata": {},
   "source": [
    "## 5. Feature Selection using RFE"
   ]
  },
  {
   "cell_type": "code",
   "execution_count": 103,
   "metadata": {},
   "outputs": [
    {
     "name": "stderr",
     "output_type": "stream",
     "text": [
      "C:\\ProgramData\\Anaconda3\\lib\\site-packages\\sklearn\\utils\\validation.py:761: DataConversionWarning: A column-vector y was passed when a 1d array was expected. Please change the shape of y to (n_samples, ), for example using ravel().\n",
      "  y = column_or_1d(y, warn=True)\n"
     ]
    }
   ],
   "source": [
    "# Instantiating a Logistic Regression variable\n",
    "Logreg = LogisticRegression()\n",
    "\n",
    "# using RFE\n",
    "rfe = RFE(Logreg, 15)  # selecting only the 15 features\n",
    "rfe = rfe.fit(X_train, y_train)"
   ]
  },
  {
   "cell_type": "code",
   "execution_count": 104,
   "metadata": {},
   "outputs": [
    {
     "name": "stdout",
     "output_type": "stream",
     "text": [
      "Index(['Lead Origin_Lead Add Form', 'Last Activity_SMS Sent', 'Tags_Busy',\n",
      "       'Tags_Closed by Horizzon', 'Tags_Interested  in full time MBA',\n",
      "       'Tags_Lateral student', 'Tags_Lost to EINS',\n",
      "       'Tags_Not doing further education', 'Tags_Ringing',\n",
      "       'Tags_Will revert after reading the email', 'Tags_invalid number',\n",
      "       'Tags_number not provided', 'Tags_switched off',\n",
      "       'Tags_wrong number given', 'Lead Profile_Student of SomeSchool'],\n",
      "      dtype='object')\n"
     ]
    }
   ],
   "source": [
    "# checking the columns supported by RFE\n",
    "print(X_train.columns[rfe.support_])"
   ]
  },
  {
   "cell_type": "code",
   "execution_count": 105,
   "metadata": {},
   "outputs": [
    {
     "name": "stderr",
     "output_type": "stream",
     "text": [
      "C:\\ProgramData\\Anaconda3\\lib\\site-packages\\sklearn\\utils\\validation.py:761: DataConversionWarning: A column-vector y was passed when a 1d array was expected. Please change the shape of y to (n_samples, ), for example using ravel().\n",
      "  y = column_or_1d(y, warn=True)\n"
     ]
    }
   ],
   "source": [
    "# Instantiating a Logistic Regression variable\n",
    "Logreg = LogisticRegression()\n",
    "\n",
    "# using RFE\n",
    "rfe = RFE(Logreg, 20)  # selecting only the 20 features\n",
    "rfe = rfe.fit(X_train, y_train)"
   ]
  },
  {
   "cell_type": "code",
   "execution_count": 106,
   "metadata": {
    "scrolled": true
   },
   "outputs": [
    {
     "name": "stdout",
     "output_type": "stream",
     "text": [
      "Index(['Total Time Spent on Website', 'Lead Origin_Lead Add Form',\n",
      "       'Last Activity_SMS Sent', 'Specialization_Travel and Tourism',\n",
      "       'Tags_Busy', 'Tags_Closed by Horizzon',\n",
      "       'Tags_Interested  in full time MBA', 'Tags_Lateral student',\n",
      "       'Tags_Lost to EINS', 'Tags_Not doing further education', 'Tags_Ringing',\n",
      "       'Tags_Will revert after reading the email', 'Tags_in touch with EINS',\n",
      "       'Tags_invalid number', 'Tags_number not provided', 'Tags_switched off',\n",
      "       'Tags_wrong number given', 'Lead Profile_Select',\n",
      "       'Lead Profile_Student of SomeSchool', 'Last Notable Activity_Modified'],\n",
      "      dtype='object')\n"
     ]
    }
   ],
   "source": [
    "# checking the columns supported by RFE\n",
    "print(X_train.columns[rfe.support_])"
   ]
  },
  {
   "cell_type": "code",
   "execution_count": 107,
   "metadata": {},
   "outputs": [],
   "source": [
    "col = X_train.columns[rfe.support_]\n",
    "X_train_rfe = X_train[col]"
   ]
  },
  {
   "cell_type": "markdown",
   "metadata": {},
   "source": [
    "## 6. Model Formation"
   ]
  },
  {
   "cell_type": "markdown",
   "metadata": {},
   "source": [
    "#### Building our first training model"
   ]
  },
  {
   "cell_type": "code",
   "execution_count": 108,
   "metadata": {},
   "outputs": [
    {
     "data": {
      "text/html": [
       "<table class=\"simpletable\">\n",
       "<caption>Generalized Linear Model Regression Results</caption>\n",
       "<tr>\n",
       "  <th>Dep. Variable:</th>      <td>Converted</td>    <th>  No. Observations:  </th>  <td>  3762</td>  \n",
       "</tr>\n",
       "<tr>\n",
       "  <th>Model:</th>                 <td>GLM</td>       <th>  Df Residuals:      </th>  <td>  3741</td>  \n",
       "</tr>\n",
       "<tr>\n",
       "  <th>Model Family:</th>       <td>Binomial</td>     <th>  Df Model:          </th>  <td>    20</td>  \n",
       "</tr>\n",
       "<tr>\n",
       "  <th>Link Function:</th>        <td>logit</td>      <th>  Scale:             </th> <td>  1.0000</td> \n",
       "</tr>\n",
       "<tr>\n",
       "  <th>Method:</th>               <td>IRLS</td>       <th>  Log-Likelihood:    </th> <td> -360.78</td> \n",
       "</tr>\n",
       "<tr>\n",
       "  <th>Date:</th>           <td>Mon, 07 Oct 2019</td> <th>  Deviance:          </th> <td>  721.57</td> \n",
       "</tr>\n",
       "<tr>\n",
       "  <th>Time:</th>               <td>02:11:20</td>     <th>  Pearson chi2:      </th> <td>5.34e+03</td> \n",
       "</tr>\n",
       "<tr>\n",
       "  <th>No. Iterations:</th>        <td>23</td>        <th>  Covariance Type:   </th> <td>nonrobust</td>\n",
       "</tr>\n",
       "</table>\n",
       "<table class=\"simpletable\">\n",
       "<tr>\n",
       "                      <td></td>                        <th>coef</th>     <th>std err</th>      <th>z</th>      <th>P>|z|</th>  <th>[0.025</th>    <th>0.975]</th>  \n",
       "</tr>\n",
       "<tr>\n",
       "  <th>const</th>                                    <td>   -2.6342</td> <td>    0.301</td> <td>   -8.757</td> <td> 0.000</td> <td>   -3.224</td> <td>   -2.045</td>\n",
       "</tr>\n",
       "<tr>\n",
       "  <th>Total Time Spent on Website</th>              <td>    1.0763</td> <td>    0.113</td> <td>    9.485</td> <td> 0.000</td> <td>    0.854</td> <td>    1.299</td>\n",
       "</tr>\n",
       "<tr>\n",
       "  <th>Lead Origin_Lead Add Form</th>                <td>    0.5236</td> <td>    0.433</td> <td>    1.209</td> <td> 0.227</td> <td>   -0.325</td> <td>    1.373</td>\n",
       "</tr>\n",
       "<tr>\n",
       "  <th>Last Activity_SMS Sent</th>                   <td>    1.8810</td> <td>    0.255</td> <td>    7.374</td> <td> 0.000</td> <td>    1.381</td> <td>    2.381</td>\n",
       "</tr>\n",
       "<tr>\n",
       "  <th>Specialization_Travel and Tourism</th>        <td>   -1.2415</td> <td>    0.678</td> <td>   -1.831</td> <td> 0.067</td> <td>   -2.571</td> <td>    0.088</td>\n",
       "</tr>\n",
       "<tr>\n",
       "  <th>Tags_Busy</th>                                <td>    2.8810</td> <td>    0.364</td> <td>    7.910</td> <td> 0.000</td> <td>    2.167</td> <td>    3.595</td>\n",
       "</tr>\n",
       "<tr>\n",
       "  <th>Tags_Closed by Horizzon</th>                  <td>    8.7850</td> <td>    0.811</td> <td>   10.828</td> <td> 0.000</td> <td>    7.195</td> <td>   10.375</td>\n",
       "</tr>\n",
       "<tr>\n",
       "  <th>Tags_Interested  in full time MBA</th>        <td>   -1.2016</td> <td>    1.064</td> <td>   -1.129</td> <td> 0.259</td> <td>   -3.287</td> <td>    0.884</td>\n",
       "</tr>\n",
       "<tr>\n",
       "  <th>Tags_Lateral student</th>                     <td>   27.4579</td> <td> 9.26e+04</td> <td>    0.000</td> <td> 1.000</td> <td>-1.82e+05</td> <td> 1.82e+05</td>\n",
       "</tr>\n",
       "<tr>\n",
       "  <th>Tags_Lost to EINS</th>                        <td>    8.9416</td> <td>    1.094</td> <td>    8.173</td> <td> 0.000</td> <td>    6.797</td> <td>   11.086</td>\n",
       "</tr>\n",
       "<tr>\n",
       "  <th>Tags_Not doing further education</th>         <td>   -1.3116</td> <td>    1.055</td> <td>   -1.243</td> <td> 0.214</td> <td>   -3.380</td> <td>    0.756</td>\n",
       "</tr>\n",
       "<tr>\n",
       "  <th>Tags_Ringing</th>                             <td>   -1.4464</td> <td>    0.383</td> <td>   -3.778</td> <td> 0.000</td> <td>   -2.197</td> <td>   -0.696</td>\n",
       "</tr>\n",
       "<tr>\n",
       "  <th>Tags_Will revert after reading the email</th> <td>    6.4267</td> <td>    0.327</td> <td>   19.626</td> <td> 0.000</td> <td>    5.785</td> <td>    7.068</td>\n",
       "</tr>\n",
       "<tr>\n",
       "  <th>Tags_in touch with EINS</th>                  <td>    2.4482</td> <td>    0.896</td> <td>    2.733</td> <td> 0.006</td> <td>    0.693</td> <td>    4.204</td>\n",
       "</tr>\n",
       "<tr>\n",
       "  <th>Tags_invalid number</th>                      <td>  -22.1026</td> <td> 1.55e+04</td> <td>   -0.001</td> <td> 0.999</td> <td>-3.03e+04</td> <td> 3.03e+04</td>\n",
       "</tr>\n",
       "<tr>\n",
       "  <th>Tags_number not provided</th>                 <td>  -22.3824</td> <td>  2.6e+04</td> <td>   -0.001</td> <td> 0.999</td> <td> -5.1e+04</td> <td>  5.1e+04</td>\n",
       "</tr>\n",
       "<tr>\n",
       "  <th>Tags_switched off</th>                        <td>   -1.6855</td> <td>    0.670</td> <td>   -2.515</td> <td> 0.012</td> <td>   -2.999</td> <td>   -0.372</td>\n",
       "</tr>\n",
       "<tr>\n",
       "  <th>Tags_wrong number given</th>                  <td>  -22.6744</td> <td> 2.27e+04</td> <td>   -0.001</td> <td> 0.999</td> <td>-4.46e+04</td> <td> 4.45e+04</td>\n",
       "</tr>\n",
       "<tr>\n",
       "  <th>Lead Profile_Select</th>                      <td>   -1.1281</td> <td>    0.231</td> <td>   -4.888</td> <td> 0.000</td> <td>   -1.580</td> <td>   -0.676</td>\n",
       "</tr>\n",
       "<tr>\n",
       "  <th>Lead Profile_Student of SomeSchool</th>       <td>   -2.6948</td> <td>    0.792</td> <td>   -3.402</td> <td> 0.001</td> <td>   -4.247</td> <td>   -1.142</td>\n",
       "</tr>\n",
       "<tr>\n",
       "  <th>Last Notable Activity_Modified</th>           <td>   -1.1611</td> <td>    0.243</td> <td>   -4.777</td> <td> 0.000</td> <td>   -1.637</td> <td>   -0.685</td>\n",
       "</tr>\n",
       "</table>"
      ],
      "text/plain": [
       "<class 'statsmodels.iolib.summary.Summary'>\n",
       "\"\"\"\n",
       "                 Generalized Linear Model Regression Results                  \n",
       "==============================================================================\n",
       "Dep. Variable:              Converted   No. Observations:                 3762\n",
       "Model:                            GLM   Df Residuals:                     3741\n",
       "Model Family:                Binomial   Df Model:                           20\n",
       "Link Function:                  logit   Scale:                          1.0000\n",
       "Method:                          IRLS   Log-Likelihood:                -360.78\n",
       "Date:                Mon, 07 Oct 2019   Deviance:                       721.57\n",
       "Time:                        02:11:20   Pearson chi2:                 5.34e+03\n",
       "No. Iterations:                    23   Covariance Type:             nonrobust\n",
       "============================================================================================================\n",
       "                                               coef    std err          z      P>|z|      [0.025      0.975]\n",
       "------------------------------------------------------------------------------------------------------------\n",
       "const                                       -2.6342      0.301     -8.757      0.000      -3.224      -2.045\n",
       "Total Time Spent on Website                  1.0763      0.113      9.485      0.000       0.854       1.299\n",
       "Lead Origin_Lead Add Form                    0.5236      0.433      1.209      0.227      -0.325       1.373\n",
       "Last Activity_SMS Sent                       1.8810      0.255      7.374      0.000       1.381       2.381\n",
       "Specialization_Travel and Tourism           -1.2415      0.678     -1.831      0.067      -2.571       0.088\n",
       "Tags_Busy                                    2.8810      0.364      7.910      0.000       2.167       3.595\n",
       "Tags_Closed by Horizzon                      8.7850      0.811     10.828      0.000       7.195      10.375\n",
       "Tags_Interested  in full time MBA           -1.2016      1.064     -1.129      0.259      -3.287       0.884\n",
       "Tags_Lateral student                        27.4579   9.26e+04      0.000      1.000   -1.82e+05    1.82e+05\n",
       "Tags_Lost to EINS                            8.9416      1.094      8.173      0.000       6.797      11.086\n",
       "Tags_Not doing further education            -1.3116      1.055     -1.243      0.214      -3.380       0.756\n",
       "Tags_Ringing                                -1.4464      0.383     -3.778      0.000      -2.197      -0.696\n",
       "Tags_Will revert after reading the email     6.4267      0.327     19.626      0.000       5.785       7.068\n",
       "Tags_in touch with EINS                      2.4482      0.896      2.733      0.006       0.693       4.204\n",
       "Tags_invalid number                        -22.1026   1.55e+04     -0.001      0.999   -3.03e+04    3.03e+04\n",
       "Tags_number not provided                   -22.3824    2.6e+04     -0.001      0.999    -5.1e+04     5.1e+04\n",
       "Tags_switched off                           -1.6855      0.670     -2.515      0.012      -2.999      -0.372\n",
       "Tags_wrong number given                    -22.6744   2.27e+04     -0.001      0.999   -4.46e+04    4.45e+04\n",
       "Lead Profile_Select                         -1.1281      0.231     -4.888      0.000      -1.580      -0.676\n",
       "Lead Profile_Student of SomeSchool          -2.6948      0.792     -3.402      0.001      -4.247      -1.142\n",
       "Last Notable Activity_Modified              -1.1611      0.243     -4.777      0.000      -1.637      -0.685\n",
       "============================================================================================================\n",
       "\"\"\""
      ]
     },
     "execution_count": 108,
     "metadata": {},
     "output_type": "execute_result"
    }
   ],
   "source": [
    "# adding a constant \n",
    "X_train_sm = sm.add_constant(X_train[col])\n",
    "logm1 = sm.GLM(y_train, X_train_sm, family = sm.families.Binomial())\n",
    "log_model = logm1.fit()\n",
    "log_model.summary()"
   ]
  },
  {
   "cell_type": "markdown",
   "metadata": {},
   "source": [
    "From the p-values we can see the columns which are causing insignificance."
   ]
  },
  {
   "cell_type": "markdown",
   "metadata": {},
   "source": [
    "#### Let's Check VIFs"
   ]
  },
  {
   "cell_type": "code",
   "execution_count": 109,
   "metadata": {},
   "outputs": [
    {
     "data": {
      "text/html": [
       "<div>\n",
       "<style scoped>\n",
       "    .dataframe tbody tr th:only-of-type {\n",
       "        vertical-align: middle;\n",
       "    }\n",
       "\n",
       "    .dataframe tbody tr th {\n",
       "        vertical-align: top;\n",
       "    }\n",
       "\n",
       "    .dataframe thead th {\n",
       "        text-align: right;\n",
       "    }\n",
       "</style>\n",
       "<table border=\"1\" class=\"dataframe\">\n",
       "  <thead>\n",
       "    <tr style=\"text-align: right;\">\n",
       "      <th></th>\n",
       "      <th>Features</th>\n",
       "      <th>VIF</th>\n",
       "    </tr>\n",
       "  </thead>\n",
       "  <tbody>\n",
       "    <tr>\n",
       "      <th>17</th>\n",
       "      <td>Lead Profile_Select</td>\n",
       "      <td>2.45</td>\n",
       "    </tr>\n",
       "    <tr>\n",
       "      <th>11</th>\n",
       "      <td>Tags_Will revert after reading the email</td>\n",
       "      <td>1.96</td>\n",
       "    </tr>\n",
       "    <tr>\n",
       "      <th>2</th>\n",
       "      <td>Last Activity_SMS Sent</td>\n",
       "      <td>1.85</td>\n",
       "    </tr>\n",
       "    <tr>\n",
       "      <th>10</th>\n",
       "      <td>Tags_Ringing</td>\n",
       "      <td>1.67</td>\n",
       "    </tr>\n",
       "    <tr>\n",
       "      <th>1</th>\n",
       "      <td>Lead Origin_Lead Add Form</td>\n",
       "      <td>1.63</td>\n",
       "    </tr>\n",
       "    <tr>\n",
       "      <th>19</th>\n",
       "      <td>Last Notable Activity_Modified</td>\n",
       "      <td>1.52</td>\n",
       "    </tr>\n",
       "    <tr>\n",
       "      <th>5</th>\n",
       "      <td>Tags_Closed by Horizzon</td>\n",
       "      <td>1.49</td>\n",
       "    </tr>\n",
       "    <tr>\n",
       "      <th>0</th>\n",
       "      <td>Total Time Spent on Website</td>\n",
       "      <td>1.21</td>\n",
       "    </tr>\n",
       "    <tr>\n",
       "      <th>15</th>\n",
       "      <td>Tags_switched off</td>\n",
       "      <td>1.14</td>\n",
       "    </tr>\n",
       "    <tr>\n",
       "      <th>4</th>\n",
       "      <td>Tags_Busy</td>\n",
       "      <td>1.11</td>\n",
       "    </tr>\n",
       "    <tr>\n",
       "      <th>8</th>\n",
       "      <td>Tags_Lost to EINS</td>\n",
       "      <td>1.08</td>\n",
       "    </tr>\n",
       "    <tr>\n",
       "      <th>9</th>\n",
       "      <td>Tags_Not doing further education</td>\n",
       "      <td>1.05</td>\n",
       "    </tr>\n",
       "    <tr>\n",
       "      <th>18</th>\n",
       "      <td>Lead Profile_Student of SomeSchool</td>\n",
       "      <td>1.05</td>\n",
       "    </tr>\n",
       "    <tr>\n",
       "      <th>6</th>\n",
       "      <td>Tags_Interested  in full time MBA</td>\n",
       "      <td>1.04</td>\n",
       "    </tr>\n",
       "    <tr>\n",
       "      <th>13</th>\n",
       "      <td>Tags_invalid number</td>\n",
       "      <td>1.04</td>\n",
       "    </tr>\n",
       "    <tr>\n",
       "      <th>14</th>\n",
       "      <td>Tags_number not provided</td>\n",
       "      <td>1.02</td>\n",
       "    </tr>\n",
       "    <tr>\n",
       "      <th>16</th>\n",
       "      <td>Tags_wrong number given</td>\n",
       "      <td>1.02</td>\n",
       "    </tr>\n",
       "    <tr>\n",
       "      <th>3</th>\n",
       "      <td>Specialization_Travel and Tourism</td>\n",
       "      <td>1.02</td>\n",
       "    </tr>\n",
       "    <tr>\n",
       "      <th>7</th>\n",
       "      <td>Tags_Lateral student</td>\n",
       "      <td>1.01</td>\n",
       "    </tr>\n",
       "    <tr>\n",
       "      <th>12</th>\n",
       "      <td>Tags_in touch with EINS</td>\n",
       "      <td>1.01</td>\n",
       "    </tr>\n",
       "  </tbody>\n",
       "</table>\n",
       "</div>"
      ],
      "text/plain": [
       "                                    Features   VIF\n",
       "17                       Lead Profile_Select  2.45\n",
       "11  Tags_Will revert after reading the email  1.96\n",
       "2                     Last Activity_SMS Sent  1.85\n",
       "10                              Tags_Ringing  1.67\n",
       "1                  Lead Origin_Lead Add Form  1.63\n",
       "19            Last Notable Activity_Modified  1.52\n",
       "5                    Tags_Closed by Horizzon  1.49\n",
       "0                Total Time Spent on Website  1.21\n",
       "15                         Tags_switched off  1.14\n",
       "4                                  Tags_Busy  1.11\n",
       "8                          Tags_Lost to EINS  1.08\n",
       "9           Tags_Not doing further education  1.05\n",
       "18        Lead Profile_Student of SomeSchool  1.05\n",
       "6          Tags_Interested  in full time MBA  1.04\n",
       "13                       Tags_invalid number  1.04\n",
       "14                  Tags_number not provided  1.02\n",
       "16                   Tags_wrong number given  1.02\n",
       "3          Specialization_Travel and Tourism  1.02\n",
       "7                       Tags_Lateral student  1.01\n",
       "12                   Tags_in touch with EINS  1.01"
      ]
     },
     "execution_count": 109,
     "metadata": {},
     "output_type": "execute_result"
    }
   ],
   "source": [
    "vif = pd.DataFrame()\n",
    "vif['Features'] = X_train[col].columns\n",
    "vif['VIF'] = [variance_inflation_factor(X_train[col].values, i) for i in range(X_train[col].shape[1])]\n",
    "vif['VIF'] = round(vif['VIF'], 2)\n",
    "vif = vif.sort_values(by = 'VIF', ascending=False)\n",
    "vif"
   ]
  },
  {
   "cell_type": "markdown",
   "metadata": {},
   "source": [
    "VIF values are within the limit"
   ]
  },
  {
   "cell_type": "code",
   "execution_count": 110,
   "metadata": {},
   "outputs": [
    {
     "data": {
      "text/html": [
       "<table class=\"simpletable\">\n",
       "<caption>Generalized Linear Model Regression Results</caption>\n",
       "<tr>\n",
       "  <th>Dep. Variable:</th>      <td>Converted</td>    <th>  No. Observations:  </th>  <td>  3762</td>  \n",
       "</tr>\n",
       "<tr>\n",
       "  <th>Model:</th>                 <td>GLM</td>       <th>  Df Residuals:      </th>  <td>  3742</td>  \n",
       "</tr>\n",
       "<tr>\n",
       "  <th>Model Family:</th>       <td>Binomial</td>     <th>  Df Model:          </th>  <td>    19</td>  \n",
       "</tr>\n",
       "<tr>\n",
       "  <th>Link Function:</th>        <td>logit</td>      <th>  Scale:             </th> <td>  1.0000</td> \n",
       "</tr>\n",
       "<tr>\n",
       "  <th>Method:</th>               <td>IRLS</td>       <th>  Log-Likelihood:    </th> <td> -366.45</td> \n",
       "</tr>\n",
       "<tr>\n",
       "  <th>Date:</th>           <td>Mon, 07 Oct 2019</td> <th>  Deviance:          </th> <td>  732.90</td> \n",
       "</tr>\n",
       "<tr>\n",
       "  <th>Time:</th>               <td>02:11:20</td>     <th>  Pearson chi2:      </th> <td>5.41e+03</td> \n",
       "</tr>\n",
       "<tr>\n",
       "  <th>No. Iterations:</th>        <td>23</td>        <th>  Covariance Type:   </th> <td>nonrobust</td>\n",
       "</tr>\n",
       "</table>\n",
       "<table class=\"simpletable\">\n",
       "<tr>\n",
       "                      <td></td>                        <th>coef</th>     <th>std err</th>      <th>z</th>      <th>P>|z|</th>  <th>[0.025</th>    <th>0.975]</th>  \n",
       "</tr>\n",
       "<tr>\n",
       "  <th>const</th>                                    <td>   -2.5626</td> <td>    0.293</td> <td>   -8.752</td> <td> 0.000</td> <td>   -3.136</td> <td>   -1.989</td>\n",
       "</tr>\n",
       "<tr>\n",
       "  <th>Total Time Spent on Website</th>              <td>    1.0541</td> <td>    0.112</td> <td>    9.430</td> <td> 0.000</td> <td>    0.835</td> <td>    1.273</td>\n",
       "</tr>\n",
       "<tr>\n",
       "  <th>Lead Origin_Lead Add Form</th>                <td>    0.5011</td> <td>    0.431</td> <td>    1.162</td> <td> 0.245</td> <td>   -0.344</td> <td>    1.346</td>\n",
       "</tr>\n",
       "<tr>\n",
       "  <th>Last Activity_SMS Sent</th>                   <td>    1.9653</td> <td>    0.255</td> <td>    7.708</td> <td> 0.000</td> <td>    1.466</td> <td>    2.465</td>\n",
       "</tr>\n",
       "<tr>\n",
       "  <th>Specialization_Travel and Tourism</th>        <td>   -1.2558</td> <td>    0.672</td> <td>   -1.870</td> <td> 0.062</td> <td>   -2.572</td> <td>    0.061</td>\n",
       "</tr>\n",
       "<tr>\n",
       "  <th>Tags_Busy</th>                                <td>    2.7486</td> <td>    0.357</td> <td>    7.707</td> <td> 0.000</td> <td>    2.050</td> <td>    3.448</td>\n",
       "</tr>\n",
       "<tr>\n",
       "  <th>Tags_Closed by Horizzon</th>                  <td>    8.6534</td> <td>    0.806</td> <td>   10.739</td> <td> 0.000</td> <td>    7.074</td> <td>   10.233</td>\n",
       "</tr>\n",
       "<tr>\n",
       "  <th>Tags_Interested  in full time MBA</th>        <td>   -1.2756</td> <td>    1.060</td> <td>   -1.203</td> <td> 0.229</td> <td>   -3.353</td> <td>    0.802</td>\n",
       "</tr>\n",
       "<tr>\n",
       "  <th>Tags_Lost to EINS</th>                        <td>    8.8043</td> <td>    1.090</td> <td>    8.077</td> <td> 0.000</td> <td>    6.668</td> <td>   10.941</td>\n",
       "</tr>\n",
       "<tr>\n",
       "  <th>Tags_Not doing further education</th>         <td>   -1.4124</td> <td>    1.052</td> <td>   -1.343</td> <td> 0.179</td> <td>   -3.473</td> <td>    0.649</td>\n",
       "</tr>\n",
       "<tr>\n",
       "  <th>Tags_Ringing</th>                             <td>   -1.5731</td> <td>    0.378</td> <td>   -4.162</td> <td> 0.000</td> <td>   -2.314</td> <td>   -0.832</td>\n",
       "</tr>\n",
       "<tr>\n",
       "  <th>Tags_Will revert after reading the email</th> <td>    6.3112</td> <td>    0.318</td> <td>   19.862</td> <td> 0.000</td> <td>    5.688</td> <td>    6.934</td>\n",
       "</tr>\n",
       "<tr>\n",
       "  <th>Tags_in touch with EINS</th>                  <td>    2.3218</td> <td>    0.895</td> <td>    2.594</td> <td> 0.009</td> <td>    0.568</td> <td>    4.076</td>\n",
       "</tr>\n",
       "<tr>\n",
       "  <th>Tags_invalid number</th>                      <td>  -22.2057</td> <td> 1.55e+04</td> <td>   -0.001</td> <td> 0.999</td> <td>-3.04e+04</td> <td> 3.03e+04</td>\n",
       "</tr>\n",
       "<tr>\n",
       "  <th>Tags_number not provided</th>                 <td>  -22.5005</td> <td>  2.6e+04</td> <td>   -0.001</td> <td> 0.999</td> <td>-5.11e+04</td> <td>  5.1e+04</td>\n",
       "</tr>\n",
       "<tr>\n",
       "  <th>Tags_switched off</th>                        <td>   -1.8189</td> <td>    0.667</td> <td>   -2.727</td> <td> 0.006</td> <td>   -3.126</td> <td>   -0.512</td>\n",
       "</tr>\n",
       "<tr>\n",
       "  <th>Tags_wrong number given</th>                  <td>  -22.8068</td> <td> 2.27e+04</td> <td>   -0.001</td> <td> 0.999</td> <td>-4.46e+04</td> <td> 4.45e+04</td>\n",
       "</tr>\n",
       "<tr>\n",
       "  <th>Lead Profile_Select</th>                      <td>   -1.1318</td> <td>    0.229</td> <td>   -4.951</td> <td> 0.000</td> <td>   -1.580</td> <td>   -0.684</td>\n",
       "</tr>\n",
       "<tr>\n",
       "  <th>Lead Profile_Student of SomeSchool</th>       <td>   -2.7254</td> <td>    0.786</td> <td>   -3.469</td> <td> 0.001</td> <td>   -4.265</td> <td>   -1.185</td>\n",
       "</tr>\n",
       "<tr>\n",
       "  <th>Last Notable Activity_Modified</th>           <td>   -1.0897</td> <td>    0.240</td> <td>   -4.549</td> <td> 0.000</td> <td>   -1.559</td> <td>   -0.620</td>\n",
       "</tr>\n",
       "</table>"
      ],
      "text/plain": [
       "<class 'statsmodels.iolib.summary.Summary'>\n",
       "\"\"\"\n",
       "                 Generalized Linear Model Regression Results                  \n",
       "==============================================================================\n",
       "Dep. Variable:              Converted   No. Observations:                 3762\n",
       "Model:                            GLM   Df Residuals:                     3742\n",
       "Model Family:                Binomial   Df Model:                           19\n",
       "Link Function:                  logit   Scale:                          1.0000\n",
       "Method:                          IRLS   Log-Likelihood:                -366.45\n",
       "Date:                Mon, 07 Oct 2019   Deviance:                       732.90\n",
       "Time:                        02:11:20   Pearson chi2:                 5.41e+03\n",
       "No. Iterations:                    23   Covariance Type:             nonrobust\n",
       "============================================================================================================\n",
       "                                               coef    std err          z      P>|z|      [0.025      0.975]\n",
       "------------------------------------------------------------------------------------------------------------\n",
       "const                                       -2.5626      0.293     -8.752      0.000      -3.136      -1.989\n",
       "Total Time Spent on Website                  1.0541      0.112      9.430      0.000       0.835       1.273\n",
       "Lead Origin_Lead Add Form                    0.5011      0.431      1.162      0.245      -0.344       1.346\n",
       "Last Activity_SMS Sent                       1.9653      0.255      7.708      0.000       1.466       2.465\n",
       "Specialization_Travel and Tourism           -1.2558      0.672     -1.870      0.062      -2.572       0.061\n",
       "Tags_Busy                                    2.7486      0.357      7.707      0.000       2.050       3.448\n",
       "Tags_Closed by Horizzon                      8.6534      0.806     10.739      0.000       7.074      10.233\n",
       "Tags_Interested  in full time MBA           -1.2756      1.060     -1.203      0.229      -3.353       0.802\n",
       "Tags_Lost to EINS                            8.8043      1.090      8.077      0.000       6.668      10.941\n",
       "Tags_Not doing further education            -1.4124      1.052     -1.343      0.179      -3.473       0.649\n",
       "Tags_Ringing                                -1.5731      0.378     -4.162      0.000      -2.314      -0.832\n",
       "Tags_Will revert after reading the email     6.3112      0.318     19.862      0.000       5.688       6.934\n",
       "Tags_in touch with EINS                      2.3218      0.895      2.594      0.009       0.568       4.076\n",
       "Tags_invalid number                        -22.2057   1.55e+04     -0.001      0.999   -3.04e+04    3.03e+04\n",
       "Tags_number not provided                   -22.5005    2.6e+04     -0.001      0.999   -5.11e+04     5.1e+04\n",
       "Tags_switched off                           -1.8189      0.667     -2.727      0.006      -3.126      -0.512\n",
       "Tags_wrong number given                    -22.8068   2.27e+04     -0.001      0.999   -4.46e+04    4.45e+04\n",
       "Lead Profile_Select                         -1.1318      0.229     -4.951      0.000      -1.580      -0.684\n",
       "Lead Profile_Student of SomeSchool          -2.7254      0.786     -3.469      0.001      -4.265      -1.185\n",
       "Last Notable Activity_Modified              -1.0897      0.240     -4.549      0.000      -1.559      -0.620\n",
       "============================================================================================================\n",
       "\"\"\""
      ]
     },
     "execution_count": 110,
     "metadata": {},
     "output_type": "execute_result"
    }
   ],
   "source": [
    "# dropping column 'Tags_Lateral student'\n",
    "col = col.drop('Tags_Lateral student',1)\n",
    "\n",
    "# again building the model\n",
    "X_train_sm = sm.add_constant(X_train[col])\n",
    "logm1 = sm.GLM(y_train, X_train_sm, family = sm.families.Binomial())\n",
    "log_model = logm1.fit()\n",
    "log_model.summary()"
   ]
  },
  {
   "cell_type": "code",
   "execution_count": 111,
   "metadata": {},
   "outputs": [
    {
     "data": {
      "text/html": [
       "<table class=\"simpletable\">\n",
       "<caption>Generalized Linear Model Regression Results</caption>\n",
       "<tr>\n",
       "  <th>Dep. Variable:</th>      <td>Converted</td>    <th>  No. Observations:  </th>  <td>  3762</td>  \n",
       "</tr>\n",
       "<tr>\n",
       "  <th>Model:</th>                 <td>GLM</td>       <th>  Df Residuals:      </th>  <td>  3743</td>  \n",
       "</tr>\n",
       "<tr>\n",
       "  <th>Model Family:</th>       <td>Binomial</td>     <th>  Df Model:          </th>  <td>    18</td>  \n",
       "</tr>\n",
       "<tr>\n",
       "  <th>Link Function:</th>        <td>logit</td>      <th>  Scale:             </th> <td>  1.0000</td> \n",
       "</tr>\n",
       "<tr>\n",
       "  <th>Method:</th>               <td>IRLS</td>       <th>  Log-Likelihood:    </th> <td> -369.89</td> \n",
       "</tr>\n",
       "<tr>\n",
       "  <th>Date:</th>           <td>Mon, 07 Oct 2019</td> <th>  Deviance:          </th> <td>  739.78</td> \n",
       "</tr>\n",
       "<tr>\n",
       "  <th>Time:</th>               <td>02:11:20</td>     <th>  Pearson chi2:      </th> <td>5.19e+03</td> \n",
       "</tr>\n",
       "<tr>\n",
       "  <th>No. Iterations:</th>        <td>23</td>        <th>  Covariance Type:   </th> <td>nonrobust</td>\n",
       "</tr>\n",
       "</table>\n",
       "<table class=\"simpletable\">\n",
       "<tr>\n",
       "                      <td></td>                        <th>coef</th>     <th>std err</th>      <th>z</th>      <th>P>|z|</th>  <th>[0.025</th>    <th>0.975]</th>  \n",
       "</tr>\n",
       "<tr>\n",
       "  <th>const</th>                                    <td>   -2.6808</td> <td>    0.293</td> <td>   -9.142</td> <td> 0.000</td> <td>   -3.256</td> <td>   -2.106</td>\n",
       "</tr>\n",
       "<tr>\n",
       "  <th>Total Time Spent on Website</th>              <td>    1.0462</td> <td>    0.111</td> <td>    9.459</td> <td> 0.000</td> <td>    0.829</td> <td>    1.263</td>\n",
       "</tr>\n",
       "<tr>\n",
       "  <th>Lead Origin_Lead Add Form</th>                <td>    0.5021</td> <td>    0.431</td> <td>    1.164</td> <td> 0.244</td> <td>   -0.343</td> <td>    1.347</td>\n",
       "</tr>\n",
       "<tr>\n",
       "  <th>Last Activity_SMS Sent</th>                   <td>    1.9060</td> <td>    0.250</td> <td>    7.609</td> <td> 0.000</td> <td>    1.415</td> <td>    2.397</td>\n",
       "</tr>\n",
       "<tr>\n",
       "  <th>Specialization_Travel and Tourism</th>        <td>   -1.2581</td> <td>    0.666</td> <td>   -1.889</td> <td> 0.059</td> <td>   -2.563</td> <td>    0.047</td>\n",
       "</tr>\n",
       "<tr>\n",
       "  <th>Tags_Busy</th>                                <td>    2.9174</td> <td>    0.351</td> <td>    8.308</td> <td> 0.000</td> <td>    2.229</td> <td>    3.606</td>\n",
       "</tr>\n",
       "<tr>\n",
       "  <th>Tags_Closed by Horizzon</th>                  <td>    8.7547</td> <td>    0.806</td> <td>   10.861</td> <td> 0.000</td> <td>    7.175</td> <td>   10.334</td>\n",
       "</tr>\n",
       "<tr>\n",
       "  <th>Tags_Interested  in full time MBA</th>        <td>   -1.1513</td> <td>    1.060</td> <td>   -1.086</td> <td> 0.277</td> <td>   -3.229</td> <td>    0.926</td>\n",
       "</tr>\n",
       "<tr>\n",
       "  <th>Tags_Lost to EINS</th>                        <td>    8.8955</td> <td>    1.088</td> <td>    8.175</td> <td> 0.000</td> <td>    6.763</td> <td>   11.028</td>\n",
       "</tr>\n",
       "<tr>\n",
       "  <th>Tags_Not doing further education</th>         <td>   -1.2884</td> <td>    1.052</td> <td>   -1.225</td> <td> 0.221</td> <td>   -3.350</td> <td>    0.773</td>\n",
       "</tr>\n",
       "<tr>\n",
       "  <th>Tags_Ringing</th>                             <td>   -1.3827</td> <td>    0.371</td> <td>   -3.730</td> <td> 0.000</td> <td>   -2.109</td> <td>   -0.656</td>\n",
       "</tr>\n",
       "<tr>\n",
       "  <th>Tags_Will revert after reading the email</th> <td>    6.4356</td> <td>    0.317</td> <td>   20.331</td> <td> 0.000</td> <td>    5.815</td> <td>    7.056</td>\n",
       "</tr>\n",
       "<tr>\n",
       "  <th>Tags_in touch with EINS</th>                  <td>    2.4416</td> <td>    0.895</td> <td>    2.727</td> <td> 0.006</td> <td>    0.687</td> <td>    4.197</td>\n",
       "</tr>\n",
       "<tr>\n",
       "  <th>Tags_number not provided</th>                 <td>  -22.2963</td> <td> 2.61e+04</td> <td>   -0.001</td> <td> 0.999</td> <td>-5.12e+04</td> <td> 5.12e+04</td>\n",
       "</tr>\n",
       "<tr>\n",
       "  <th>Tags_switched off</th>                        <td>   -1.6273</td> <td>    0.662</td> <td>   -2.458</td> <td> 0.014</td> <td>   -2.925</td> <td>   -0.329</td>\n",
       "</tr>\n",
       "<tr>\n",
       "  <th>Tags_wrong number given</th>                  <td>  -22.6216</td> <td> 2.28e+04</td> <td>   -0.001</td> <td> 0.999</td> <td>-4.46e+04</td> <td> 4.46e+04</td>\n",
       "</tr>\n",
       "<tr>\n",
       "  <th>Lead Profile_Select</th>                      <td>   -1.1634</td> <td>    0.228</td> <td>   -5.097</td> <td> 0.000</td> <td>   -1.611</td> <td>   -0.716</td>\n",
       "</tr>\n",
       "<tr>\n",
       "  <th>Lead Profile_Student of SomeSchool</th>       <td>   -2.6946</td> <td>    0.800</td> <td>   -3.367</td> <td> 0.001</td> <td>   -4.263</td> <td>   -1.126</td>\n",
       "</tr>\n",
       "<tr>\n",
       "  <th>Last Notable Activity_Modified</th>           <td>   -1.0463</td> <td>    0.240</td> <td>   -4.357</td> <td> 0.000</td> <td>   -1.517</td> <td>   -0.576</td>\n",
       "</tr>\n",
       "</table>"
      ],
      "text/plain": [
       "<class 'statsmodels.iolib.summary.Summary'>\n",
       "\"\"\"\n",
       "                 Generalized Linear Model Regression Results                  \n",
       "==============================================================================\n",
       "Dep. Variable:              Converted   No. Observations:                 3762\n",
       "Model:                            GLM   Df Residuals:                     3743\n",
       "Model Family:                Binomial   Df Model:                           18\n",
       "Link Function:                  logit   Scale:                          1.0000\n",
       "Method:                          IRLS   Log-Likelihood:                -369.89\n",
       "Date:                Mon, 07 Oct 2019   Deviance:                       739.78\n",
       "Time:                        02:11:20   Pearson chi2:                 5.19e+03\n",
       "No. Iterations:                    23   Covariance Type:             nonrobust\n",
       "============================================================================================================\n",
       "                                               coef    std err          z      P>|z|      [0.025      0.975]\n",
       "------------------------------------------------------------------------------------------------------------\n",
       "const                                       -2.6808      0.293     -9.142      0.000      -3.256      -2.106\n",
       "Total Time Spent on Website                  1.0462      0.111      9.459      0.000       0.829       1.263\n",
       "Lead Origin_Lead Add Form                    0.5021      0.431      1.164      0.244      -0.343       1.347\n",
       "Last Activity_SMS Sent                       1.9060      0.250      7.609      0.000       1.415       2.397\n",
       "Specialization_Travel and Tourism           -1.2581      0.666     -1.889      0.059      -2.563       0.047\n",
       "Tags_Busy                                    2.9174      0.351      8.308      0.000       2.229       3.606\n",
       "Tags_Closed by Horizzon                      8.7547      0.806     10.861      0.000       7.175      10.334\n",
       "Tags_Interested  in full time MBA           -1.1513      1.060     -1.086      0.277      -3.229       0.926\n",
       "Tags_Lost to EINS                            8.8955      1.088      8.175      0.000       6.763      11.028\n",
       "Tags_Not doing further education            -1.2884      1.052     -1.225      0.221      -3.350       0.773\n",
       "Tags_Ringing                                -1.3827      0.371     -3.730      0.000      -2.109      -0.656\n",
       "Tags_Will revert after reading the email     6.4356      0.317     20.331      0.000       5.815       7.056\n",
       "Tags_in touch with EINS                      2.4416      0.895      2.727      0.006       0.687       4.197\n",
       "Tags_number not provided                   -22.2963   2.61e+04     -0.001      0.999   -5.12e+04    5.12e+04\n",
       "Tags_switched off                           -1.6273      0.662     -2.458      0.014      -2.925      -0.329\n",
       "Tags_wrong number given                    -22.6216   2.28e+04     -0.001      0.999   -4.46e+04    4.46e+04\n",
       "Lead Profile_Select                         -1.1634      0.228     -5.097      0.000      -1.611      -0.716\n",
       "Lead Profile_Student of SomeSchool          -2.6946      0.800     -3.367      0.001      -4.263      -1.126\n",
       "Last Notable Activity_Modified              -1.0463      0.240     -4.357      0.000      -1.517      -0.576\n",
       "============================================================================================================\n",
       "\"\"\""
      ]
     },
     "execution_count": 111,
     "metadata": {},
     "output_type": "execute_result"
    }
   ],
   "source": [
    "# dropping column 'Tags_invalid number'\n",
    "col = col.drop('Tags_invalid number',1)\n",
    "\n",
    "# again building the model\n",
    "X_train_sm = sm.add_constant(X_train[col])\n",
    "logm1 = sm.GLM(y_train, X_train_sm, family = sm.families.Binomial())\n",
    "log_model = logm1.fit()\n",
    "log_model.summary()"
   ]
  },
  {
   "cell_type": "code",
   "execution_count": 112,
   "metadata": {},
   "outputs": [
    {
     "data": {
      "text/html": [
       "<table class=\"simpletable\">\n",
       "<caption>Generalized Linear Model Regression Results</caption>\n",
       "<tr>\n",
       "  <th>Dep. Variable:</th>      <td>Converted</td>    <th>  No. Observations:  </th>  <td>  3762</td>  \n",
       "</tr>\n",
       "<tr>\n",
       "  <th>Model:</th>                 <td>GLM</td>       <th>  Df Residuals:      </th>  <td>  3745</td>  \n",
       "</tr>\n",
       "<tr>\n",
       "  <th>Model Family:</th>       <td>Binomial</td>     <th>  Df Model:          </th>  <td>    16</td>  \n",
       "</tr>\n",
       "<tr>\n",
       "  <th>Link Function:</th>        <td>logit</td>      <th>  Scale:             </th> <td>  1.0000</td> \n",
       "</tr>\n",
       "<tr>\n",
       "  <th>Method:</th>               <td>IRLS</td>       <th>  Log-Likelihood:    </th> <td> -374.66</td> \n",
       "</tr>\n",
       "<tr>\n",
       "  <th>Date:</th>           <td>Mon, 07 Oct 2019</td> <th>  Deviance:          </th> <td>  749.31</td> \n",
       "</tr>\n",
       "<tr>\n",
       "  <th>Time:</th>               <td>02:11:20</td>     <th>  Pearson chi2:      </th> <td>4.84e+03</td> \n",
       "</tr>\n",
       "<tr>\n",
       "  <th>No. Iterations:</th>         <td>8</td>        <th>  Covariance Type:   </th> <td>nonrobust</td>\n",
       "</tr>\n",
       "</table>\n",
       "<table class=\"simpletable\">\n",
       "<tr>\n",
       "                      <td></td>                        <th>coef</th>     <th>std err</th>      <th>z</th>      <th>P>|z|</th>  <th>[0.025</th>    <th>0.975]</th>  \n",
       "</tr>\n",
       "<tr>\n",
       "  <th>const</th>                                    <td>   -2.8690</td> <td>    0.296</td> <td>   -9.700</td> <td> 0.000</td> <td>   -3.449</td> <td>   -2.289</td>\n",
       "</tr>\n",
       "<tr>\n",
       "  <th>Total Time Spent on Website</th>              <td>    1.0356</td> <td>    0.110</td> <td>    9.412</td> <td> 0.000</td> <td>    0.820</td> <td>    1.251</td>\n",
       "</tr>\n",
       "<tr>\n",
       "  <th>Lead Origin_Lead Add Form</th>                <td>    0.5183</td> <td>    0.431</td> <td>    1.203</td> <td> 0.229</td> <td>   -0.326</td> <td>    1.363</td>\n",
       "</tr>\n",
       "<tr>\n",
       "  <th>Last Activity_SMS Sent</th>                   <td>    1.8001</td> <td>    0.244</td> <td>    7.388</td> <td> 0.000</td> <td>    1.323</td> <td>    2.278</td>\n",
       "</tr>\n",
       "<tr>\n",
       "  <th>Specialization_Travel and Tourism</th>        <td>   -1.2449</td> <td>    0.662</td> <td>   -1.881</td> <td> 0.060</td> <td>   -2.542</td> <td>    0.052</td>\n",
       "</tr>\n",
       "<tr>\n",
       "  <th>Tags_Busy</th>                                <td>    3.1549</td> <td>    0.346</td> <td>    9.128</td> <td> 0.000</td> <td>    2.477</td> <td>    3.832</td>\n",
       "</tr>\n",
       "<tr>\n",
       "  <th>Tags_Closed by Horizzon</th>                  <td>    8.8853</td> <td>    0.807</td> <td>   11.004</td> <td> 0.000</td> <td>    7.303</td> <td>   10.468</td>\n",
       "</tr>\n",
       "<tr>\n",
       "  <th>Tags_Interested  in full time MBA</th>        <td>   -0.9658</td> <td>    1.060</td> <td>   -0.911</td> <td> 0.362</td> <td>   -3.043</td> <td>    1.111</td>\n",
       "</tr>\n",
       "<tr>\n",
       "  <th>Tags_Lost to EINS</th>                        <td>    9.0175</td> <td>    1.087</td> <td>    8.296</td> <td> 0.000</td> <td>    6.887</td> <td>   11.148</td>\n",
       "</tr>\n",
       "<tr>\n",
       "  <th>Tags_Not doing further education</th>         <td>   -1.0997</td> <td>    1.052</td> <td>   -1.046</td> <td> 0.296</td> <td>   -3.161</td> <td>    0.961</td>\n",
       "</tr>\n",
       "<tr>\n",
       "  <th>Tags_Ringing</th>                             <td>   -1.1091</td> <td>    0.360</td> <td>   -3.081</td> <td> 0.002</td> <td>   -1.815</td> <td>   -0.403</td>\n",
       "</tr>\n",
       "<tr>\n",
       "  <th>Tags_Will revert after reading the email</th> <td>    6.6139</td> <td>    0.318</td> <td>   20.814</td> <td> 0.000</td> <td>    5.991</td> <td>    7.237</td>\n",
       "</tr>\n",
       "<tr>\n",
       "  <th>Tags_in touch with EINS</th>                  <td>    2.6151</td> <td>    0.895</td> <td>    2.921</td> <td> 0.003</td> <td>    0.860</td> <td>    4.370</td>\n",
       "</tr>\n",
       "<tr>\n",
       "  <th>Tags_switched off</th>                        <td>   -1.3482</td> <td>    0.655</td> <td>   -2.057</td> <td> 0.040</td> <td>   -2.633</td> <td>   -0.064</td>\n",
       "</tr>\n",
       "<tr>\n",
       "  <th>Lead Profile_Select</th>                      <td>   -1.1626</td> <td>    0.227</td> <td>   -5.119</td> <td> 0.000</td> <td>   -1.608</td> <td>   -0.717</td>\n",
       "</tr>\n",
       "<tr>\n",
       "  <th>Lead Profile_Student of SomeSchool</th>       <td>   -2.6294</td> <td>    0.822</td> <td>   -3.200</td> <td> 0.001</td> <td>   -4.240</td> <td>   -1.019</td>\n",
       "</tr>\n",
       "<tr>\n",
       "  <th>Last Notable Activity_Modified</th>           <td>   -0.9904</td> <td>    0.241</td> <td>   -4.107</td> <td> 0.000</td> <td>   -1.463</td> <td>   -0.518</td>\n",
       "</tr>\n",
       "</table>"
      ],
      "text/plain": [
       "<class 'statsmodels.iolib.summary.Summary'>\n",
       "\"\"\"\n",
       "                 Generalized Linear Model Regression Results                  \n",
       "==============================================================================\n",
       "Dep. Variable:              Converted   No. Observations:                 3762\n",
       "Model:                            GLM   Df Residuals:                     3745\n",
       "Model Family:                Binomial   Df Model:                           16\n",
       "Link Function:                  logit   Scale:                          1.0000\n",
       "Method:                          IRLS   Log-Likelihood:                -374.66\n",
       "Date:                Mon, 07 Oct 2019   Deviance:                       749.31\n",
       "Time:                        02:11:20   Pearson chi2:                 4.84e+03\n",
       "No. Iterations:                     8   Covariance Type:             nonrobust\n",
       "============================================================================================================\n",
       "                                               coef    std err          z      P>|z|      [0.025      0.975]\n",
       "------------------------------------------------------------------------------------------------------------\n",
       "const                                       -2.8690      0.296     -9.700      0.000      -3.449      -2.289\n",
       "Total Time Spent on Website                  1.0356      0.110      9.412      0.000       0.820       1.251\n",
       "Lead Origin_Lead Add Form                    0.5183      0.431      1.203      0.229      -0.326       1.363\n",
       "Last Activity_SMS Sent                       1.8001      0.244      7.388      0.000       1.323       2.278\n",
       "Specialization_Travel and Tourism           -1.2449      0.662     -1.881      0.060      -2.542       0.052\n",
       "Tags_Busy                                    3.1549      0.346      9.128      0.000       2.477       3.832\n",
       "Tags_Closed by Horizzon                      8.8853      0.807     11.004      0.000       7.303      10.468\n",
       "Tags_Interested  in full time MBA           -0.9658      1.060     -0.911      0.362      -3.043       1.111\n",
       "Tags_Lost to EINS                            9.0175      1.087      8.296      0.000       6.887      11.148\n",
       "Tags_Not doing further education            -1.0997      1.052     -1.046      0.296      -3.161       0.961\n",
       "Tags_Ringing                                -1.1091      0.360     -3.081      0.002      -1.815      -0.403\n",
       "Tags_Will revert after reading the email     6.6139      0.318     20.814      0.000       5.991       7.237\n",
       "Tags_in touch with EINS                      2.6151      0.895      2.921      0.003       0.860       4.370\n",
       "Tags_switched off                           -1.3482      0.655     -2.057      0.040      -2.633      -0.064\n",
       "Lead Profile_Select                         -1.1626      0.227     -5.119      0.000      -1.608      -0.717\n",
       "Lead Profile_Student of SomeSchool          -2.6294      0.822     -3.200      0.001      -4.240      -1.019\n",
       "Last Notable Activity_Modified              -0.9904      0.241     -4.107      0.000      -1.463      -0.518\n",
       "============================================================================================================\n",
       "\"\"\""
      ]
     },
     "execution_count": 112,
     "metadata": {},
     "output_type": "execute_result"
    }
   ],
   "source": [
    "# dropping columns 'Tags_number not provided' and 'Tags_wrong number given'\n",
    "col = col.drop(['Tags_number not provided','Tags_wrong number given'],1)\n",
    "\n",
    "# again building the model\n",
    "X_train_sm = sm.add_constant(X_train[col])\n",
    "logm1 = sm.GLM(y_train, X_train_sm, family = sm.families.Binomial())\n",
    "log_model = logm1.fit()\n",
    "log_model.summary()"
   ]
  },
  {
   "cell_type": "markdown",
   "metadata": {},
   "source": [
    "Again checking VIFs"
   ]
  },
  {
   "cell_type": "code",
   "execution_count": 113,
   "metadata": {},
   "outputs": [
    {
     "data": {
      "text/html": [
       "<div>\n",
       "<style scoped>\n",
       "    .dataframe tbody tr th:only-of-type {\n",
       "        vertical-align: middle;\n",
       "    }\n",
       "\n",
       "    .dataframe tbody tr th {\n",
       "        vertical-align: top;\n",
       "    }\n",
       "\n",
       "    .dataframe thead th {\n",
       "        text-align: right;\n",
       "    }\n",
       "</style>\n",
       "<table border=\"1\" class=\"dataframe\">\n",
       "  <thead>\n",
       "    <tr style=\"text-align: right;\">\n",
       "      <th></th>\n",
       "      <th>Features</th>\n",
       "      <th>VIF</th>\n",
       "    </tr>\n",
       "  </thead>\n",
       "  <tbody>\n",
       "    <tr>\n",
       "      <th>13</th>\n",
       "      <td>Lead Profile_Select</td>\n",
       "      <td>2.35</td>\n",
       "    </tr>\n",
       "    <tr>\n",
       "      <th>10</th>\n",
       "      <td>Tags_Will revert after reading the email</td>\n",
       "      <td>1.92</td>\n",
       "    </tr>\n",
       "    <tr>\n",
       "      <th>2</th>\n",
       "      <td>Last Activity_SMS Sent</td>\n",
       "      <td>1.82</td>\n",
       "    </tr>\n",
       "    <tr>\n",
       "      <th>1</th>\n",
       "      <td>Lead Origin_Lead Add Form</td>\n",
       "      <td>1.63</td>\n",
       "    </tr>\n",
       "    <tr>\n",
       "      <th>9</th>\n",
       "      <td>Tags_Ringing</td>\n",
       "      <td>1.63</td>\n",
       "    </tr>\n",
       "    <tr>\n",
       "      <th>15</th>\n",
       "      <td>Last Notable Activity_Modified</td>\n",
       "      <td>1.51</td>\n",
       "    </tr>\n",
       "    <tr>\n",
       "      <th>5</th>\n",
       "      <td>Tags_Closed by Horizzon</td>\n",
       "      <td>1.49</td>\n",
       "    </tr>\n",
       "    <tr>\n",
       "      <th>0</th>\n",
       "      <td>Total Time Spent on Website</td>\n",
       "      <td>1.21</td>\n",
       "    </tr>\n",
       "    <tr>\n",
       "      <th>12</th>\n",
       "      <td>Tags_switched off</td>\n",
       "      <td>1.13</td>\n",
       "    </tr>\n",
       "    <tr>\n",
       "      <th>4</th>\n",
       "      <td>Tags_Busy</td>\n",
       "      <td>1.11</td>\n",
       "    </tr>\n",
       "    <tr>\n",
       "      <th>7</th>\n",
       "      <td>Tags_Lost to EINS</td>\n",
       "      <td>1.08</td>\n",
       "    </tr>\n",
       "    <tr>\n",
       "      <th>8</th>\n",
       "      <td>Tags_Not doing further education</td>\n",
       "      <td>1.05</td>\n",
       "    </tr>\n",
       "    <tr>\n",
       "      <th>14</th>\n",
       "      <td>Lead Profile_Student of SomeSchool</td>\n",
       "      <td>1.05</td>\n",
       "    </tr>\n",
       "    <tr>\n",
       "      <th>6</th>\n",
       "      <td>Tags_Interested  in full time MBA</td>\n",
       "      <td>1.04</td>\n",
       "    </tr>\n",
       "    <tr>\n",
       "      <th>3</th>\n",
       "      <td>Specialization_Travel and Tourism</td>\n",
       "      <td>1.02</td>\n",
       "    </tr>\n",
       "    <tr>\n",
       "      <th>11</th>\n",
       "      <td>Tags_in touch with EINS</td>\n",
       "      <td>1.01</td>\n",
       "    </tr>\n",
       "  </tbody>\n",
       "</table>\n",
       "</div>"
      ],
      "text/plain": [
       "                                    Features   VIF\n",
       "13                       Lead Profile_Select  2.35\n",
       "10  Tags_Will revert after reading the email  1.92\n",
       "2                     Last Activity_SMS Sent  1.82\n",
       "1                  Lead Origin_Lead Add Form  1.63\n",
       "9                               Tags_Ringing  1.63\n",
       "15            Last Notable Activity_Modified  1.51\n",
       "5                    Tags_Closed by Horizzon  1.49\n",
       "0                Total Time Spent on Website  1.21\n",
       "12                         Tags_switched off  1.13\n",
       "4                                  Tags_Busy  1.11\n",
       "7                          Tags_Lost to EINS  1.08\n",
       "8           Tags_Not doing further education  1.05\n",
       "14        Lead Profile_Student of SomeSchool  1.05\n",
       "6          Tags_Interested  in full time MBA  1.04\n",
       "3          Specialization_Travel and Tourism  1.02\n",
       "11                   Tags_in touch with EINS  1.01"
      ]
     },
     "execution_count": 113,
     "metadata": {},
     "output_type": "execute_result"
    }
   ],
   "source": [
    "vif = pd.DataFrame()\n",
    "vif['Features'] = X_train[col].columns\n",
    "vif['VIF'] = [variance_inflation_factor(X_train[col].values, i) for i in range(X_train[col].shape[1])]\n",
    "vif['VIF'] = round(vif['VIF'], 2)\n",
    "vif = vif.sort_values(by = 'VIF', ascending=False)\n",
    "vif"
   ]
  },
  {
   "cell_type": "code",
   "execution_count": 114,
   "metadata": {},
   "outputs": [
    {
     "data": {
      "text/html": [
       "<table class=\"simpletable\">\n",
       "<caption>Generalized Linear Model Regression Results</caption>\n",
       "<tr>\n",
       "  <th>Dep. Variable:</th>      <td>Converted</td>    <th>  No. Observations:  </th>  <td>  3762</td>  \n",
       "</tr>\n",
       "<tr>\n",
       "  <th>Model:</th>                 <td>GLM</td>       <th>  Df Residuals:      </th>  <td>  3746</td>  \n",
       "</tr>\n",
       "<tr>\n",
       "  <th>Model Family:</th>       <td>Binomial</td>     <th>  Df Model:          </th>  <td>    15</td>  \n",
       "</tr>\n",
       "<tr>\n",
       "  <th>Link Function:</th>        <td>logit</td>      <th>  Scale:             </th> <td>  1.0000</td> \n",
       "</tr>\n",
       "<tr>\n",
       "  <th>Method:</th>               <td>IRLS</td>       <th>  Log-Likelihood:    </th> <td> -375.43</td> \n",
       "</tr>\n",
       "<tr>\n",
       "  <th>Date:</th>           <td>Mon, 07 Oct 2019</td> <th>  Deviance:          </th> <td>  750.85</td> \n",
       "</tr>\n",
       "<tr>\n",
       "  <th>Time:</th>               <td>02:11:20</td>     <th>  Pearson chi2:      </th> <td>4.79e+03</td> \n",
       "</tr>\n",
       "<tr>\n",
       "  <th>No. Iterations:</th>         <td>8</td>        <th>  Covariance Type:   </th> <td>nonrobust</td>\n",
       "</tr>\n",
       "</table>\n",
       "<table class=\"simpletable\">\n",
       "<tr>\n",
       "                      <td></td>                        <th>coef</th>     <th>std err</th>      <th>z</th>      <th>P>|z|</th>  <th>[0.025</th>    <th>0.975]</th>  \n",
       "</tr>\n",
       "<tr>\n",
       "  <th>const</th>                                    <td>   -2.8333</td> <td>    0.293</td> <td>   -9.672</td> <td> 0.000</td> <td>   -3.407</td> <td>   -2.259</td>\n",
       "</tr>\n",
       "<tr>\n",
       "  <th>Total Time Spent on Website</th>              <td>    1.0161</td> <td>    0.109</td> <td>    9.305</td> <td> 0.000</td> <td>    0.802</td> <td>    1.230</td>\n",
       "</tr>\n",
       "<tr>\n",
       "  <th>Last Activity_SMS Sent</th>                   <td>    1.8222</td> <td>    0.242</td> <td>    7.519</td> <td> 0.000</td> <td>    1.347</td> <td>    2.297</td>\n",
       "</tr>\n",
       "<tr>\n",
       "  <th>Specialization_Travel and Tourism</th>        <td>   -1.3182</td> <td>    0.665</td> <td>   -1.981</td> <td> 0.048</td> <td>   -2.622</td> <td>   -0.014</td>\n",
       "</tr>\n",
       "<tr>\n",
       "  <th>Tags_Busy</th>                                <td>    3.1505</td> <td>    0.346</td> <td>    9.117</td> <td> 0.000</td> <td>    2.473</td> <td>    3.828</td>\n",
       "</tr>\n",
       "<tr>\n",
       "  <th>Tags_Closed by Horizzon</th>                  <td>    9.1689</td> <td>    0.778</td> <td>   11.778</td> <td> 0.000</td> <td>    7.643</td> <td>   10.695</td>\n",
       "</tr>\n",
       "<tr>\n",
       "  <th>Tags_Interested  in full time MBA</th>        <td>   -0.9687</td> <td>    1.059</td> <td>   -0.914</td> <td> 0.361</td> <td>   -3.045</td> <td>    1.108</td>\n",
       "</tr>\n",
       "<tr>\n",
       "  <th>Tags_Lost to EINS</th>                        <td>    9.0844</td> <td>    1.085</td> <td>    8.370</td> <td> 0.000</td> <td>    6.957</td> <td>   11.212</td>\n",
       "</tr>\n",
       "<tr>\n",
       "  <th>Tags_Not doing further education</th>         <td>   -1.1086</td> <td>    1.051</td> <td>   -1.054</td> <td> 0.292</td> <td>   -3.169</td> <td>    0.952</td>\n",
       "</tr>\n",
       "<tr>\n",
       "  <th>Tags_Ringing</th>                             <td>   -1.1094</td> <td>    0.360</td> <td>   -3.082</td> <td> 0.002</td> <td>   -1.815</td> <td>   -0.404</td>\n",
       "</tr>\n",
       "<tr>\n",
       "  <th>Tags_Will revert after reading the email</th> <td>    6.7002</td> <td>    0.313</td> <td>   21.412</td> <td> 0.000</td> <td>    6.087</td> <td>    7.313</td>\n",
       "</tr>\n",
       "<tr>\n",
       "  <th>Tags_in touch with EINS</th>                  <td>    2.6082</td> <td>    0.895</td> <td>    2.915</td> <td> 0.004</td> <td>    0.855</td> <td>    4.362</td>\n",
       "</tr>\n",
       "<tr>\n",
       "  <th>Tags_switched off</th>                        <td>   -1.3655</td> <td>    0.655</td> <td>   -2.085</td> <td> 0.037</td> <td>   -2.649</td> <td>   -0.082</td>\n",
       "</tr>\n",
       "<tr>\n",
       "  <th>Lead Profile_Select</th>                      <td>   -1.2064</td> <td>    0.224</td> <td>   -5.377</td> <td> 0.000</td> <td>   -1.646</td> <td>   -0.767</td>\n",
       "</tr>\n",
       "<tr>\n",
       "  <th>Lead Profile_Student of SomeSchool</th>       <td>   -2.7037</td> <td>    0.830</td> <td>   -3.258</td> <td> 0.001</td> <td>   -4.330</td> <td>   -1.077</td>\n",
       "</tr>\n",
       "<tr>\n",
       "  <th>Last Notable Activity_Modified</th>           <td>   -1.0043</td> <td>    0.241</td> <td>   -4.164</td> <td> 0.000</td> <td>   -1.477</td> <td>   -0.532</td>\n",
       "</tr>\n",
       "</table>"
      ],
      "text/plain": [
       "<class 'statsmodels.iolib.summary.Summary'>\n",
       "\"\"\"\n",
       "                 Generalized Linear Model Regression Results                  \n",
       "==============================================================================\n",
       "Dep. Variable:              Converted   No. Observations:                 3762\n",
       "Model:                            GLM   Df Residuals:                     3746\n",
       "Model Family:                Binomial   Df Model:                           15\n",
       "Link Function:                  logit   Scale:                          1.0000\n",
       "Method:                          IRLS   Log-Likelihood:                -375.43\n",
       "Date:                Mon, 07 Oct 2019   Deviance:                       750.85\n",
       "Time:                        02:11:20   Pearson chi2:                 4.79e+03\n",
       "No. Iterations:                     8   Covariance Type:             nonrobust\n",
       "============================================================================================================\n",
       "                                               coef    std err          z      P>|z|      [0.025      0.975]\n",
       "------------------------------------------------------------------------------------------------------------\n",
       "const                                       -2.8333      0.293     -9.672      0.000      -3.407      -2.259\n",
       "Total Time Spent on Website                  1.0161      0.109      9.305      0.000       0.802       1.230\n",
       "Last Activity_SMS Sent                       1.8222      0.242      7.519      0.000       1.347       2.297\n",
       "Specialization_Travel and Tourism           -1.3182      0.665     -1.981      0.048      -2.622      -0.014\n",
       "Tags_Busy                                    3.1505      0.346      9.117      0.000       2.473       3.828\n",
       "Tags_Closed by Horizzon                      9.1689      0.778     11.778      0.000       7.643      10.695\n",
       "Tags_Interested  in full time MBA           -0.9687      1.059     -0.914      0.361      -3.045       1.108\n",
       "Tags_Lost to EINS                            9.0844      1.085      8.370      0.000       6.957      11.212\n",
       "Tags_Not doing further education            -1.1086      1.051     -1.054      0.292      -3.169       0.952\n",
       "Tags_Ringing                                -1.1094      0.360     -3.082      0.002      -1.815      -0.404\n",
       "Tags_Will revert after reading the email     6.7002      0.313     21.412      0.000       6.087       7.313\n",
       "Tags_in touch with EINS                      2.6082      0.895      2.915      0.004       0.855       4.362\n",
       "Tags_switched off                           -1.3655      0.655     -2.085      0.037      -2.649      -0.082\n",
       "Lead Profile_Select                         -1.2064      0.224     -5.377      0.000      -1.646      -0.767\n",
       "Lead Profile_Student of SomeSchool          -2.7037      0.830     -3.258      0.001      -4.330      -1.077\n",
       "Last Notable Activity_Modified              -1.0043      0.241     -4.164      0.000      -1.477      -0.532\n",
       "============================================================================================================\n",
       "\"\"\""
      ]
     },
     "execution_count": 114,
     "metadata": {},
     "output_type": "execute_result"
    }
   ],
   "source": [
    "# dropping column 'Lead Origin_Lead Add Form'\n",
    "col = col.drop('Lead Origin_Lead Add Form',1)\n",
    "\n",
    "# again building the model\n",
    "X_train_sm = sm.add_constant(X_train[col])\n",
    "logm1 = sm.GLM(y_train, X_train_sm, family = sm.families.Binomial())\n",
    "log_model = logm1.fit()\n",
    "log_model.summary()"
   ]
  },
  {
   "cell_type": "code",
   "execution_count": 115,
   "metadata": {},
   "outputs": [
    {
     "data": {
      "text/html": [
       "<table class=\"simpletable\">\n",
       "<caption>Generalized Linear Model Regression Results</caption>\n",
       "<tr>\n",
       "  <th>Dep. Variable:</th>      <td>Converted</td>    <th>  No. Observations:  </th>  <td>  3762</td>  \n",
       "</tr>\n",
       "<tr>\n",
       "  <th>Model:</th>                 <td>GLM</td>       <th>  Df Residuals:      </th>  <td>  3747</td>  \n",
       "</tr>\n",
       "<tr>\n",
       "  <th>Model Family:</th>       <td>Binomial</td>     <th>  Df Model:          </th>  <td>    14</td>  \n",
       "</tr>\n",
       "<tr>\n",
       "  <th>Link Function:</th>        <td>logit</td>      <th>  Scale:             </th> <td>  1.0000</td> \n",
       "</tr>\n",
       "<tr>\n",
       "  <th>Method:</th>               <td>IRLS</td>       <th>  Log-Likelihood:    </th> <td> -375.97</td> \n",
       "</tr>\n",
       "<tr>\n",
       "  <th>Date:</th>           <td>Mon, 07 Oct 2019</td> <th>  Deviance:          </th> <td>  751.94</td> \n",
       "</tr>\n",
       "<tr>\n",
       "  <th>Time:</th>               <td>02:11:20</td>     <th>  Pearson chi2:      </th> <td>4.83e+03</td> \n",
       "</tr>\n",
       "<tr>\n",
       "  <th>No. Iterations:</th>         <td>8</td>        <th>  Covariance Type:   </th> <td>nonrobust</td>\n",
       "</tr>\n",
       "</table>\n",
       "<table class=\"simpletable\">\n",
       "<tr>\n",
       "                      <td></td>                        <th>coef</th>     <th>std err</th>      <th>z</th>      <th>P>|z|</th>  <th>[0.025</th>    <th>0.975]</th>  \n",
       "</tr>\n",
       "<tr>\n",
       "  <th>const</th>                                    <td>   -2.9213</td> <td>    0.283</td> <td>  -10.309</td> <td> 0.000</td> <td>   -3.477</td> <td>   -2.366</td>\n",
       "</tr>\n",
       "<tr>\n",
       "  <th>Total Time Spent on Website</th>              <td>    1.0122</td> <td>    0.109</td> <td>    9.296</td> <td> 0.000</td> <td>    0.799</td> <td>    1.226</td>\n",
       "</tr>\n",
       "<tr>\n",
       "  <th>Last Activity_SMS Sent</th>                   <td>    1.8474</td> <td>    0.243</td> <td>    7.615</td> <td> 0.000</td> <td>    1.372</td> <td>    2.323</td>\n",
       "</tr>\n",
       "<tr>\n",
       "  <th>Specialization_Travel and Tourism</th>        <td>   -1.3291</td> <td>    0.660</td> <td>   -2.012</td> <td> 0.044</td> <td>   -2.624</td> <td>   -0.035</td>\n",
       "</tr>\n",
       "<tr>\n",
       "  <th>Tags_Busy</th>                                <td>    3.2122</td> <td>    0.343</td> <td>    9.365</td> <td> 0.000</td> <td>    2.540</td> <td>    3.885</td>\n",
       "</tr>\n",
       "<tr>\n",
       "  <th>Tags_Closed by Horizzon</th>                  <td>    9.2406</td> <td>    0.777</td> <td>   11.897</td> <td> 0.000</td> <td>    7.718</td> <td>   10.763</td>\n",
       "</tr>\n",
       "<tr>\n",
       "  <th>Tags_Lost to EINS</th>                        <td>    9.1471</td> <td>    1.084</td> <td>    8.440</td> <td> 0.000</td> <td>    7.023</td> <td>   11.271</td>\n",
       "</tr>\n",
       "<tr>\n",
       "  <th>Tags_Not doing further education</th>         <td>   -1.0279</td> <td>    1.049</td> <td>   -0.980</td> <td> 0.327</td> <td>   -3.084</td> <td>    1.028</td>\n",
       "</tr>\n",
       "<tr>\n",
       "  <th>Tags_Ringing</th>                             <td>   -1.0488</td> <td>    0.358</td> <td>   -2.933</td> <td> 0.003</td> <td>   -1.750</td> <td>   -0.348</td>\n",
       "</tr>\n",
       "<tr>\n",
       "  <th>Tags_Will revert after reading the email</th> <td>    6.7727</td> <td>    0.308</td> <td>   21.970</td> <td> 0.000</td> <td>    6.169</td> <td>    7.377</td>\n",
       "</tr>\n",
       "<tr>\n",
       "  <th>Tags_in touch with EINS</th>                  <td>    2.6820</td> <td>    0.893</td> <td>    3.003</td> <td> 0.003</td> <td>    0.931</td> <td>    4.432</td>\n",
       "</tr>\n",
       "<tr>\n",
       "  <th>Tags_switched off</th>                        <td>   -1.3061</td> <td>    0.654</td> <td>   -1.998</td> <td> 0.046</td> <td>   -2.587</td> <td>   -0.025</td>\n",
       "</tr>\n",
       "<tr>\n",
       "  <th>Lead Profile_Select</th>                      <td>   -1.1927</td> <td>    0.224</td> <td>   -5.330</td> <td> 0.000</td> <td>   -1.631</td> <td>   -0.754</td>\n",
       "</tr>\n",
       "<tr>\n",
       "  <th>Lead Profile_Student of SomeSchool</th>       <td>   -2.6627</td> <td>    0.837</td> <td>   -3.182</td> <td> 0.001</td> <td>   -4.303</td> <td>   -1.022</td>\n",
       "</tr>\n",
       "<tr>\n",
       "  <th>Last Notable Activity_Modified</th>           <td>   -0.9998</td> <td>    0.241</td> <td>   -4.151</td> <td> 0.000</td> <td>   -1.472</td> <td>   -0.528</td>\n",
       "</tr>\n",
       "</table>"
      ],
      "text/plain": [
       "<class 'statsmodels.iolib.summary.Summary'>\n",
       "\"\"\"\n",
       "                 Generalized Linear Model Regression Results                  \n",
       "==============================================================================\n",
       "Dep. Variable:              Converted   No. Observations:                 3762\n",
       "Model:                            GLM   Df Residuals:                     3747\n",
       "Model Family:                Binomial   Df Model:                           14\n",
       "Link Function:                  logit   Scale:                          1.0000\n",
       "Method:                          IRLS   Log-Likelihood:                -375.97\n",
       "Date:                Mon, 07 Oct 2019   Deviance:                       751.94\n",
       "Time:                        02:11:20   Pearson chi2:                 4.83e+03\n",
       "No. Iterations:                     8   Covariance Type:             nonrobust\n",
       "============================================================================================================\n",
       "                                               coef    std err          z      P>|z|      [0.025      0.975]\n",
       "------------------------------------------------------------------------------------------------------------\n",
       "const                                       -2.9213      0.283    -10.309      0.000      -3.477      -2.366\n",
       "Total Time Spent on Website                  1.0122      0.109      9.296      0.000       0.799       1.226\n",
       "Last Activity_SMS Sent                       1.8474      0.243      7.615      0.000       1.372       2.323\n",
       "Specialization_Travel and Tourism           -1.3291      0.660     -2.012      0.044      -2.624      -0.035\n",
       "Tags_Busy                                    3.2122      0.343      9.365      0.000       2.540       3.885\n",
       "Tags_Closed by Horizzon                      9.2406      0.777     11.897      0.000       7.718      10.763\n",
       "Tags_Lost to EINS                            9.1471      1.084      8.440      0.000       7.023      11.271\n",
       "Tags_Not doing further education            -1.0279      1.049     -0.980      0.327      -3.084       1.028\n",
       "Tags_Ringing                                -1.0488      0.358     -2.933      0.003      -1.750      -0.348\n",
       "Tags_Will revert after reading the email     6.7727      0.308     21.970      0.000       6.169       7.377\n",
       "Tags_in touch with EINS                      2.6820      0.893      3.003      0.003       0.931       4.432\n",
       "Tags_switched off                           -1.3061      0.654     -1.998      0.046      -2.587      -0.025\n",
       "Lead Profile_Select                         -1.1927      0.224     -5.330      0.000      -1.631      -0.754\n",
       "Lead Profile_Student of SomeSchool          -2.6627      0.837     -3.182      0.001      -4.303      -1.022\n",
       "Last Notable Activity_Modified              -0.9998      0.241     -4.151      0.000      -1.472      -0.528\n",
       "============================================================================================================\n",
       "\"\"\""
      ]
     },
     "execution_count": 115,
     "metadata": {},
     "output_type": "execute_result"
    }
   ],
   "source": [
    "# dropping column 'Tags_Interested in full time MBA'\n",
    "col = col.drop('Tags_Interested  in full time MBA',1)\n",
    "\n",
    "# again building the model\n",
    "X_train_sm = sm.add_constant(X_train[col])\n",
    "logm1 = sm.GLM(y_train, X_train_sm, family = sm.families.Binomial())\n",
    "log_model = logm1.fit()\n",
    "log_model.summary()"
   ]
  },
  {
   "cell_type": "code",
   "execution_count": 116,
   "metadata": {},
   "outputs": [
    {
     "data": {
      "text/html": [
       "<table class=\"simpletable\">\n",
       "<caption>Generalized Linear Model Regression Results</caption>\n",
       "<tr>\n",
       "  <th>Dep. Variable:</th>      <td>Converted</td>    <th>  No. Observations:  </th>  <td>  3762</td>  \n",
       "</tr>\n",
       "<tr>\n",
       "  <th>Model:</th>                 <td>GLM</td>       <th>  Df Residuals:      </th>  <td>  3748</td>  \n",
       "</tr>\n",
       "<tr>\n",
       "  <th>Model Family:</th>       <td>Binomial</td>     <th>  Df Model:          </th>  <td>    13</td>  \n",
       "</tr>\n",
       "<tr>\n",
       "  <th>Link Function:</th>        <td>logit</td>      <th>  Scale:             </th> <td>  1.0000</td> \n",
       "</tr>\n",
       "<tr>\n",
       "  <th>Method:</th>               <td>IRLS</td>       <th>  Log-Likelihood:    </th> <td> -377.77</td> \n",
       "</tr>\n",
       "<tr>\n",
       "  <th>Date:</th>           <td>Mon, 07 Oct 2019</td> <th>  Deviance:          </th> <td>  755.55</td> \n",
       "</tr>\n",
       "<tr>\n",
       "  <th>Time:</th>               <td>02:11:21</td>     <th>  Pearson chi2:      </th> <td>4.84e+03</td> \n",
       "</tr>\n",
       "<tr>\n",
       "  <th>No. Iterations:</th>         <td>8</td>        <th>  Covariance Type:   </th> <td>nonrobust</td>\n",
       "</tr>\n",
       "</table>\n",
       "<table class=\"simpletable\">\n",
       "<tr>\n",
       "                      <td></td>                        <th>coef</th>     <th>std err</th>      <th>z</th>      <th>P>|z|</th>  <th>[0.025</th>    <th>0.975]</th>  \n",
       "</tr>\n",
       "<tr>\n",
       "  <th>const</th>                                    <td>   -2.9355</td> <td>    0.282</td> <td>  -10.394</td> <td> 0.000</td> <td>   -3.489</td> <td>   -2.382</td>\n",
       "</tr>\n",
       "<tr>\n",
       "  <th>Total Time Spent on Website</th>              <td>    1.0079</td> <td>    0.109</td> <td>    9.263</td> <td> 0.000</td> <td>    0.795</td> <td>    1.221</td>\n",
       "</tr>\n",
       "<tr>\n",
       "  <th>Last Activity_SMS Sent</th>                   <td>    1.8355</td> <td>    0.242</td> <td>    7.595</td> <td> 0.000</td> <td>    1.362</td> <td>    2.309</td>\n",
       "</tr>\n",
       "<tr>\n",
       "  <th>Tags_Busy</th>                                <td>    3.2093</td> <td>    0.342</td> <td>    9.375</td> <td> 0.000</td> <td>    2.538</td> <td>    3.880</td>\n",
       "</tr>\n",
       "<tr>\n",
       "  <th>Tags_Closed by Horizzon</th>                  <td>    9.2589</td> <td>    0.777</td> <td>   11.914</td> <td> 0.000</td> <td>    7.736</td> <td>   10.782</td>\n",
       "</tr>\n",
       "<tr>\n",
       "  <th>Tags_Lost to EINS</th>                        <td>    9.1690</td> <td>    1.083</td> <td>    8.468</td> <td> 0.000</td> <td>    7.047</td> <td>   11.291</td>\n",
       "</tr>\n",
       "<tr>\n",
       "  <th>Tags_Not doing further education</th>         <td>   -1.0154</td> <td>    1.048</td> <td>   -0.968</td> <td> 0.333</td> <td>   -3.070</td> <td>    1.040</td>\n",
       "</tr>\n",
       "<tr>\n",
       "  <th>Tags_Ringing</th>                             <td>   -1.0279</td> <td>    0.357</td> <td>   -2.883</td> <td> 0.004</td> <td>   -1.727</td> <td>   -0.329</td>\n",
       "</tr>\n",
       "<tr>\n",
       "  <th>Tags_Will revert after reading the email</th> <td>    6.7466</td> <td>    0.306</td> <td>   22.063</td> <td> 0.000</td> <td>    6.147</td> <td>    7.346</td>\n",
       "</tr>\n",
       "<tr>\n",
       "  <th>Tags_in touch with EINS</th>                  <td>    2.7109</td> <td>    0.891</td> <td>    3.041</td> <td> 0.002</td> <td>    0.964</td> <td>    4.458</td>\n",
       "</tr>\n",
       "<tr>\n",
       "  <th>Tags_switched off</th>                        <td>   -1.2908</td> <td>    0.653</td> <td>   -1.977</td> <td> 0.048</td> <td>   -2.570</td> <td>   -0.011</td>\n",
       "</tr>\n",
       "<tr>\n",
       "  <th>Lead Profile_Select</th>                      <td>   -1.1887</td> <td>    0.223</td> <td>   -5.325</td> <td> 0.000</td> <td>   -1.626</td> <td>   -0.751</td>\n",
       "</tr>\n",
       "<tr>\n",
       "  <th>Lead Profile_Student of SomeSchool</th>       <td>   -2.6270</td> <td>    0.834</td> <td>   -3.148</td> <td> 0.002</td> <td>   -4.263</td> <td>   -0.991</td>\n",
       "</tr>\n",
       "<tr>\n",
       "  <th>Last Notable Activity_Modified</th>           <td>   -1.0233</td> <td>    0.240</td> <td>   -4.264</td> <td> 0.000</td> <td>   -1.494</td> <td>   -0.553</td>\n",
       "</tr>\n",
       "</table>"
      ],
      "text/plain": [
       "<class 'statsmodels.iolib.summary.Summary'>\n",
       "\"\"\"\n",
       "                 Generalized Linear Model Regression Results                  \n",
       "==============================================================================\n",
       "Dep. Variable:              Converted   No. Observations:                 3762\n",
       "Model:                            GLM   Df Residuals:                     3748\n",
       "Model Family:                Binomial   Df Model:                           13\n",
       "Link Function:                  logit   Scale:                          1.0000\n",
       "Method:                          IRLS   Log-Likelihood:                -377.77\n",
       "Date:                Mon, 07 Oct 2019   Deviance:                       755.55\n",
       "Time:                        02:11:21   Pearson chi2:                 4.84e+03\n",
       "No. Iterations:                     8   Covariance Type:             nonrobust\n",
       "============================================================================================================\n",
       "                                               coef    std err          z      P>|z|      [0.025      0.975]\n",
       "------------------------------------------------------------------------------------------------------------\n",
       "const                                       -2.9355      0.282    -10.394      0.000      -3.489      -2.382\n",
       "Total Time Spent on Website                  1.0079      0.109      9.263      0.000       0.795       1.221\n",
       "Last Activity_SMS Sent                       1.8355      0.242      7.595      0.000       1.362       2.309\n",
       "Tags_Busy                                    3.2093      0.342      9.375      0.000       2.538       3.880\n",
       "Tags_Closed by Horizzon                      9.2589      0.777     11.914      0.000       7.736      10.782\n",
       "Tags_Lost to EINS                            9.1690      1.083      8.468      0.000       7.047      11.291\n",
       "Tags_Not doing further education            -1.0154      1.048     -0.968      0.333      -3.070       1.040\n",
       "Tags_Ringing                                -1.0279      0.357     -2.883      0.004      -1.727      -0.329\n",
       "Tags_Will revert after reading the email     6.7466      0.306     22.063      0.000       6.147       7.346\n",
       "Tags_in touch with EINS                      2.7109      0.891      3.041      0.002       0.964       4.458\n",
       "Tags_switched off                           -1.2908      0.653     -1.977      0.048      -2.570      -0.011\n",
       "Lead Profile_Select                         -1.1887      0.223     -5.325      0.000      -1.626      -0.751\n",
       "Lead Profile_Student of SomeSchool          -2.6270      0.834     -3.148      0.002      -4.263      -0.991\n",
       "Last Notable Activity_Modified              -1.0233      0.240     -4.264      0.000      -1.494      -0.553\n",
       "============================================================================================================\n",
       "\"\"\""
      ]
     },
     "execution_count": 116,
     "metadata": {},
     "output_type": "execute_result"
    }
   ],
   "source": [
    "# dropping column 'Specialization_Travel and Tourism'\n",
    "col = col.drop('Specialization_Travel and Tourism',1)\n",
    "\n",
    "# again building the model\n",
    "X_train_sm = sm.add_constant(X_train[col])\n",
    "logm1 = sm.GLM(y_train, X_train_sm, family = sm.families.Binomial())\n",
    "log_model = logm1.fit()\n",
    "log_model.summary()"
   ]
  },
  {
   "cell_type": "code",
   "execution_count": 117,
   "metadata": {},
   "outputs": [
    {
     "data": {
      "text/html": [
       "<table class=\"simpletable\">\n",
       "<caption>Generalized Linear Model Regression Results</caption>\n",
       "<tr>\n",
       "  <th>Dep. Variable:</th>      <td>Converted</td>    <th>  No. Observations:  </th>  <td>  3762</td>  \n",
       "</tr>\n",
       "<tr>\n",
       "  <th>Model:</th>                 <td>GLM</td>       <th>  Df Residuals:      </th>  <td>  3749</td>  \n",
       "</tr>\n",
       "<tr>\n",
       "  <th>Model Family:</th>       <td>Binomial</td>     <th>  Df Model:          </th>  <td>    12</td>  \n",
       "</tr>\n",
       "<tr>\n",
       "  <th>Link Function:</th>        <td>logit</td>      <th>  Scale:             </th> <td>  1.0000</td> \n",
       "</tr>\n",
       "<tr>\n",
       "  <th>Method:</th>               <td>IRLS</td>       <th>  Log-Likelihood:    </th> <td> -378.40</td> \n",
       "</tr>\n",
       "<tr>\n",
       "  <th>Date:</th>           <td>Mon, 07 Oct 2019</td> <th>  Deviance:          </th> <td>  756.79</td> \n",
       "</tr>\n",
       "<tr>\n",
       "  <th>Time:</th>               <td>02:11:21</td>     <th>  Pearson chi2:      </th> <td>4.84e+03</td> \n",
       "</tr>\n",
       "<tr>\n",
       "  <th>No. Iterations:</th>         <td>8</td>        <th>  Covariance Type:   </th> <td>nonrobust</td>\n",
       "</tr>\n",
       "</table>\n",
       "<table class=\"simpletable\">\n",
       "<tr>\n",
       "                      <td></td>                        <th>coef</th>     <th>std err</th>      <th>z</th>      <th>P>|z|</th>  <th>[0.025</th>    <th>0.975]</th>  \n",
       "</tr>\n",
       "<tr>\n",
       "  <th>const</th>                                    <td>   -3.0195</td> <td>    0.275</td> <td>  -10.968</td> <td> 0.000</td> <td>   -3.559</td> <td>   -2.480</td>\n",
       "</tr>\n",
       "<tr>\n",
       "  <th>Total Time Spent on Website</th>              <td>    1.0072</td> <td>    0.109</td> <td>    9.267</td> <td> 0.000</td> <td>    0.794</td> <td>    1.220</td>\n",
       "</tr>\n",
       "<tr>\n",
       "  <th>Last Activity_SMS Sent</th>                   <td>    1.8507</td> <td>    0.242</td> <td>    7.645</td> <td> 0.000</td> <td>    1.376</td> <td>    2.325</td>\n",
       "</tr>\n",
       "<tr>\n",
       "  <th>Tags_Busy</th>                                <td>    3.2752</td> <td>    0.340</td> <td>    9.639</td> <td> 0.000</td> <td>    2.609</td> <td>    3.941</td>\n",
       "</tr>\n",
       "<tr>\n",
       "  <th>Tags_Closed by Horizzon</th>                  <td>    9.3386</td> <td>    0.775</td> <td>   12.046</td> <td> 0.000</td> <td>    7.819</td> <td>   10.858</td>\n",
       "</tr>\n",
       "<tr>\n",
       "  <th>Tags_Lost to EINS</th>                        <td>    9.2409</td> <td>    1.081</td> <td>    8.546</td> <td> 0.000</td> <td>    7.122</td> <td>   11.360</td>\n",
       "</tr>\n",
       "<tr>\n",
       "  <th>Tags_Ringing</th>                             <td>   -0.9645</td> <td>    0.354</td> <td>   -2.722</td> <td> 0.006</td> <td>   -1.659</td> <td>   -0.270</td>\n",
       "</tr>\n",
       "<tr>\n",
       "  <th>Tags_Will revert after reading the email</th> <td>    6.8223</td> <td>    0.301</td> <td>   22.630</td> <td> 0.000</td> <td>    6.231</td> <td>    7.413</td>\n",
       "</tr>\n",
       "<tr>\n",
       "  <th>Tags_in touch with EINS</th>                  <td>    2.7897</td> <td>    0.889</td> <td>    3.136</td> <td> 0.002</td> <td>    1.046</td> <td>    4.533</td>\n",
       "</tr>\n",
       "<tr>\n",
       "  <th>Tags_switched off</th>                        <td>   -1.2279</td> <td>    0.652</td> <td>   -1.885</td> <td> 0.059</td> <td>   -2.505</td> <td>    0.049</td>\n",
       "</tr>\n",
       "<tr>\n",
       "  <th>Lead Profile_Select</th>                      <td>   -1.1749</td> <td>    0.223</td> <td>   -5.274</td> <td> 0.000</td> <td>   -1.612</td> <td>   -0.738</td>\n",
       "</tr>\n",
       "<tr>\n",
       "  <th>Lead Profile_Student of SomeSchool</th>       <td>   -2.5861</td> <td>    0.842</td> <td>   -3.073</td> <td> 0.002</td> <td>   -4.236</td> <td>   -0.937</td>\n",
       "</tr>\n",
       "<tr>\n",
       "  <th>Last Notable Activity_Modified</th>           <td>   -1.0312</td> <td>    0.239</td> <td>   -4.307</td> <td> 0.000</td> <td>   -1.500</td> <td>   -0.562</td>\n",
       "</tr>\n",
       "</table>"
      ],
      "text/plain": [
       "<class 'statsmodels.iolib.summary.Summary'>\n",
       "\"\"\"\n",
       "                 Generalized Linear Model Regression Results                  \n",
       "==============================================================================\n",
       "Dep. Variable:              Converted   No. Observations:                 3762\n",
       "Model:                            GLM   Df Residuals:                     3749\n",
       "Model Family:                Binomial   Df Model:                           12\n",
       "Link Function:                  logit   Scale:                          1.0000\n",
       "Method:                          IRLS   Log-Likelihood:                -378.40\n",
       "Date:                Mon, 07 Oct 2019   Deviance:                       756.79\n",
       "Time:                        02:11:21   Pearson chi2:                 4.84e+03\n",
       "No. Iterations:                     8   Covariance Type:             nonrobust\n",
       "============================================================================================================\n",
       "                                               coef    std err          z      P>|z|      [0.025      0.975]\n",
       "------------------------------------------------------------------------------------------------------------\n",
       "const                                       -3.0195      0.275    -10.968      0.000      -3.559      -2.480\n",
       "Total Time Spent on Website                  1.0072      0.109      9.267      0.000       0.794       1.220\n",
       "Last Activity_SMS Sent                       1.8507      0.242      7.645      0.000       1.376       2.325\n",
       "Tags_Busy                                    3.2752      0.340      9.639      0.000       2.609       3.941\n",
       "Tags_Closed by Horizzon                      9.3386      0.775     12.046      0.000       7.819      10.858\n",
       "Tags_Lost to EINS                            9.2409      1.081      8.546      0.000       7.122      11.360\n",
       "Tags_Ringing                                -0.9645      0.354     -2.722      0.006      -1.659      -0.270\n",
       "Tags_Will revert after reading the email     6.8223      0.301     22.630      0.000       6.231       7.413\n",
       "Tags_in touch with EINS                      2.7897      0.889      3.136      0.002       1.046       4.533\n",
       "Tags_switched off                           -1.2279      0.652     -1.885      0.059      -2.505       0.049\n",
       "Lead Profile_Select                         -1.1749      0.223     -5.274      0.000      -1.612      -0.738\n",
       "Lead Profile_Student of SomeSchool          -2.5861      0.842     -3.073      0.002      -4.236      -0.937\n",
       "Last Notable Activity_Modified              -1.0312      0.239     -4.307      0.000      -1.500      -0.562\n",
       "============================================================================================================\n",
       "\"\"\""
      ]
     },
     "execution_count": 117,
     "metadata": {},
     "output_type": "execute_result"
    }
   ],
   "source": [
    "# dropping column 'Tags_Not doing further education'\n",
    "col = col.drop('Tags_Not doing further education',1)\n",
    "\n",
    "# again building the model\n",
    "X_train_sm = sm.add_constant(X_train[col])\n",
    "logm1 = sm.GLM(y_train, X_train_sm, family = sm.families.Binomial())\n",
    "log_model = logm1.fit()\n",
    "log_model.summary()"
   ]
  },
  {
   "cell_type": "code",
   "execution_count": 118,
   "metadata": {
    "scrolled": false
   },
   "outputs": [
    {
     "data": {
      "text/html": [
       "<table class=\"simpletable\">\n",
       "<caption>Generalized Linear Model Regression Results</caption>\n",
       "<tr>\n",
       "  <th>Dep. Variable:</th>      <td>Converted</td>    <th>  No. Observations:  </th>  <td>  3762</td>  \n",
       "</tr>\n",
       "<tr>\n",
       "  <th>Model:</th>                 <td>GLM</td>       <th>  Df Residuals:      </th>  <td>  3750</td>  \n",
       "</tr>\n",
       "<tr>\n",
       "  <th>Model Family:</th>       <td>Binomial</td>     <th>  Df Model:          </th>  <td>    11</td>  \n",
       "</tr>\n",
       "<tr>\n",
       "  <th>Link Function:</th>        <td>logit</td>      <th>  Scale:             </th> <td>  1.0000</td> \n",
       "</tr>\n",
       "<tr>\n",
       "  <th>Method:</th>               <td>IRLS</td>       <th>  Log-Likelihood:    </th> <td> -380.64</td> \n",
       "</tr>\n",
       "<tr>\n",
       "  <th>Date:</th>           <td>Mon, 07 Oct 2019</td> <th>  Deviance:          </th> <td>  761.28</td> \n",
       "</tr>\n",
       "<tr>\n",
       "  <th>Time:</th>               <td>02:11:21</td>     <th>  Pearson chi2:      </th> <td>4.58e+03</td> \n",
       "</tr>\n",
       "<tr>\n",
       "  <th>No. Iterations:</th>         <td>8</td>        <th>  Covariance Type:   </th> <td>nonrobust</td>\n",
       "</tr>\n",
       "</table>\n",
       "<table class=\"simpletable\">\n",
       "<tr>\n",
       "                      <td></td>                        <th>coef</th>     <th>std err</th>      <th>z</th>      <th>P>|z|</th>  <th>[0.025</th>    <th>0.975]</th>  \n",
       "</tr>\n",
       "<tr>\n",
       "  <th>const</th>                                    <td>   -3.2108</td> <td>    0.270</td> <td>  -11.907</td> <td> 0.000</td> <td>   -3.739</td> <td>   -2.682</td>\n",
       "</tr>\n",
       "<tr>\n",
       "  <th>Total Time Spent on Website</th>              <td>    1.0175</td> <td>    0.109</td> <td>    9.332</td> <td> 0.000</td> <td>    0.804</td> <td>    1.231</td>\n",
       "</tr>\n",
       "<tr>\n",
       "  <th>Last Activity_SMS Sent</th>                   <td>    1.7609</td> <td>    0.236</td> <td>    7.472</td> <td> 0.000</td> <td>    1.299</td> <td>    2.223</td>\n",
       "</tr>\n",
       "<tr>\n",
       "  <th>Tags_Busy</th>                                <td>    3.5233</td> <td>    0.325</td> <td>   10.841</td> <td> 0.000</td> <td>    2.886</td> <td>    4.160</td>\n",
       "</tr>\n",
       "<tr>\n",
       "  <th>Tags_Closed by Horizzon</th>                  <td>    9.5072</td> <td>    0.775</td> <td>   12.267</td> <td> 0.000</td> <td>    7.988</td> <td>   11.026</td>\n",
       "</tr>\n",
       "<tr>\n",
       "  <th>Tags_Lost to EINS</th>                        <td>    9.4010</td> <td>    1.080</td> <td>    8.706</td> <td> 0.000</td> <td>    7.285</td> <td>   11.517</td>\n",
       "</tr>\n",
       "<tr>\n",
       "  <th>Tags_Ringing</th>                             <td>   -0.7006</td> <td>    0.335</td> <td>   -2.089</td> <td> 0.037</td> <td>   -1.358</td> <td>   -0.043</td>\n",
       "</tr>\n",
       "<tr>\n",
       "  <th>Tags_Will revert after reading the email</th> <td>    7.0244</td> <td>    0.294</td> <td>   23.853</td> <td> 0.000</td> <td>    6.447</td> <td>    7.602</td>\n",
       "</tr>\n",
       "<tr>\n",
       "  <th>Tags_in touch with EINS</th>                  <td>    2.9723</td> <td>    0.890</td> <td>    3.341</td> <td> 0.001</td> <td>    1.229</td> <td>    4.716</td>\n",
       "</tr>\n",
       "<tr>\n",
       "  <th>Lead Profile_Select</th>                      <td>   -1.1955</td> <td>    0.222</td> <td>   -5.381</td> <td> 0.000</td> <td>   -1.631</td> <td>   -0.760</td>\n",
       "</tr>\n",
       "<tr>\n",
       "  <th>Lead Profile_Student of SomeSchool</th>       <td>   -2.5509</td> <td>    0.866</td> <td>   -2.946</td> <td> 0.003</td> <td>   -4.248</td> <td>   -0.854</td>\n",
       "</tr>\n",
       "<tr>\n",
       "  <th>Last Notable Activity_Modified</th>           <td>   -0.9740</td> <td>    0.241</td> <td>   -4.040</td> <td> 0.000</td> <td>   -1.447</td> <td>   -0.501</td>\n",
       "</tr>\n",
       "</table>"
      ],
      "text/plain": [
       "<class 'statsmodels.iolib.summary.Summary'>\n",
       "\"\"\"\n",
       "                 Generalized Linear Model Regression Results                  \n",
       "==============================================================================\n",
       "Dep. Variable:              Converted   No. Observations:                 3762\n",
       "Model:                            GLM   Df Residuals:                     3750\n",
       "Model Family:                Binomial   Df Model:                           11\n",
       "Link Function:                  logit   Scale:                          1.0000\n",
       "Method:                          IRLS   Log-Likelihood:                -380.64\n",
       "Date:                Mon, 07 Oct 2019   Deviance:                       761.28\n",
       "Time:                        02:11:21   Pearson chi2:                 4.58e+03\n",
       "No. Iterations:                     8   Covariance Type:             nonrobust\n",
       "============================================================================================================\n",
       "                                               coef    std err          z      P>|z|      [0.025      0.975]\n",
       "------------------------------------------------------------------------------------------------------------\n",
       "const                                       -3.2108      0.270    -11.907      0.000      -3.739      -2.682\n",
       "Total Time Spent on Website                  1.0175      0.109      9.332      0.000       0.804       1.231\n",
       "Last Activity_SMS Sent                       1.7609      0.236      7.472      0.000       1.299       2.223\n",
       "Tags_Busy                                    3.5233      0.325     10.841      0.000       2.886       4.160\n",
       "Tags_Closed by Horizzon                      9.5072      0.775     12.267      0.000       7.988      11.026\n",
       "Tags_Lost to EINS                            9.4010      1.080      8.706      0.000       7.285      11.517\n",
       "Tags_Ringing                                -0.7006      0.335     -2.089      0.037      -1.358      -0.043\n",
       "Tags_Will revert after reading the email     7.0244      0.294     23.853      0.000       6.447       7.602\n",
       "Tags_in touch with EINS                      2.9723      0.890      3.341      0.001       1.229       4.716\n",
       "Lead Profile_Select                         -1.1955      0.222     -5.381      0.000      -1.631      -0.760\n",
       "Lead Profile_Student of SomeSchool          -2.5509      0.866     -2.946      0.003      -4.248      -0.854\n",
       "Last Notable Activity_Modified              -0.9740      0.241     -4.040      0.000      -1.447      -0.501\n",
       "============================================================================================================\n",
       "\"\"\""
      ]
     },
     "execution_count": 118,
     "metadata": {},
     "output_type": "execute_result"
    }
   ],
   "source": [
    "# dropping column 'Tags_switched off'\n",
    "col = col.drop('Tags_switched off',1)\n",
    "\n",
    "# again building the model\n",
    "X_train_sm = sm.add_constant(X_train[col])\n",
    "logm1 = sm.GLM(y_train, X_train_sm, family = sm.families.Binomial())\n",
    "log_model = logm1.fit()\n",
    "log_model.summary()"
   ]
  },
  {
   "cell_type": "code",
   "execution_count": 184,
   "metadata": {},
   "outputs": [
    {
     "data": {
      "text/html": [
       "<div>\n",
       "<style scoped>\n",
       "    .dataframe tbody tr th:only-of-type {\n",
       "        vertical-align: middle;\n",
       "    }\n",
       "\n",
       "    .dataframe tbody tr th {\n",
       "        vertical-align: top;\n",
       "    }\n",
       "\n",
       "    .dataframe thead th {\n",
       "        text-align: right;\n",
       "    }\n",
       "</style>\n",
       "<table border=\"1\" class=\"dataframe\">\n",
       "  <thead>\n",
       "    <tr style=\"text-align: right;\">\n",
       "      <th></th>\n",
       "      <th>Variables</th>\n",
       "      <th>Coefficients</th>\n",
       "    </tr>\n",
       "  </thead>\n",
       "  <tbody>\n",
       "    <tr>\n",
       "      <th>0</th>\n",
       "      <td>const</td>\n",
       "      <td>-3.210786</td>\n",
       "    </tr>\n",
       "    <tr>\n",
       "      <th>1</th>\n",
       "      <td>Total Time Spent on Website</td>\n",
       "      <td>1.017534</td>\n",
       "    </tr>\n",
       "    <tr>\n",
       "      <th>2</th>\n",
       "      <td>Last Activity_SMS Sent</td>\n",
       "      <td>1.760875</td>\n",
       "    </tr>\n",
       "    <tr>\n",
       "      <th>3</th>\n",
       "      <td>Tags_Busy</td>\n",
       "      <td>3.523254</td>\n",
       "    </tr>\n",
       "    <tr>\n",
       "      <th>4</th>\n",
       "      <td>Tags_Closed by Horizzon</td>\n",
       "      <td>9.507168</td>\n",
       "    </tr>\n",
       "  </tbody>\n",
       "</table>\n",
       "</div>"
      ],
      "text/plain": [
       "                     Variables  Coefficients\n",
       "0                        const     -3.210786\n",
       "1  Total Time Spent on Website      1.017534\n",
       "2       Last Activity_SMS Sent      1.760875\n",
       "3                    Tags_Busy      3.523254\n",
       "4      Tags_Closed by Horizzon      9.507168"
      ]
     },
     "execution_count": 184,
     "metadata": {},
     "output_type": "execute_result"
    }
   ],
   "source": [
    "coeff_df = pd.DataFrame(log_model.params)\n",
    "coeff_df.reset_index(inplace=True)\n",
    "coeff_df = coeff_df.rename(columns={'index':'Variables',0:'Coefficients'})\n",
    "coeff_df.head()"
   ]
  },
  {
   "cell_type": "code",
   "execution_count": 190,
   "metadata": {},
   "outputs": [
    {
     "data": {
      "image/png": "[encoded data removed]",
      "text/plain": [
       "<Figure size 1296x576 with 1 Axes>"
      ]
     },
     "metadata": {
      "needs_background": "light"
     },
     "output_type": "display_data"
    }
   ],
   "source": [
    "plt.figure(figsize=(18,8))\n",
    "sns.barplot(data=coeff_df, x= 'Variables', y='Coefficients')\n",
    "plt.xticks(rotation=90)\n",
    "plt.show()"
   ]
  },
  {
   "cell_type": "markdown",
   "metadata": {},
   "source": [
    "Checking VIF values"
   ]
  },
  {
   "cell_type": "code",
   "execution_count": 119,
   "metadata": {},
   "outputs": [
    {
     "data": {
      "text/html": [
       "<div>\n",
       "<style scoped>\n",
       "    .dataframe tbody tr th:only-of-type {\n",
       "        vertical-align: middle;\n",
       "    }\n",
       "\n",
       "    .dataframe tbody tr th {\n",
       "        vertical-align: top;\n",
       "    }\n",
       "\n",
       "    .dataframe thead th {\n",
       "        text-align: right;\n",
       "    }\n",
       "</style>\n",
       "<table border=\"1\" class=\"dataframe\">\n",
       "  <thead>\n",
       "    <tr style=\"text-align: right;\">\n",
       "      <th></th>\n",
       "      <th>Features</th>\n",
       "      <th>VIF</th>\n",
       "    </tr>\n",
       "  </thead>\n",
       "  <tbody>\n",
       "    <tr>\n",
       "      <th>8</th>\n",
       "      <td>Lead Profile_Select</td>\n",
       "      <td>2.14</td>\n",
       "    </tr>\n",
       "    <tr>\n",
       "      <th>1</th>\n",
       "      <td>Last Activity_SMS Sent</td>\n",
       "      <td>1.78</td>\n",
       "    </tr>\n",
       "    <tr>\n",
       "      <th>6</th>\n",
       "      <td>Tags_Will revert after reading the email</td>\n",
       "      <td>1.64</td>\n",
       "    </tr>\n",
       "    <tr>\n",
       "      <th>5</th>\n",
       "      <td>Tags_Ringing</td>\n",
       "      <td>1.53</td>\n",
       "    </tr>\n",
       "    <tr>\n",
       "      <th>10</th>\n",
       "      <td>Last Notable Activity_Modified</td>\n",
       "      <td>1.44</td>\n",
       "    </tr>\n",
       "    <tr>\n",
       "      <th>3</th>\n",
       "      <td>Tags_Closed by Horizzon</td>\n",
       "      <td>1.11</td>\n",
       "    </tr>\n",
       "    <tr>\n",
       "      <th>0</th>\n",
       "      <td>Total Time Spent on Website</td>\n",
       "      <td>1.09</td>\n",
       "    </tr>\n",
       "    <tr>\n",
       "      <th>2</th>\n",
       "      <td>Tags_Busy</td>\n",
       "      <td>1.09</td>\n",
       "    </tr>\n",
       "    <tr>\n",
       "      <th>4</th>\n",
       "      <td>Tags_Lost to EINS</td>\n",
       "      <td>1.06</td>\n",
       "    </tr>\n",
       "    <tr>\n",
       "      <th>9</th>\n",
       "      <td>Lead Profile_Student of SomeSchool</td>\n",
       "      <td>1.04</td>\n",
       "    </tr>\n",
       "    <tr>\n",
       "      <th>7</th>\n",
       "      <td>Tags_in touch with EINS</td>\n",
       "      <td>1.01</td>\n",
       "    </tr>\n",
       "  </tbody>\n",
       "</table>\n",
       "</div>"
      ],
      "text/plain": [
       "                                    Features   VIF\n",
       "8                        Lead Profile_Select  2.14\n",
       "1                     Last Activity_SMS Sent  1.78\n",
       "6   Tags_Will revert after reading the email  1.64\n",
       "5                               Tags_Ringing  1.53\n",
       "10            Last Notable Activity_Modified  1.44\n",
       "3                    Tags_Closed by Horizzon  1.11\n",
       "0                Total Time Spent on Website  1.09\n",
       "2                                  Tags_Busy  1.09\n",
       "4                          Tags_Lost to EINS  1.06\n",
       "9         Lead Profile_Student of SomeSchool  1.04\n",
       "7                    Tags_in touch with EINS  1.01"
      ]
     },
     "execution_count": 119,
     "metadata": {},
     "output_type": "execute_result"
    }
   ],
   "source": [
    "vif = pd.DataFrame()\n",
    "vif['Features'] = X_train[col].columns\n",
    "vif['VIF'] = [variance_inflation_factor(X_train[col].values, i) for i in range(X_train[col].shape[1])]\n",
    "vif['VIF'] = round(vif['VIF'], 2)\n",
    "vif = vif.sort_values(by = 'VIF', ascending=False)\n",
    "vif"
   ]
  },
  {
   "cell_type": "code",
   "execution_count": 120,
   "metadata": {},
   "outputs": [],
   "source": [
    "y_train_pred = log_model.predict(X_train_sm)"
   ]
  },
  {
   "cell_type": "code",
   "execution_count": 121,
   "metadata": {
    "scrolled": true
   },
   "outputs": [
    {
     "data": {
      "text/plain": [
       "array([6.03140034e-03, 6.19160516e-02, 9.81008989e-01, 1.43873071e-02,\n",
       "       2.05503060e-02, 9.92686541e-01, 7.53094019e-03, 9.55852641e-01,\n",
       "       9.06428898e-04, 9.77622491e-01])"
      ]
     },
     "execution_count": 121,
     "metadata": {},
     "output_type": "execute_result"
    }
   ],
   "source": [
    "y_train_pred = y_train_pred.values.reshape(-1)\n",
    "y_train_pred[:10]"
   ]
  },
  {
   "cell_type": "code",
   "execution_count": 128,
   "metadata": {},
   "outputs": [
    {
     "data": {
      "text/html": [
       "<div>\n",
       "<style scoped>\n",
       "    .dataframe tbody tr th:only-of-type {\n",
       "        vertical-align: middle;\n",
       "    }\n",
       "\n",
       "    .dataframe tbody tr th {\n",
       "        vertical-align: top;\n",
       "    }\n",
       "\n",
       "    .dataframe thead th {\n",
       "        text-align: right;\n",
       "    }\n",
       "</style>\n",
       "<table border=\"1\" class=\"dataframe\">\n",
       "  <thead>\n",
       "    <tr style=\"text-align: right;\">\n",
       "      <th></th>\n",
       "      <th>Lead</th>\n",
       "      <th>Lead_Prob</th>\n",
       "      <th>Lead Number</th>\n",
       "    </tr>\n",
       "  </thead>\n",
       "  <tbody>\n",
       "    <tr>\n",
       "      <th>0</th>\n",
       "      <td>0</td>\n",
       "      <td>0.006031</td>\n",
       "      <td>601495</td>\n",
       "    </tr>\n",
       "    <tr>\n",
       "      <th>1</th>\n",
       "      <td>0</td>\n",
       "      <td>0.061916</td>\n",
       "      <td>629871</td>\n",
       "    </tr>\n",
       "    <tr>\n",
       "      <th>2</th>\n",
       "      <td>1</td>\n",
       "      <td>0.981009</td>\n",
       "      <td>646558</td>\n",
       "    </tr>\n",
       "    <tr>\n",
       "      <th>3</th>\n",
       "      <td>0</td>\n",
       "      <td>0.014387</td>\n",
       "      <td>604384</td>\n",
       "    </tr>\n",
       "    <tr>\n",
       "      <th>4</th>\n",
       "      <td>0</td>\n",
       "      <td>0.020550</td>\n",
       "      <td>588718</td>\n",
       "    </tr>\n",
       "  </tbody>\n",
       "</table>\n",
       "</div>"
      ],
      "text/plain": [
       "   Lead  Lead_Prob  Lead Number\n",
       "0     0   0.006031       601495\n",
       "1     0   0.061916       629871\n",
       "2     1   0.981009       646558\n",
       "3     0   0.014387       604384\n",
       "4     0   0.020550       588718"
      ]
     },
     "execution_count": 128,
     "metadata": {},
     "output_type": "execute_result"
    }
   ],
   "source": [
    "y_train_pred_final = pd.DataFrame({'Lead':y_train.values.reshape(-1), 'Lead_Prob':y_train_pred})\n",
    "y_train_pred_final['Lead Number'] = y_train.index\n",
    "y_train_pred_final.head()"
   ]
  },
  {
   "cell_type": "code",
   "execution_count": 129,
   "metadata": {},
   "outputs": [],
   "source": [
    "y_train_pred_final['Predicted_Lead'] = y_train_pred_final.Lead_Prob.map(lambda x: 1 if x > 0.5 else 0)"
   ]
  },
  {
   "cell_type": "code",
   "execution_count": 130,
   "metadata": {},
   "outputs": [
    {
     "data": {
      "text/html": [
       "<div>\n",
       "<style scoped>\n",
       "    .dataframe tbody tr th:only-of-type {\n",
       "        vertical-align: middle;\n",
       "    }\n",
       "\n",
       "    .dataframe tbody tr th {\n",
       "        vertical-align: top;\n",
       "    }\n",
       "\n",
       "    .dataframe thead th {\n",
       "        text-align: right;\n",
       "    }\n",
       "</style>\n",
       "<table border=\"1\" class=\"dataframe\">\n",
       "  <thead>\n",
       "    <tr style=\"text-align: right;\">\n",
       "      <th></th>\n",
       "      <th>Lead</th>\n",
       "      <th>Lead_Prob</th>\n",
       "      <th>Lead Number</th>\n",
       "      <th>Predicted_Lead</th>\n",
       "    </tr>\n",
       "  </thead>\n",
       "  <tbody>\n",
       "    <tr>\n",
       "      <th>0</th>\n",
       "      <td>0</td>\n",
       "      <td>0.006031</td>\n",
       "      <td>601495</td>\n",
       "      <td>0</td>\n",
       "    </tr>\n",
       "    <tr>\n",
       "      <th>1</th>\n",
       "      <td>0</td>\n",
       "      <td>0.061916</td>\n",
       "      <td>629871</td>\n",
       "      <td>0</td>\n",
       "    </tr>\n",
       "    <tr>\n",
       "      <th>2</th>\n",
       "      <td>1</td>\n",
       "      <td>0.981009</td>\n",
       "      <td>646558</td>\n",
       "      <td>1</td>\n",
       "    </tr>\n",
       "    <tr>\n",
       "      <th>3</th>\n",
       "      <td>0</td>\n",
       "      <td>0.014387</td>\n",
       "      <td>604384</td>\n",
       "      <td>0</td>\n",
       "    </tr>\n",
       "    <tr>\n",
       "      <th>4</th>\n",
       "      <td>0</td>\n",
       "      <td>0.020550</td>\n",
       "      <td>588718</td>\n",
       "      <td>0</td>\n",
       "    </tr>\n",
       "  </tbody>\n",
       "</table>\n",
       "</div>"
      ],
      "text/plain": [
       "   Lead  Lead_Prob  Lead Number  Predicted_Lead\n",
       "0     0   0.006031       601495               0\n",
       "1     0   0.061916       629871               0\n",
       "2     1   0.981009       646558               1\n",
       "3     0   0.014387       604384               0\n",
       "4     0   0.020550       588718               0"
      ]
     },
     "execution_count": 130,
     "metadata": {},
     "output_type": "execute_result"
    }
   ],
   "source": [
    "y_train_pred_final.head()"
   ]
  },
  {
   "cell_type": "code",
   "execution_count": 131,
   "metadata": {},
   "outputs": [
    {
     "name": "stdout",
     "output_type": "stream",
     "text": [
      "[[1986   61]\n",
      " [  61 1654]]\n"
     ]
    }
   ],
   "source": [
    "from sklearn import metrics\n",
    "\n",
    "# Confusion matrix \n",
    "confusion = metrics.confusion_matrix(y_train_pred_final.Lead, y_train_pred_final.Predicted_Lead )\n",
    "print(confusion)"
   ]
  },
  {
   "cell_type": "code",
   "execution_count": 132,
   "metadata": {},
   "outputs": [
    {
     "name": "stdout",
     "output_type": "stream",
     "text": [
      "0.9675704412546517\n"
     ]
    }
   ],
   "source": [
    "# Let's check the overall accuracy.\n",
    "print(metrics.accuracy_score(y_train_pred_final.Lead, y_train_pred_final.Predicted_Lead))"
   ]
  },
  {
   "cell_type": "markdown",
   "metadata": {},
   "source": [
    "#### The Accuracy of the Model came out to be 96.75%"
   ]
  },
  {
   "cell_type": "markdown",
   "metadata": {},
   "source": [
    "Let us now, for the Sensitivity and Specificity"
   ]
  },
  {
   "cell_type": "code",
   "execution_count": 133,
   "metadata": {},
   "outputs": [],
   "source": [
    "TP = confusion[1,1] # true positive \n",
    "TN = confusion[0,0] # true negatives\n",
    "FP = confusion[0,1] # false positives\n",
    "FN = confusion[1,0] # false negatives"
   ]
  },
  {
   "cell_type": "code",
   "execution_count": 134,
   "metadata": {},
   "outputs": [
    {
     "data": {
      "text/plain": [
       "0.9644314868804664"
      ]
     },
     "execution_count": 134,
     "metadata": {},
     "output_type": "execute_result"
    }
   ],
   "source": [
    "# Let's see the sensitivity of our logistic regression model\n",
    "TP / float(TP+FN)"
   ]
  },
  {
   "cell_type": "code",
   "execution_count": 135,
   "metadata": {},
   "outputs": [
    {
     "data": {
      "text/plain": [
       "0.9702002931118711"
      ]
     },
     "execution_count": 135,
     "metadata": {},
     "output_type": "execute_result"
    }
   ],
   "source": [
    "# Let us calculate specificity\n",
    "TN / float(TN+FP)"
   ]
  },
  {
   "cell_type": "code",
   "execution_count": 136,
   "metadata": {},
   "outputs": [
    {
     "name": "stdout",
     "output_type": "stream",
     "text": [
      "0.02979970688812897\n"
     ]
    }
   ],
   "source": [
    "# Calculate false postive rate - predicting lead when customer does not have lead\n",
    "print(FP/ float(TN+FP))"
   ]
  },
  {
   "cell_type": "code",
   "execution_count": 137,
   "metadata": {},
   "outputs": [
    {
     "name": "stdout",
     "output_type": "stream",
     "text": [
      "0.9644314868804664\n"
     ]
    }
   ],
   "source": [
    "# positive predictive value \n",
    "print (TP / float(TP+FP))"
   ]
  },
  {
   "cell_type": "code",
   "execution_count": 138,
   "metadata": {},
   "outputs": [
    {
     "name": "stdout",
     "output_type": "stream",
     "text": [
      "0.9702002931118711\n"
     ]
    }
   ],
   "source": [
    "# Negative predictive value\n",
    "print (TN / float(TN+ FN))"
   ]
  },
  {
   "cell_type": "markdown",
   "metadata": {},
   "source": [
    "## 7.Plotting the ROC curve"
   ]
  },
  {
   "cell_type": "code",
   "execution_count": 139,
   "metadata": {},
   "outputs": [],
   "source": [
    "def draw_roc( actual, probs ):\n",
    "    fpr, tpr, thresholds = metrics.roc_curve( actual, probs,\n",
    "                                              drop_intermediate = False )\n",
    "    auc_score = metrics.roc_auc_score( actual, probs )\n",
    "    plt.figure(figsize=(5, 5))\n",
    "    plt.plot( fpr, tpr, label='ROC curve (area = %0.2f)' % auc_score )\n",
    "    plt.plot([0, 1], [0, 1], 'k--')\n",
    "    plt.xlim([0.0, 1.0])\n",
    "    plt.ylim([0.0, 1.05])\n",
    "    plt.xlabel('False Positive Rate or [1 - True Negative Rate]')\n",
    "    plt.ylabel('True Positive Rate')\n",
    "    plt.title('Receiver operating characteristic example')\n",
    "    plt.legend(loc=\"lower right\")\n",
    "    plt.show()\n",
    "\n",
    "    return None"
   ]
  },
  {
   "cell_type": "code",
   "execution_count": 140,
   "metadata": {},
   "outputs": [],
   "source": [
    "fpr, tpr, thresholds = metrics.roc_curve( y_train_pred_final.Lead, y_train_pred_final.Lead_Prob, drop_intermediate = False )"
   ]
  },
  {
   "cell_type": "code",
   "execution_count": 141,
   "metadata": {},
   "outputs": [
    {
     "data": {
      "image/png": "[encoded data removed]",
      "text/plain": [
       "<Figure size 360x360 with 1 Axes>"
      ]
     },
     "metadata": {
      "needs_background": "light"
     },
     "output_type": "display_data"
    }
   ],
   "source": [
    "draw_roc(y_train_pred_final.Lead, y_train_pred_final.Lead_Prob)"
   ]
  },
  {
   "cell_type": "code",
   "execution_count": 142,
   "metadata": {},
   "outputs": [
    {
     "data": {
      "text/html": [
       "<div>\n",
       "<style scoped>\n",
       "    .dataframe tbody tr th:only-of-type {\n",
       "        vertical-align: middle;\n",
       "    }\n",
       "\n",
       "    .dataframe tbody tr th {\n",
       "        vertical-align: top;\n",
       "    }\n",
       "\n",
       "    .dataframe thead th {\n",
       "        text-align: right;\n",
       "    }\n",
       "</style>\n",
       "<table border=\"1\" class=\"dataframe\">\n",
       "  <thead>\n",
       "    <tr style=\"text-align: right;\">\n",
       "      <th></th>\n",
       "      <th>Lead</th>\n",
       "      <th>Lead_Prob</th>\n",
       "      <th>Lead Number</th>\n",
       "      <th>Predicted_Lead</th>\n",
       "      <th>0.0</th>\n",
       "      <th>0.1</th>\n",
       "      <th>0.2</th>\n",
       "      <th>0.3</th>\n",
       "      <th>0.4</th>\n",
       "      <th>0.5</th>\n",
       "      <th>0.6</th>\n",
       "      <th>0.7</th>\n",
       "      <th>0.8</th>\n",
       "      <th>0.9</th>\n",
       "    </tr>\n",
       "  </thead>\n",
       "  <tbody>\n",
       "    <tr>\n",
       "      <th>0</th>\n",
       "      <td>0</td>\n",
       "      <td>0.006031</td>\n",
       "      <td>601495</td>\n",
       "      <td>0</td>\n",
       "      <td>1</td>\n",
       "      <td>0</td>\n",
       "      <td>0</td>\n",
       "      <td>0</td>\n",
       "      <td>0</td>\n",
       "      <td>0</td>\n",
       "      <td>0</td>\n",
       "      <td>0</td>\n",
       "      <td>0</td>\n",
       "      <td>0</td>\n",
       "    </tr>\n",
       "    <tr>\n",
       "      <th>1</th>\n",
       "      <td>0</td>\n",
       "      <td>0.061916</td>\n",
       "      <td>629871</td>\n",
       "      <td>0</td>\n",
       "      <td>1</td>\n",
       "      <td>0</td>\n",
       "      <td>0</td>\n",
       "      <td>0</td>\n",
       "      <td>0</td>\n",
       "      <td>0</td>\n",
       "      <td>0</td>\n",
       "      <td>0</td>\n",
       "      <td>0</td>\n",
       "      <td>0</td>\n",
       "    </tr>\n",
       "    <tr>\n",
       "      <th>2</th>\n",
       "      <td>1</td>\n",
       "      <td>0.981009</td>\n",
       "      <td>646558</td>\n",
       "      <td>1</td>\n",
       "      <td>1</td>\n",
       "      <td>1</td>\n",
       "      <td>1</td>\n",
       "      <td>1</td>\n",
       "      <td>1</td>\n",
       "      <td>1</td>\n",
       "      <td>1</td>\n",
       "      <td>1</td>\n",
       "      <td>1</td>\n",
       "      <td>1</td>\n",
       "    </tr>\n",
       "    <tr>\n",
       "      <th>3</th>\n",
       "      <td>0</td>\n",
       "      <td>0.014387</td>\n",
       "      <td>604384</td>\n",
       "      <td>0</td>\n",
       "      <td>1</td>\n",
       "      <td>0</td>\n",
       "      <td>0</td>\n",
       "      <td>0</td>\n",
       "      <td>0</td>\n",
       "      <td>0</td>\n",
       "      <td>0</td>\n",
       "      <td>0</td>\n",
       "      <td>0</td>\n",
       "      <td>0</td>\n",
       "    </tr>\n",
       "    <tr>\n",
       "      <th>4</th>\n",
       "      <td>0</td>\n",
       "      <td>0.020550</td>\n",
       "      <td>588718</td>\n",
       "      <td>0</td>\n",
       "      <td>1</td>\n",
       "      <td>0</td>\n",
       "      <td>0</td>\n",
       "      <td>0</td>\n",
       "      <td>0</td>\n",
       "      <td>0</td>\n",
       "      <td>0</td>\n",
       "      <td>0</td>\n",
       "      <td>0</td>\n",
       "      <td>0</td>\n",
       "    </tr>\n",
       "  </tbody>\n",
       "</table>\n",
       "</div>"
      ],
      "text/plain": [
       "   Lead  Lead_Prob  Lead Number  Predicted_Lead  0.0  0.1  0.2  0.3  0.4  0.5  \\\n",
       "0     0   0.006031       601495               0    1    0    0    0    0    0   \n",
       "1     0   0.061916       629871               0    1    0    0    0    0    0   \n",
       "2     1   0.981009       646558               1    1    1    1    1    1    1   \n",
       "3     0   0.014387       604384               0    1    0    0    0    0    0   \n",
       "4     0   0.020550       588718               0    1    0    0    0    0    0   \n",
       "\n",
       "   0.6  0.7  0.8  0.9  \n",
       "0    0    0    0    0  \n",
       "1    0    0    0    0  \n",
       "2    1    1    1    1  \n",
       "3    0    0    0    0  \n",
       "4    0    0    0    0  "
      ]
     },
     "execution_count": 142,
     "metadata": {},
     "output_type": "execute_result"
    }
   ],
   "source": [
    "# Let's create columns with different probability cutoffs \n",
    "numbers = [float(x)/10 for x in range(10)]\n",
    "for i in numbers:\n",
    "    y_train_pred_final[i]= y_train_pred_final.Lead_Prob.map(lambda x: 1 if x > i else 0)\n",
    "y_train_pred_final.head()"
   ]
  },
  {
   "cell_type": "code",
   "execution_count": 143,
   "metadata": {},
   "outputs": [
    {
     "name": "stdout",
     "output_type": "stream",
     "text": [
      "     prob  accuracy     sensi     speci\n",
      "0.0   0.0  0.455875  1.000000  0.000000\n",
      "0.1   0.1  0.944179  0.983673  0.911089\n",
      "0.2   0.2  0.965710  0.977843  0.955545\n",
      "0.3   0.3  0.968102  0.973178  0.963850\n",
      "0.4   0.4  0.967039  0.969096  0.965315\n",
      "0.5   0.5  0.967570  0.964431  0.970200\n",
      "0.6   0.6  0.967570  0.959184  0.974597\n",
      "0.7   0.7  0.967305  0.954519  0.978017\n",
      "0.8   0.8  0.966507  0.948105  0.981925\n",
      "0.9   0.9  0.951887  0.906706  0.989741\n"
     ]
    }
   ],
   "source": [
    "# Now let's calculate accuracy sensitivity and specificity for various probability cutoffs.\n",
    "cutoff_df = pd.DataFrame( columns = ['prob','accuracy','sensi','speci'])\n",
    "from sklearn.metrics import confusion_matrix\n",
    "\n",
    "# TP = confusion[1,1] # true positive \n",
    "# TN = confusion[0,0] # true negatives\n",
    "# FP = confusion[0,1] # false positives\n",
    "# FN = confusion[1,0] # false negatives\n",
    "\n",
    "num = [0.0,0.1,0.2,0.3,0.4,0.5,0.6,0.7,0.8,0.9]\n",
    "for i in num:\n",
    "    cm1 = metrics.confusion_matrix(y_train_pred_final.Lead, y_train_pred_final[i] )\n",
    "    total1=sum(sum(cm1))\n",
    "    accuracy = (cm1[0,0]+cm1[1,1])/total1\n",
    "    \n",
    "    speci = cm1[0,0]/(cm1[0,0]+cm1[0,1])\n",
    "    sensi = cm1[1,1]/(cm1[1,0]+cm1[1,1])\n",
    "    cutoff_df.loc[i] =[ i ,accuracy,sensi,speci]\n",
    "print(cutoff_df)"
   ]
  },
  {
   "cell_type": "code",
   "execution_count": 144,
   "metadata": {},
   "outputs": [
    {
     "data": {
      "image/png": "[encoded data removed]",
      "text/plain": [
       "<Figure size 432x288 with 1 Axes>"
      ]
     },
     "metadata": {
      "needs_background": "light"
     },
     "output_type": "display_data"
    }
   ],
   "source": [
    "    # Let's plot accuracy sensitivity and specificity for various probabilities.\n",
    "cutoff_df.plot.line(x='prob', y=['accuracy','sensi','speci'])\n",
    "plt.show()"
   ]
  },
  {
   "cell_type": "code",
   "execution_count": 145,
   "metadata": {},
   "outputs": [],
   "source": [
    "#### From the curve above, 0.44 is the optimum point to take it as a cutoff probability."
   ]
  },
  {
   "cell_type": "code",
   "execution_count": 146,
   "metadata": {},
   "outputs": [
    {
     "data": {
      "text/html": [
       "<div>\n",
       "<style scoped>\n",
       "    .dataframe tbody tr th:only-of-type {\n",
       "        vertical-align: middle;\n",
       "    }\n",
       "\n",
       "    .dataframe tbody tr th {\n",
       "        vertical-align: top;\n",
       "    }\n",
       "\n",
       "    .dataframe thead th {\n",
       "        text-align: right;\n",
       "    }\n",
       "</style>\n",
       "<table border=\"1\" class=\"dataframe\">\n",
       "  <thead>\n",
       "    <tr style=\"text-align: right;\">\n",
       "      <th></th>\n",
       "      <th>Lead</th>\n",
       "      <th>Lead_Prob</th>\n",
       "      <th>Lead Number</th>\n",
       "      <th>Predicted_Lead</th>\n",
       "      <th>0.0</th>\n",
       "      <th>0.1</th>\n",
       "      <th>0.2</th>\n",
       "      <th>0.3</th>\n",
       "      <th>0.4</th>\n",
       "      <th>0.5</th>\n",
       "      <th>0.6</th>\n",
       "      <th>0.7</th>\n",
       "      <th>0.8</th>\n",
       "      <th>0.9</th>\n",
       "      <th>final_predicted</th>\n",
       "    </tr>\n",
       "  </thead>\n",
       "  <tbody>\n",
       "    <tr>\n",
       "      <th>0</th>\n",
       "      <td>0</td>\n",
       "      <td>0.006031</td>\n",
       "      <td>601495</td>\n",
       "      <td>0</td>\n",
       "      <td>1</td>\n",
       "      <td>0</td>\n",
       "      <td>0</td>\n",
       "      <td>0</td>\n",
       "      <td>0</td>\n",
       "      <td>0</td>\n",
       "      <td>0</td>\n",
       "      <td>0</td>\n",
       "      <td>0</td>\n",
       "      <td>0</td>\n",
       "      <td>0</td>\n",
       "    </tr>\n",
       "    <tr>\n",
       "      <th>1</th>\n",
       "      <td>0</td>\n",
       "      <td>0.061916</td>\n",
       "      <td>629871</td>\n",
       "      <td>0</td>\n",
       "      <td>1</td>\n",
       "      <td>0</td>\n",
       "      <td>0</td>\n",
       "      <td>0</td>\n",
       "      <td>0</td>\n",
       "      <td>0</td>\n",
       "      <td>0</td>\n",
       "      <td>0</td>\n",
       "      <td>0</td>\n",
       "      <td>0</td>\n",
       "      <td>0</td>\n",
       "    </tr>\n",
       "    <tr>\n",
       "      <th>2</th>\n",
       "      <td>1</td>\n",
       "      <td>0.981009</td>\n",
       "      <td>646558</td>\n",
       "      <td>1</td>\n",
       "      <td>1</td>\n",
       "      <td>1</td>\n",
       "      <td>1</td>\n",
       "      <td>1</td>\n",
       "      <td>1</td>\n",
       "      <td>1</td>\n",
       "      <td>1</td>\n",
       "      <td>1</td>\n",
       "      <td>1</td>\n",
       "      <td>1</td>\n",
       "      <td>1</td>\n",
       "    </tr>\n",
       "    <tr>\n",
       "      <th>3</th>\n",
       "      <td>0</td>\n",
       "      <td>0.014387</td>\n",
       "      <td>604384</td>\n",
       "      <td>0</td>\n",
       "      <td>1</td>\n",
       "      <td>0</td>\n",
       "      <td>0</td>\n",
       "      <td>0</td>\n",
       "      <td>0</td>\n",
       "      <td>0</td>\n",
       "      <td>0</td>\n",
       "      <td>0</td>\n",
       "      <td>0</td>\n",
       "      <td>0</td>\n",
       "      <td>0</td>\n",
       "    </tr>\n",
       "    <tr>\n",
       "      <th>4</th>\n",
       "      <td>0</td>\n",
       "      <td>0.020550</td>\n",
       "      <td>588718</td>\n",
       "      <td>0</td>\n",
       "      <td>1</td>\n",
       "      <td>0</td>\n",
       "      <td>0</td>\n",
       "      <td>0</td>\n",
       "      <td>0</td>\n",
       "      <td>0</td>\n",
       "      <td>0</td>\n",
       "      <td>0</td>\n",
       "      <td>0</td>\n",
       "      <td>0</td>\n",
       "      <td>0</td>\n",
       "    </tr>\n",
       "  </tbody>\n",
       "</table>\n",
       "</div>"
      ],
      "text/plain": [
       "   Lead  Lead_Prob  Lead Number  Predicted_Lead  0.0  0.1  0.2  0.3  0.4  0.5  \\\n",
       "0     0   0.006031       601495               0    1    0    0    0    0    0   \n",
       "1     0   0.061916       629871               0    1    0    0    0    0    0   \n",
       "2     1   0.981009       646558               1    1    1    1    1    1    1   \n",
       "3     0   0.014387       604384               0    1    0    0    0    0    0   \n",
       "4     0   0.020550       588718               0    1    0    0    0    0    0   \n",
       "\n",
       "   0.6  0.7  0.8  0.9  final_predicted  \n",
       "0    0    0    0    0                0  \n",
       "1    0    0    0    0                0  \n",
       "2    1    1    1    1                1  \n",
       "3    0    0    0    0                0  \n",
       "4    0    0    0    0                0  "
      ]
     },
     "execution_count": 146,
     "metadata": {},
     "output_type": "execute_result"
    }
   ],
   "source": [
    "y_train_pred_final['final_predicted'] = y_train_pred_final.Lead_Prob.map( lambda x: 1 if x > 0.44 else 0)\n",
    "\n",
    "y_train_pred_final.head()"
   ]
  },
  {
   "cell_type": "code",
   "execution_count": 147,
   "metadata": {},
   "outputs": [
    {
     "data": {
      "text/plain": [
       "0.9675704412546517"
      ]
     },
     "execution_count": 147,
     "metadata": {},
     "output_type": "execute_result"
    }
   ],
   "source": [
    "# Let's check the overall accuracy.\n",
    "metrics.accuracy_score(y_train_pred_final.Lead, y_train_pred_final.final_predicted)"
   ]
  },
  {
   "cell_type": "markdown",
   "metadata": {},
   "source": [
    "##### Precision\n",
    "TP / TP + FP"
   ]
  },
  {
   "cell_type": "code",
   "execution_count": 148,
   "metadata": {},
   "outputs": [
    {
     "data": {
      "text/plain": [
       "0.9644314868804664"
      ]
     },
     "execution_count": 148,
     "metadata": {},
     "output_type": "execute_result"
    }
   ],
   "source": [
    "confusion[1,1]/(confusion[0,1]+confusion[1,1])"
   ]
  },
  {
   "cell_type": "markdown",
   "metadata": {},
   "source": [
    "##### Recall\n",
    "TP / TP + FN"
   ]
  },
  {
   "cell_type": "code",
   "execution_count": 150,
   "metadata": {},
   "outputs": [
    {
     "data": {
      "text/plain": [
       "0.9644314868804664"
      ]
     },
     "execution_count": 150,
     "metadata": {},
     "output_type": "execute_result"
    }
   ],
   "source": [
    "confusion[1,1]/(confusion[1,0]+confusion[1,1])"
   ]
  },
  {
   "cell_type": "code",
   "execution_count": 154,
   "metadata": {},
   "outputs": [],
   "source": [
    "from sklearn.metrics import precision_recall_curve"
   ]
  },
  {
   "cell_type": "code",
   "execution_count": 157,
   "metadata": {},
   "outputs": [
    {
     "data": {
      "image/png": "[encoded data removed]",
      "text/plain": [
       "<Figure size 432x288 with 1 Axes>"
      ]
     },
     "metadata": {
      "needs_background": "light"
     },
     "output_type": "display_data"
    }
   ],
   "source": [
    "p, r, thresholds = precision_recall_curve(y_train_pred_final.Lead, y_train_pred_final.Lead_Prob)\n",
    "\n",
    "plt.plot(thresholds, p[:-1], \"g-\")\n",
    "plt.plot(thresholds, r[:-1], \"r-\")\n",
    "plt.show()"
   ]
  },
  {
   "cell_type": "markdown",
   "metadata": {},
   "source": [
    "This graph also refers to a number between 4 and 5"
   ]
  },
  {
   "cell_type": "markdown",
   "metadata": {},
   "source": [
    "## 8. Prediction Analysis"
   ]
  },
  {
   "cell_type": "markdown",
   "metadata": {},
   "source": [
    "### Making predictions on the test set"
   ]
  },
  {
   "cell_type": "code",
   "execution_count": 152,
   "metadata": {},
   "outputs": [
    {
     "name": "stderr",
     "output_type": "stream",
     "text": [
      "C:\\ProgramData\\Anaconda3\\lib\\site-packages\\ipykernel_launcher.py:1: DataConversionWarning: Data with input dtype int64, float64 were all converted to float64 by StandardScaler.\n",
      "  \"\"\"Entry point for launching an IPython kernel.\n"
     ]
    }
   ],
   "source": [
    "X_test[num_vars] = scaler.transform(X_test[num_vars])"
   ]
  },
  {
   "cell_type": "code",
   "execution_count": 153,
   "metadata": {},
   "outputs": [
    {
     "data": {
      "text/html": [
       "<div>\n",
       "<style scoped>\n",
       "    .dataframe tbody tr th:only-of-type {\n",
       "        vertical-align: middle;\n",
       "    }\n",
       "\n",
       "    .dataframe tbody tr th {\n",
       "        vertical-align: top;\n",
       "    }\n",
       "\n",
       "    .dataframe thead th {\n",
       "        text-align: right;\n",
       "    }\n",
       "</style>\n",
       "<table border=\"1\" class=\"dataframe\">\n",
       "  <thead>\n",
       "    <tr style=\"text-align: right;\">\n",
       "      <th></th>\n",
       "      <th>Total Time Spent on Website</th>\n",
       "      <th>Last Activity_SMS Sent</th>\n",
       "      <th>Tags_Busy</th>\n",
       "      <th>Tags_Closed by Horizzon</th>\n",
       "      <th>Tags_Lost to EINS</th>\n",
       "      <th>Tags_Ringing</th>\n",
       "      <th>Tags_Will revert after reading the email</th>\n",
       "      <th>Tags_in touch with EINS</th>\n",
       "      <th>Lead Profile_Select</th>\n",
       "      <th>Lead Profile_Student of SomeSchool</th>\n",
       "      <th>Last Notable Activity_Modified</th>\n",
       "    </tr>\n",
       "    <tr>\n",
       "      <th>Lead Number</th>\n",
       "      <th></th>\n",
       "      <th></th>\n",
       "      <th></th>\n",
       "      <th></th>\n",
       "      <th></th>\n",
       "      <th></th>\n",
       "      <th></th>\n",
       "      <th></th>\n",
       "      <th></th>\n",
       "      <th></th>\n",
       "      <th></th>\n",
       "    </tr>\n",
       "  </thead>\n",
       "  <tbody>\n",
       "    <tr>\n",
       "      <th>639019</th>\n",
       "      <td>-0.783087</td>\n",
       "      <td>1</td>\n",
       "      <td>0</td>\n",
       "      <td>0</td>\n",
       "      <td>0</td>\n",
       "      <td>1</td>\n",
       "      <td>0</td>\n",
       "      <td>0</td>\n",
       "      <td>1</td>\n",
       "      <td>0</td>\n",
       "      <td>1</td>\n",
       "    </tr>\n",
       "    <tr>\n",
       "      <th>655061</th>\n",
       "      <td>0.673809</td>\n",
       "      <td>0</td>\n",
       "      <td>0</td>\n",
       "      <td>0</td>\n",
       "      <td>0</td>\n",
       "      <td>0</td>\n",
       "      <td>1</td>\n",
       "      <td>0</td>\n",
       "      <td>0</td>\n",
       "      <td>0</td>\n",
       "      <td>1</td>\n",
       "    </tr>\n",
       "    <tr>\n",
       "      <th>630779</th>\n",
       "      <td>2.610371</td>\n",
       "      <td>0</td>\n",
       "      <td>0</td>\n",
       "      <td>0</td>\n",
       "      <td>0</td>\n",
       "      <td>0</td>\n",
       "      <td>1</td>\n",
       "      <td>0</td>\n",
       "      <td>1</td>\n",
       "      <td>0</td>\n",
       "      <td>1</td>\n",
       "    </tr>\n",
       "    <tr>\n",
       "      <th>583741</th>\n",
       "      <td>0.985234</td>\n",
       "      <td>0</td>\n",
       "      <td>0</td>\n",
       "      <td>0</td>\n",
       "      <td>0</td>\n",
       "      <td>1</td>\n",
       "      <td>0</td>\n",
       "      <td>0</td>\n",
       "      <td>0</td>\n",
       "      <td>0</td>\n",
       "      <td>0</td>\n",
       "    </tr>\n",
       "    <tr>\n",
       "      <th>605602</th>\n",
       "      <td>-0.842150</td>\n",
       "      <td>0</td>\n",
       "      <td>0</td>\n",
       "      <td>0</td>\n",
       "      <td>0</td>\n",
       "      <td>0</td>\n",
       "      <td>0</td>\n",
       "      <td>0</td>\n",
       "      <td>1</td>\n",
       "      <td>0</td>\n",
       "      <td>0</td>\n",
       "    </tr>\n",
       "  </tbody>\n",
       "</table>\n",
       "</div>"
      ],
      "text/plain": [
       "             Total Time Spent on Website  Last Activity_SMS Sent  Tags_Busy  \\\n",
       "Lead Number                                                                   \n",
       "639019                         -0.783087                       1          0   \n",
       "655061                          0.673809                       0          0   \n",
       "630779                          2.610371                       0          0   \n",
       "583741                          0.985234                       0          0   \n",
       "605602                         -0.842150                       0          0   \n",
       "\n",
       "             Tags_Closed by Horizzon  Tags_Lost to EINS  Tags_Ringing  \\\n",
       "Lead Number                                                             \n",
       "639019                             0                  0             1   \n",
       "655061                             0                  0             0   \n",
       "630779                             0                  0             0   \n",
       "583741                             0                  0             1   \n",
       "605602                             0                  0             0   \n",
       "\n",
       "             Tags_Will revert after reading the email  \\\n",
       "Lead Number                                             \n",
       "639019                                              0   \n",
       "655061                                              1   \n",
       "630779                                              1   \n",
       "583741                                              0   \n",
       "605602                                              0   \n",
       "\n",
       "             Tags_in touch with EINS  Lead Profile_Select  \\\n",
       "Lead Number                                                 \n",
       "639019                             0                    1   \n",
       "655061                             0                    0   \n",
       "630779                             0                    1   \n",
       "583741                             0                    0   \n",
       "605602                             0                    1   \n",
       "\n",
       "             Lead Profile_Student of SomeSchool  \\\n",
       "Lead Number                                       \n",
       "639019                                        0   \n",
       "655061                                        0   \n",
       "630779                                        0   \n",
       "583741                                        0   \n",
       "605602                                        0   \n",
       "\n",
       "             Last Notable Activity_Modified  \n",
       "Lead Number                                  \n",
       "639019                                    1  \n",
       "655061                                    1  \n",
       "630779                                    1  \n",
       "583741                                    0  \n",
       "605602                                    0  "
      ]
     },
     "execution_count": 153,
     "metadata": {},
     "output_type": "execute_result"
    }
   ],
   "source": [
    "X_test = X_test[col]\n",
    "X_test.head()"
   ]
  },
  {
   "cell_type": "code",
   "execution_count": 158,
   "metadata": {},
   "outputs": [],
   "source": [
    "X_test_sm = sm.add_constant(X_test)"
   ]
  },
  {
   "cell_type": "markdown",
   "metadata": {},
   "source": [
    "Making predictions on the test set"
   ]
  },
  {
   "cell_type": "code",
   "execution_count": 160,
   "metadata": {},
   "outputs": [],
   "source": [
    "y_test_pred = log_model.predict(X_test_sm)"
   ]
  },
  {
   "cell_type": "code",
   "execution_count": 168,
   "metadata": {
    "scrolled": true
   },
   "outputs": [
    {
     "data": {
      "text/html": [
       "<div>\n",
       "<style scoped>\n",
       "    .dataframe tbody tr th:only-of-type {\n",
       "        vertical-align: middle;\n",
       "    }\n",
       "\n",
       "    .dataframe tbody tr th {\n",
       "        vertical-align: top;\n",
       "    }\n",
       "\n",
       "    .dataframe thead th {\n",
       "        text-align: right;\n",
       "    }\n",
       "</style>\n",
       "<table border=\"1\" class=\"dataframe\">\n",
       "  <thead>\n",
       "    <tr style=\"text-align: right;\">\n",
       "      <th></th>\n",
       "      <th>0</th>\n",
       "    </tr>\n",
       "    <tr>\n",
       "      <th>Lead Number</th>\n",
       "      <th></th>\n",
       "    </tr>\n",
       "  </thead>\n",
       "  <tbody>\n",
       "    <tr>\n",
       "      <th>639019</th>\n",
       "      <td>0.005960</td>\n",
       "    </tr>\n",
       "    <tr>\n",
       "      <th>655061</th>\n",
       "      <td>0.971398</td>\n",
       "    </tr>\n",
       "    <tr>\n",
       "      <th>630779</th>\n",
       "      <td>0.986617</td>\n",
       "    </tr>\n",
       "    <tr>\n",
       "      <th>583741</th>\n",
       "      <td>0.051718</td>\n",
       "    </tr>\n",
       "    <tr>\n",
       "      <th>605602</th>\n",
       "      <td>0.005152</td>\n",
       "    </tr>\n",
       "  </tbody>\n",
       "</table>\n",
       "</div>"
      ],
      "text/plain": [
       "                    0\n",
       "Lead Number          \n",
       "639019       0.005960\n",
       "655061       0.971398\n",
       "630779       0.986617\n",
       "583741       0.051718\n",
       "605602       0.005152"
      ]
     },
     "execution_count": 168,
     "metadata": {},
     "output_type": "execute_result"
    }
   ],
   "source": [
    "# Converting y_pred to a dataframe which is an array\n",
    "y_pred = pd.DataFrame(y_test_pred)\n",
    "\n",
    "# Let's see the head\n",
    "y_pred.head()"
   ]
  },
  {
   "cell_type": "code",
   "execution_count": 169,
   "metadata": {},
   "outputs": [],
   "source": [
    "y_pred = y_pred.rename(columns={0: 'Lead_Prob'})"
   ]
  },
  {
   "cell_type": "code",
   "execution_count": 170,
   "metadata": {},
   "outputs": [
    {
     "data": {
      "text/html": [
       "<div>\n",
       "<style scoped>\n",
       "    .dataframe tbody tr th:only-of-type {\n",
       "        vertical-align: middle;\n",
       "    }\n",
       "\n",
       "    .dataframe tbody tr th {\n",
       "        vertical-align: top;\n",
       "    }\n",
       "\n",
       "    .dataframe thead th {\n",
       "        text-align: right;\n",
       "    }\n",
       "</style>\n",
       "<table border=\"1\" class=\"dataframe\">\n",
       "  <thead>\n",
       "    <tr style=\"text-align: right;\">\n",
       "      <th></th>\n",
       "      <th>Converted</th>\n",
       "    </tr>\n",
       "    <tr>\n",
       "      <th>Lead Number</th>\n",
       "      <th></th>\n",
       "    </tr>\n",
       "  </thead>\n",
       "  <tbody>\n",
       "    <tr>\n",
       "      <th>639019</th>\n",
       "      <td>0</td>\n",
       "    </tr>\n",
       "    <tr>\n",
       "      <th>655061</th>\n",
       "      <td>1</td>\n",
       "    </tr>\n",
       "    <tr>\n",
       "      <th>630779</th>\n",
       "      <td>1</td>\n",
       "    </tr>\n",
       "    <tr>\n",
       "      <th>583741</th>\n",
       "      <td>0</td>\n",
       "    </tr>\n",
       "    <tr>\n",
       "      <th>605602</th>\n",
       "      <td>0</td>\n",
       "    </tr>\n",
       "  </tbody>\n",
       "</table>\n",
       "</div>"
      ],
      "text/plain": [
       "             Converted\n",
       "Lead Number           \n",
       "639019               0\n",
       "655061               1\n",
       "630779               1\n",
       "583741               0\n",
       "605602               0"
      ]
     },
     "execution_count": 170,
     "metadata": {},
     "output_type": "execute_result"
    }
   ],
   "source": [
    "# Converting y_test to dataframe\n",
    "y_test_df = pd.DataFrame(y_test)\n",
    "y_test_df.head()"
   ]
  },
  {
   "cell_type": "code",
   "execution_count": 171,
   "metadata": {},
   "outputs": [],
   "source": [
    "# Appending y_test_df and y_pred\n",
    "y_pred_final = pd.concat([y_test_df, y_pred],axis=1)"
   ]
  },
  {
   "cell_type": "code",
   "execution_count": 172,
   "metadata": {},
   "outputs": [
    {
     "data": {
      "text/html": [
       "<div>\n",
       "<style scoped>\n",
       "    .dataframe tbody tr th:only-of-type {\n",
       "        vertical-align: middle;\n",
       "    }\n",
       "\n",
       "    .dataframe tbody tr th {\n",
       "        vertical-align: top;\n",
       "    }\n",
       "\n",
       "    .dataframe thead th {\n",
       "        text-align: right;\n",
       "    }\n",
       "</style>\n",
       "<table border=\"1\" class=\"dataframe\">\n",
       "  <thead>\n",
       "    <tr style=\"text-align: right;\">\n",
       "      <th></th>\n",
       "      <th>Converted</th>\n",
       "      <th>Lead_Prob</th>\n",
       "    </tr>\n",
       "    <tr>\n",
       "      <th>Lead Number</th>\n",
       "      <th></th>\n",
       "      <th></th>\n",
       "    </tr>\n",
       "  </thead>\n",
       "  <tbody>\n",
       "    <tr>\n",
       "      <th>639019</th>\n",
       "      <td>0</td>\n",
       "      <td>0.005960</td>\n",
       "    </tr>\n",
       "    <tr>\n",
       "      <th>655061</th>\n",
       "      <td>1</td>\n",
       "      <td>0.971398</td>\n",
       "    </tr>\n",
       "    <tr>\n",
       "      <th>630779</th>\n",
       "      <td>1</td>\n",
       "      <td>0.986617</td>\n",
       "    </tr>\n",
       "    <tr>\n",
       "      <th>583741</th>\n",
       "      <td>0</td>\n",
       "      <td>0.051718</td>\n",
       "    </tr>\n",
       "    <tr>\n",
       "      <th>605602</th>\n",
       "      <td>0</td>\n",
       "      <td>0.005152</td>\n",
       "    </tr>\n",
       "  </tbody>\n",
       "</table>\n",
       "</div>"
      ],
      "text/plain": [
       "             Converted  Lead_Prob\n",
       "Lead Number                      \n",
       "639019               0   0.005960\n",
       "655061               1   0.971398\n",
       "630779               1   0.986617\n",
       "583741               0   0.051718\n",
       "605602               0   0.005152"
      ]
     },
     "execution_count": 172,
     "metadata": {},
     "output_type": "execute_result"
    }
   ],
   "source": [
    "y_pred_final.head()"
   ]
  },
  {
   "cell_type": "code",
   "execution_count": 173,
   "metadata": {},
   "outputs": [
    {
     "data": {
      "text/html": [
       "<div>\n",
       "<style scoped>\n",
       "    .dataframe tbody tr th:only-of-type {\n",
       "        vertical-align: middle;\n",
       "    }\n",
       "\n",
       "    .dataframe tbody tr th {\n",
       "        vertical-align: top;\n",
       "    }\n",
       "\n",
       "    .dataframe thead th {\n",
       "        text-align: right;\n",
       "    }\n",
       "</style>\n",
       "<table border=\"1\" class=\"dataframe\">\n",
       "  <thead>\n",
       "    <tr style=\"text-align: right;\">\n",
       "      <th></th>\n",
       "      <th>Lead Number</th>\n",
       "      <th>Converted</th>\n",
       "      <th>Lead_Prob</th>\n",
       "    </tr>\n",
       "  </thead>\n",
       "  <tbody>\n",
       "    <tr>\n",
       "      <th>0</th>\n",
       "      <td>639019</td>\n",
       "      <td>0</td>\n",
       "      <td>0.005960</td>\n",
       "    </tr>\n",
       "    <tr>\n",
       "      <th>1</th>\n",
       "      <td>655061</td>\n",
       "      <td>1</td>\n",
       "      <td>0.971398</td>\n",
       "    </tr>\n",
       "    <tr>\n",
       "      <th>2</th>\n",
       "      <td>630779</td>\n",
       "      <td>1</td>\n",
       "      <td>0.986617</td>\n",
       "    </tr>\n",
       "    <tr>\n",
       "      <th>3</th>\n",
       "      <td>583741</td>\n",
       "      <td>0</td>\n",
       "      <td>0.051718</td>\n",
       "    </tr>\n",
       "    <tr>\n",
       "      <th>4</th>\n",
       "      <td>605602</td>\n",
       "      <td>0</td>\n",
       "      <td>0.005152</td>\n",
       "    </tr>\n",
       "  </tbody>\n",
       "</table>\n",
       "</div>"
      ],
      "text/plain": [
       "   Lead Number  Converted  Lead_Prob\n",
       "0       639019          0   0.005960\n",
       "1       655061          1   0.971398\n",
       "2       630779          1   0.986617\n",
       "3       583741          0   0.051718\n",
       "4       605602          0   0.005152"
      ]
     },
     "execution_count": 173,
     "metadata": {},
     "output_type": "execute_result"
    }
   ],
   "source": [
    "# resetting the index\n",
    "y_pred_final.reset_index(inplace=True)\n",
    "y_pred_final.head()"
   ]
  },
  {
   "cell_type": "code",
   "execution_count": 175,
   "metadata": {},
   "outputs": [
    {
     "data": {
      "text/html": [
       "<div>\n",
       "<style scoped>\n",
       "    .dataframe tbody tr th:only-of-type {\n",
       "        vertical-align: middle;\n",
       "    }\n",
       "\n",
       "    .dataframe tbody tr th {\n",
       "        vertical-align: top;\n",
       "    }\n",
       "\n",
       "    .dataframe thead th {\n",
       "        text-align: right;\n",
       "    }\n",
       "</style>\n",
       "<table border=\"1\" class=\"dataframe\">\n",
       "  <thead>\n",
       "    <tr style=\"text-align: right;\">\n",
       "      <th></th>\n",
       "      <th>Lead Number</th>\n",
       "      <th>Converted</th>\n",
       "      <th>Lead_Prob</th>\n",
       "      <th>final_predicted</th>\n",
       "    </tr>\n",
       "  </thead>\n",
       "  <tbody>\n",
       "    <tr>\n",
       "      <th>0</th>\n",
       "      <td>639019</td>\n",
       "      <td>0</td>\n",
       "      <td>0.005960</td>\n",
       "      <td>0</td>\n",
       "    </tr>\n",
       "    <tr>\n",
       "      <th>1</th>\n",
       "      <td>655061</td>\n",
       "      <td>1</td>\n",
       "      <td>0.971398</td>\n",
       "      <td>1</td>\n",
       "    </tr>\n",
       "    <tr>\n",
       "      <th>2</th>\n",
       "      <td>630779</td>\n",
       "      <td>1</td>\n",
       "      <td>0.986617</td>\n",
       "      <td>1</td>\n",
       "    </tr>\n",
       "    <tr>\n",
       "      <th>3</th>\n",
       "      <td>583741</td>\n",
       "      <td>0</td>\n",
       "      <td>0.051718</td>\n",
       "      <td>0</td>\n",
       "    </tr>\n",
       "    <tr>\n",
       "      <th>4</th>\n",
       "      <td>605602</td>\n",
       "      <td>0</td>\n",
       "      <td>0.005152</td>\n",
       "      <td>0</td>\n",
       "    </tr>\n",
       "  </tbody>\n",
       "</table>\n",
       "</div>"
      ],
      "text/plain": [
       "   Lead Number  Converted  Lead_Prob  final_predicted\n",
       "0       639019          0   0.005960                0\n",
       "1       655061          1   0.971398                1\n",
       "2       630779          1   0.986617                1\n",
       "3       583741          0   0.051718                0\n",
       "4       605602          0   0.005152                0"
      ]
     },
     "execution_count": 175,
     "metadata": {},
     "output_type": "execute_result"
    }
   ],
   "source": [
    "y_pred_final['final_predicted'] = y_pred_final.Lead_Prob.map(lambda x: 1 if x > 0.44 else 0)\n",
    "y_pred_final.head()"
   ]
  },
  {
   "cell_type": "markdown",
   "metadata": {},
   "source": [
    "#### Checking the Accuracy"
   ]
  },
  {
   "cell_type": "code",
   "execution_count": 177,
   "metadata": {},
   "outputs": [
    {
     "data": {
      "text/plain": [
       "0.9547427154370738"
      ]
     },
     "execution_count": 177,
     "metadata": {},
     "output_type": "execute_result"
    }
   ],
   "source": [
    "# Let's check the overall accuracy.\n",
    "metrics.accuracy_score(y_pred_final.Converted, y_pred_final.final_predicted)"
   ]
  },
  {
   "cell_type": "markdown",
   "metadata": {},
   "source": [
    "<font color='red' size=5> The Accuracy for predictions of out Logistic Regression Model is 95.47%.</font>"
   ]
  }
 ],
 "metadata": {
  "kernelspec": {
   "display_name": "Python 3",
   "language": "python",
   "name": "python3"
  },
  "language_info": {
   "codemirror_mode": {
    "name": "ipython",
    "version": 3
   },
   "file_extension": ".py",
   "mimetype": "text/x-python",
   "name": "python",
   "nbconvert_exporter": "python",
   "pygments_lexer": "ipython3",
   "version": "3.7.3"
  }
 },
 "nbformat": 4,
 "nbformat_minor": 2
}
